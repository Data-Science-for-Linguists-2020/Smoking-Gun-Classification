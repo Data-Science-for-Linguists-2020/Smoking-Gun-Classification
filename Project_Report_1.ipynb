{
 "cells": [
  {
   "cell_type": "markdown",
   "metadata": {},
   "source": [
    "# Project Report I: Data Cleaning"
   ]
  },
  {
   "cell_type": "markdown",
   "metadata": {},
   "source": [
    "**Report Brief**<br>\n",
    "In this progress report, I'm hoping to do as much of the data processing as I can, although I don't expect to finish. The breakdown of my project likely means that the heaviest proportion of work will fall on data cleaning/organization, and then EDA, with visualization and analysis being the least intensive section. This is because my project is product-centric--first and foremost, I'm trying to make a *thing* that can classify data.\n",
    "___\n",
    "**Goals**\n",
    "\n",
    "Here's a list of things I'm hoping to accomplish in the first portion of my project:\n",
    "1. Fix the Markdown formatting for my README and other files\n",
    "2. Add data sample to GitHub\n",
    "3. read in data from different folders/sources\n",
    "4. create a sample DF with a few columns of useful data\n",
    "    1. text\n",
    "    2. folder it is in\n",
    "    3. length of email\n",
    "    4. to/from\n",
    "5. visualize some of the data with a few statistical tests or plots\n",
    "\n",
    "B and D will likely be fairly difficult, and just reading in the data isn't easy, so I'm really aiming to accomplish 1, 2, 3, and 4. Lets see how it goes!\n",
    "___\n",
    "**Sharing Data**<br>\n",
    "In regards to sharing data, there is a bit of a problem in that the source from which I took my data (http://www.cs.cmu.edu/~enron/) doesn't make mention of any type of licensing. I'm going to need to look into this further, but I'm tentatively planning on my data sample being just one (anonymized) person's emails, since this is the most natural data member of the corpus. This will clearly demonstrate the shape and scope of the corpus without taking up too much space or compromising privacy."
   ]
  },
  {
   "cell_type": "code",
   "execution_count": 1,
   "metadata": {},
   "outputs": [],
   "source": [
    "import nltk\n",
    "from nltk.corpus import PlaintextCorpusReader as cr\n",
    "import pandas as pd\n",
    "import numpy as np"
   ]
  },
  {
   "cell_type": "code",
   "execution_count": 2,
   "metadata": {},
   "outputs": [
    {
     "name": "stdout",
     "output_type": "stream",
     "text": [
      "628\n"
     ]
    }
   ],
   "source": [
    "corpus_root = 'C:/Users/Brett/Desktop/Enron_Emails/maildir/'\n",
    "all_allen_p = 'allen-p/all_documents'\n",
    "all_files = cr(corpus_root + all_allen_p, \".*\")\n",
    "print(len(all_files.fileids()))\n",
    "#needs a way to go one in, regardless of name\n",
    "#plaintext reader?"
   ]
  },
  {
   "cell_type": "code",
   "execution_count": 3,
   "metadata": {},
   "outputs": [
    {
     "data": {
      "text/plain": [
       "['Message', '-', 'ID', ':', '<', '29790972', '.', ...]"
      ]
     },
     "execution_count": 3,
     "metadata": {},
     "output_type": "execute_result"
    }
   ],
   "source": [
    "all_files.words(all_files.fileids()[0])"
   ]
  }
 ],
 "metadata": {
  "kernelspec": {
   "display_name": "Python 3",
   "language": "python",
   "name": "python3"
  },
  "language_info": {
   "codemirror_mode": {
    "name": "ipython",
    "version": 3
   },
   "file_extension": ".py",
   "mimetype": "text/x-python",
   "name": "python",
   "nbconvert_exporter": "python",
   "pygments_lexer": "ipython3",
   "version": "3.7.4"
  }
 },
 "nbformat": 4,
 "nbformat_minor": 2
}
