{
 "cells": [
  {
   "cell_type": "markdown",
   "metadata": {},
   "source": [
    "# Project Report IV: Finally, Some Data Analysis!\n",
    "___\n",
    "**Brief:**<br>\n",
    "In this report, I'll be taking on the unsupervised and then supervised learning tasks for my project.\n",
    "\n",
    "**Sections:**<br>\n",
    "1. [Failed Unsupervised Learning: A Prologue](#1)\n",
    "2. [Data Exploration](#2)\n",
    "3. [Supervised Learning](#2)\n",
    "___\n",
    "<a id='1'>"
   ]
  },
  {
   "cell_type": "markdown",
   "metadata": {},
   "source": [
    "## Failed Unsupervised Learning: A Prologue\n",
    "<a id='1a'>"
   ]
  },
  {
   "cell_type": "code",
   "execution_count": 1,
   "metadata": {},
   "outputs": [],
   "source": [
    "from IPython.core.interactiveshell import InteractiveShell\n",
    "InteractiveShell.ast_node_interactivity = \"all\"\n",
    "import nltk\n",
    "from nltk.corpus import PlaintextCorpusReader as cr\n",
    "import pandas as pd\n",
    "import numpy as np\n",
    "import sklearn\n",
    "from sklearn.feature_extraction.text import TfidfVectorizer"
   ]
  },
  {
   "cell_type": "code",
   "execution_count": 2,
   "metadata": {},
   "outputs": [],
   "source": [
    "import pickle\n",
    "file = open('email_df', 'rb')\n",
    "email_df = pickle.load(file)\n",
    "file.close()"
   ]
  },
  {
   "cell_type": "code",
   "execution_count": 3,
   "metadata": {},
   "outputs": [
    {
     "data": {
      "text/html": [
       "<div>\n",
       "<style scoped>\n",
       "    .dataframe tbody tr th:only-of-type {\n",
       "        vertical-align: middle;\n",
       "    }\n",
       "\n",
       "    .dataframe tbody tr th {\n",
       "        vertical-align: top;\n",
       "    }\n",
       "\n",
       "    .dataframe thead th {\n",
       "        text-align: right;\n",
       "    }\n",
       "</style>\n",
       "<table border=\"1\" class=\"dataframe\">\n",
       "  <thead>\n",
       "    <tr style=\"text-align: right;\">\n",
       "      <th></th>\n",
       "      <th>Date</th>\n",
       "      <th>From</th>\n",
       "      <th>To</th>\n",
       "      <th>Subject</th>\n",
       "      <th>Cc</th>\n",
       "      <th>Bcc</th>\n",
       "      <th>X-From</th>\n",
       "      <th>X-To</th>\n",
       "      <th>X-cc</th>\n",
       "      <th>X-bcc</th>\n",
       "      <th>X-Folder</th>\n",
       "      <th>X-FileName</th>\n",
       "      <th>Text</th>\n",
       "      <th>Folder</th>\n",
       "      <th>User</th>\n",
       "    </tr>\n",
       "  </thead>\n",
       "  <tbody>\n",
       "    <tr>\n",
       "      <td>108999</td>\n",
       "      <td>Wed, 13 Sep 2000 07:53:00 -0700 (PDT)</td>\n",
       "      <td>daren.farmer@enron.com</td>\n",
       "      <td>julie.meyers@enron.com</td>\n",
       "      <td>contract expirations</td>\n",
       "      <td>1.0</td>\n",
       "      <td>Julie Meyers</td>\n",
       "      <td></td>\n",
       "      <td></td>\n",
       "      <td>\\Darren_Farmer_Dec2000\\Notes Folders\\'sent mail</td>\n",
       "      <td>Farmer-D</td>\n",
       "      <td>dfarmer.nsf</td>\n",
       "      <td>None</td>\n",
       "      <td>Julie, \\n\\nIn Sitara, the following purchases ...</td>\n",
       "      <td>_sent_mail</td>\n",
       "      <td>farmer-d</td>\n",
       "    </tr>\n",
       "    <tr>\n",
       "      <td>104460</td>\n",
       "      <td>Tue, 11 Apr 2000 02:33:00 -0700 (PDT)</td>\n",
       "      <td>jackie.young@enron.com</td>\n",
       "      <td>robert.lloyd@enron.com</td>\n",
       "      <td>FYI - Gas flow</td>\n",
       "      <td>pat.clynes@enron.com, daren.farmer@enron.com, ...</td>\n",
       "      <td>pat.clynes@enron.com, daren.farmer@enron.com, ...</td>\n",
       "      <td>Jackie Young</td>\n",
       "      <td>Robert E Lloyd</td>\n",
       "      <td>Pat Clynes, Daren J Farmer, Gary W Lamphier</td>\n",
       "      <td></td>\n",
       "      <td>\\Darren_Farmer_Dec2000\\Notes Folders\\Discussio...</td>\n",
       "      <td>dfarmer.nsf</td>\n",
       "      <td>---------------------- Forwarded by Jackie You...</td>\n",
       "      <td>discussion_threads</td>\n",
       "      <td>farmer-d</td>\n",
       "    </tr>\n",
       "    <tr>\n",
       "      <td>196164</td>\n",
       "      <td>Wed, 20 Dec 2000 18:02:00 -0800 (PST)</td>\n",
       "      <td>enron.announcements@enron.com</td>\n",
       "      <td>all.america@enron.com</td>\n",
       "      <td>December 22 - SRRS Decommissioning Notification</td>\n",
       "      <td>1.0</td>\n",
       "      <td>All Enron Corp North America</td>\n",
       "      <td></td>\n",
       "      <td></td>\n",
       "      <td>\\Vincent_Kaminski_Jun2001_1\\Notes Folders\\All ...</td>\n",
       "      <td>Kaminski-V</td>\n",
       "      <td>vkamins.nsf</td>\n",
       "      <td>None</td>\n",
       "      <td>SRRS Decommissioning Notification\\n\\nWe are on...</td>\n",
       "      <td>all_documents</td>\n",
       "      <td>kaminski-v</td>\n",
       "    </tr>\n",
       "    <tr>\n",
       "      <td>11633</td>\n",
       "      <td>Thu, 2 Nov 2000 08:25:00 -0800 (PST)</td>\n",
       "      <td>jason.bass2@compaq.com</td>\n",
       "      <td>Caution ... bad language</td>\n",
       "      <td>1.0</td>\n",
       "      <td>text/plain; charset=us-ascii</td>\n",
       "      <td></td>\n",
       "      <td></td>\n",
       "      <td>\\Eric_Bass_Dec2000\\Notes Folders\\All documents</td>\n",
       "      <td>Bass-E</td>\n",
       "      <td>ebass.nsf</td>\n",
       "      <td>None</td>\n",
       "      <td>None</td>\n",
       "      <td>- dab.exe</td>\n",
       "      <td>all_documents</td>\n",
       "      <td>bass-e</td>\n",
       "    </tr>\n",
       "    <tr>\n",
       "      <td>128703</td>\n",
       "      <td>Mon, 22 May 2000 04:39:00 -0700 (PDT)</td>\n",
       "      <td>chris.germany@enron.com</td>\n",
       "      <td>john.singer@enron.com</td>\n",
       "      <td>Local Prod</td>\n",
       "      <td>1.0</td>\n",
       "      <td>John M Singer</td>\n",
       "      <td></td>\n",
       "      <td></td>\n",
       "      <td>\\Chris_Germany_Dec2000\\Notes Folders\\Sent</td>\n",
       "      <td>Germany-C</td>\n",
       "      <td>cgerman.nsf</td>\n",
       "      <td>None</td>\n",
       "      <td>Just got word from EES, they can take the EOG ...</td>\n",
       "      <td>sent</td>\n",
       "      <td>germany-c</td>\n",
       "    </tr>\n",
       "  </tbody>\n",
       "</table>\n",
       "</div>"
      ],
      "text/plain": [
       "                                         Date                           From  \\\n",
       "108999  Wed, 13 Sep 2000 07:53:00 -0700 (PDT)         daren.farmer@enron.com   \n",
       "104460  Tue, 11 Apr 2000 02:33:00 -0700 (PDT)         jackie.young@enron.com   \n",
       "196164  Wed, 20 Dec 2000 18:02:00 -0800 (PST)  enron.announcements@enron.com   \n",
       "11633    Thu, 2 Nov 2000 08:25:00 -0800 (PST)         jason.bass2@compaq.com   \n",
       "128703  Mon, 22 May 2000 04:39:00 -0700 (PDT)        chris.germany@enron.com   \n",
       "\n",
       "                              To  \\\n",
       "108999    julie.meyers@enron.com   \n",
       "104460    robert.lloyd@enron.com   \n",
       "196164     all.america@enron.com   \n",
       "11633   Caution ... bad language   \n",
       "128703     john.singer@enron.com   \n",
       "\n",
       "                                                Subject  \\\n",
       "108999                             contract expirations   \n",
       "104460                                   FYI - Gas flow   \n",
       "196164  December 22 - SRRS Decommissioning Notification   \n",
       "11633                                               1.0   \n",
       "128703                                       Local Prod   \n",
       "\n",
       "                                                       Cc  \\\n",
       "108999                                                1.0   \n",
       "104460  pat.clynes@enron.com, daren.farmer@enron.com, ...   \n",
       "196164                                                1.0   \n",
       "11633                        text/plain; charset=us-ascii   \n",
       "128703                                                1.0   \n",
       "\n",
       "                                                      Bcc        X-From  \\\n",
       "108999                                       Julie Meyers                 \n",
       "104460  pat.clynes@enron.com, daren.farmer@enron.com, ...  Jackie Young   \n",
       "196164                       All Enron Corp North America                 \n",
       "11633                                                                     \n",
       "128703                                      John M Singer                 \n",
       "\n",
       "                                                  X-To  \\\n",
       "108999                                                   \n",
       "104460                                  Robert E Lloyd   \n",
       "196164                                                   \n",
       "11633   \\Eric_Bass_Dec2000\\Notes Folders\\All documents   \n",
       "128703                                                   \n",
       "\n",
       "                                                     X-cc       X-bcc  \\\n",
       "108999    \\Darren_Farmer_Dec2000\\Notes Folders\\'sent mail    Farmer-D   \n",
       "104460        Pat Clynes, Daren J Farmer, Gary W Lamphier               \n",
       "196164  \\Vincent_Kaminski_Jun2001_1\\Notes Folders\\All ...  Kaminski-V   \n",
       "11633                                              Bass-E   ebass.nsf   \n",
       "128703          \\Chris_Germany_Dec2000\\Notes Folders\\Sent   Germany-C   \n",
       "\n",
       "                                                 X-Folder   X-FileName  \\\n",
       "108999                                        dfarmer.nsf         None   \n",
       "104460  \\Darren_Farmer_Dec2000\\Notes Folders\\Discussio...  dfarmer.nsf   \n",
       "196164                                        vkamins.nsf         None   \n",
       "11633                                                None         None   \n",
       "128703                                        cgerman.nsf         None   \n",
       "\n",
       "                                                     Text              Folder  \\\n",
       "108999  Julie, \\n\\nIn Sitara, the following purchases ...          _sent_mail   \n",
       "104460  ---------------------- Forwarded by Jackie You...  discussion_threads   \n",
       "196164  SRRS Decommissioning Notification\\n\\nWe are on...       all_documents   \n",
       "11633                                           - dab.exe       all_documents   \n",
       "128703  Just got word from EES, they can take the EOG ...                sent   \n",
       "\n",
       "              User  \n",
       "108999    farmer-d  \n",
       "104460    farmer-d  \n",
       "196164  kaminski-v  \n",
       "11633       bass-e  \n",
       "128703   germany-c  "
      ]
     },
     "execution_count": 3,
     "metadata": {},
     "output_type": "execute_result"
    }
   ],
   "source": [
    "small_df = email_df.sample(20000)\n",
    "small_df[:5]"
   ]
  },
  {
   "cell_type": "markdown",
   "metadata": {},
   "source": [
    "*Note*: So at this point, there is just too much data. Going to use \"small_df\" the rest of the way.<br>\n",
    "*Python Note*: We need .sample() here! I did this whole thing without it and it was just two users..."
   ]
  },
  {
   "cell_type": "code",
   "execution_count": 4,
   "metadata": {},
   "outputs": [],
   "source": [
    "#vectorizer = TfidfVectorizer(stop_words=\"english\")\n",
    "#text_tfidf = vectorizer.fit_transform(text)\n",
    "#text_tfidf"
   ]
  },
  {
   "cell_type": "code",
   "execution_count": 5,
   "metadata": {},
   "outputs": [],
   "source": [
    "#from sklearn.cluster import KMeans\n",
    "#k_model = KMeans(n_clusters=3)\n",
    "#k_model.fit(text_tfidf)\n",
    "#k_model.predict(text_tfidf)\n",
    "#labels = k_model.labels_"
   ]
  },
  {
   "cell_type": "code",
   "execution_count": 6,
   "metadata": {},
   "outputs": [],
   "source": [
    "#import matplotlib.pyplot as plt\n",
    "#from mpl_toolkits.mplot3d import Axes3D\n",
    "#plot = plt.figure()\n",
    "#ax = Axes3D(plot, rect=[0, 0, 0.95, 1], elev=48, azim=134)\n",
    "#ax.scatter(text[:, 3], text[:, 0], text[:, 2],\n",
    "#          c=labels.astype(np.float), edgecolor=\"k\", s=50)\n",
    "#ax.set_xlabel(\"x\")\n",
    "#ax.set_ylabel(\"y\")\n",
    "#ax.set_zlabel(\"z\")\n",
    "#plt.title(\"K Means\", fontsize=14)"
   ]
  },
  {
   "cell_type": "markdown",
   "metadata": {},
   "source": [
    "*Summary*: So, ultimately this has been a very confusing experience for me. I tried to take on unsupervised learning, but I'm really finding myself learning much more on tutorials than I'd like to. Instead, let's take a step back and look other parts of the data, then revisit this.\n",
    "<a id='2'>"
   ]
  },
  {
   "cell_type": "markdown",
   "metadata": {},
   "source": [
    "## Data Exploration"
   ]
  },
  {
   "cell_type": "markdown",
   "metadata": {},
   "source": [
    "***DateTime and Chronology***<br>\n",
    "Much of what follows is inspired by a fantastic resource I found on Kaggle (https://www.kaggle.com/dfoly1/k-means-clustering-from-scratch). I'll be using it to help organize my DF better (the _to_datetime_ thing and much of the unsupervised learning)."
   ]
  },
  {
   "cell_type": "markdown",
   "metadata": {},
   "source": [
    "My first goal is to get a sense of when these emails were sent, so we'll be using the DateTime library!"
   ]
  },
  {
   "cell_type": "code",
   "execution_count": 7,
   "metadata": {},
   "outputs": [],
   "source": [
    "small_df['Date'] = pd.to_datetime(small_df['Date'], infer_datetime_format=True)"
   ]
  },
  {
   "cell_type": "code",
   "execution_count": 8,
   "metadata": {},
   "outputs": [
    {
     "data": {
      "text/html": [
       "<div>\n",
       "<style scoped>\n",
       "    .dataframe tbody tr th:only-of-type {\n",
       "        vertical-align: middle;\n",
       "    }\n",
       "\n",
       "    .dataframe tbody tr th {\n",
       "        vertical-align: top;\n",
       "    }\n",
       "\n",
       "    .dataframe thead th {\n",
       "        text-align: right;\n",
       "    }\n",
       "</style>\n",
       "<table border=\"1\" class=\"dataframe\">\n",
       "  <thead>\n",
       "    <tr style=\"text-align: right;\">\n",
       "      <th></th>\n",
       "      <th>Date</th>\n",
       "      <th>From</th>\n",
       "      <th>To</th>\n",
       "      <th>Subject</th>\n",
       "      <th>Cc</th>\n",
       "      <th>Bcc</th>\n",
       "      <th>X-From</th>\n",
       "      <th>X-To</th>\n",
       "      <th>X-cc</th>\n",
       "      <th>X-bcc</th>\n",
       "      <th>X-Folder</th>\n",
       "      <th>X-FileName</th>\n",
       "      <th>Text</th>\n",
       "      <th>Folder</th>\n",
       "      <th>User</th>\n",
       "      <th>Month</th>\n",
       "      <th>Day</th>\n",
       "      <th>Year</th>\n",
       "    </tr>\n",
       "  </thead>\n",
       "  <tbody>\n",
       "    <tr>\n",
       "      <td>108999</td>\n",
       "      <td>2000-09-13 07:53:00-07:00</td>\n",
       "      <td>daren.farmer@enron.com</td>\n",
       "      <td>julie.meyers@enron.com</td>\n",
       "      <td>contract expirations</td>\n",
       "      <td>1.0</td>\n",
       "      <td>Julie Meyers</td>\n",
       "      <td></td>\n",
       "      <td></td>\n",
       "      <td>\\Darren_Farmer_Dec2000\\Notes Folders\\'sent mail</td>\n",
       "      <td>Farmer-D</td>\n",
       "      <td>dfarmer.nsf</td>\n",
       "      <td>None</td>\n",
       "      <td>Julie, \\n\\nIn Sitara, the following purchases ...</td>\n",
       "      <td>_sent_mail</td>\n",
       "      <td>farmer-d</td>\n",
       "      <td>9</td>\n",
       "      <td>13</td>\n",
       "      <td>2000</td>\n",
       "    </tr>\n",
       "    <tr>\n",
       "      <td>104460</td>\n",
       "      <td>2000-04-11 02:33:00-07:00</td>\n",
       "      <td>jackie.young@enron.com</td>\n",
       "      <td>robert.lloyd@enron.com</td>\n",
       "      <td>FYI - Gas flow</td>\n",
       "      <td>pat.clynes@enron.com, daren.farmer@enron.com, ...</td>\n",
       "      <td>pat.clynes@enron.com, daren.farmer@enron.com, ...</td>\n",
       "      <td>Jackie Young</td>\n",
       "      <td>Robert E Lloyd</td>\n",
       "      <td>Pat Clynes, Daren J Farmer, Gary W Lamphier</td>\n",
       "      <td></td>\n",
       "      <td>\\Darren_Farmer_Dec2000\\Notes Folders\\Discussio...</td>\n",
       "      <td>dfarmer.nsf</td>\n",
       "      <td>---------------------- Forwarded by Jackie You...</td>\n",
       "      <td>discussion_threads</td>\n",
       "      <td>farmer-d</td>\n",
       "      <td>4</td>\n",
       "      <td>11</td>\n",
       "      <td>2000</td>\n",
       "    </tr>\n",
       "    <tr>\n",
       "      <td>196164</td>\n",
       "      <td>2000-12-20 18:02:00-08:00</td>\n",
       "      <td>enron.announcements@enron.com</td>\n",
       "      <td>all.america@enron.com</td>\n",
       "      <td>December 22 - SRRS Decommissioning Notification</td>\n",
       "      <td>1.0</td>\n",
       "      <td>All Enron Corp North America</td>\n",
       "      <td></td>\n",
       "      <td></td>\n",
       "      <td>\\Vincent_Kaminski_Jun2001_1\\Notes Folders\\All ...</td>\n",
       "      <td>Kaminski-V</td>\n",
       "      <td>vkamins.nsf</td>\n",
       "      <td>None</td>\n",
       "      <td>SRRS Decommissioning Notification\\n\\nWe are on...</td>\n",
       "      <td>all_documents</td>\n",
       "      <td>kaminski-v</td>\n",
       "      <td>12</td>\n",
       "      <td>20</td>\n",
       "      <td>2000</td>\n",
       "    </tr>\n",
       "    <tr>\n",
       "      <td>11633</td>\n",
       "      <td>2000-11-02 08:25:00-08:00</td>\n",
       "      <td>jason.bass2@compaq.com</td>\n",
       "      <td>Caution ... bad language</td>\n",
       "      <td>1.0</td>\n",
       "      <td>text/plain; charset=us-ascii</td>\n",
       "      <td></td>\n",
       "      <td></td>\n",
       "      <td>\\Eric_Bass_Dec2000\\Notes Folders\\All documents</td>\n",
       "      <td>Bass-E</td>\n",
       "      <td>ebass.nsf</td>\n",
       "      <td>None</td>\n",
       "      <td>None</td>\n",
       "      <td>- dab.exe</td>\n",
       "      <td>all_documents</td>\n",
       "      <td>bass-e</td>\n",
       "      <td>11</td>\n",
       "      <td>2</td>\n",
       "      <td>2000</td>\n",
       "    </tr>\n",
       "    <tr>\n",
       "      <td>128703</td>\n",
       "      <td>2000-05-22 04:39:00-07:00</td>\n",
       "      <td>chris.germany@enron.com</td>\n",
       "      <td>john.singer@enron.com</td>\n",
       "      <td>Local Prod</td>\n",
       "      <td>1.0</td>\n",
       "      <td>John M Singer</td>\n",
       "      <td></td>\n",
       "      <td></td>\n",
       "      <td>\\Chris_Germany_Dec2000\\Notes Folders\\Sent</td>\n",
       "      <td>Germany-C</td>\n",
       "      <td>cgerman.nsf</td>\n",
       "      <td>None</td>\n",
       "      <td>Just got word from EES, they can take the EOG ...</td>\n",
       "      <td>sent</td>\n",
       "      <td>germany-c</td>\n",
       "      <td>5</td>\n",
       "      <td>22</td>\n",
       "      <td>2000</td>\n",
       "    </tr>\n",
       "  </tbody>\n",
       "</table>\n",
       "</div>"
      ],
      "text/plain": [
       "                             Date                           From  \\\n",
       "108999  2000-09-13 07:53:00-07:00         daren.farmer@enron.com   \n",
       "104460  2000-04-11 02:33:00-07:00         jackie.young@enron.com   \n",
       "196164  2000-12-20 18:02:00-08:00  enron.announcements@enron.com   \n",
       "11633   2000-11-02 08:25:00-08:00         jason.bass2@compaq.com   \n",
       "128703  2000-05-22 04:39:00-07:00        chris.germany@enron.com   \n",
       "\n",
       "                              To  \\\n",
       "108999    julie.meyers@enron.com   \n",
       "104460    robert.lloyd@enron.com   \n",
       "196164     all.america@enron.com   \n",
       "11633   Caution ... bad language   \n",
       "128703     john.singer@enron.com   \n",
       "\n",
       "                                                Subject  \\\n",
       "108999                             contract expirations   \n",
       "104460                                   FYI - Gas flow   \n",
       "196164  December 22 - SRRS Decommissioning Notification   \n",
       "11633                                               1.0   \n",
       "128703                                       Local Prod   \n",
       "\n",
       "                                                       Cc  \\\n",
       "108999                                                1.0   \n",
       "104460  pat.clynes@enron.com, daren.farmer@enron.com, ...   \n",
       "196164                                                1.0   \n",
       "11633                        text/plain; charset=us-ascii   \n",
       "128703                                                1.0   \n",
       "\n",
       "                                                      Bcc        X-From  \\\n",
       "108999                                       Julie Meyers                 \n",
       "104460  pat.clynes@enron.com, daren.farmer@enron.com, ...  Jackie Young   \n",
       "196164                       All Enron Corp North America                 \n",
       "11633                                                                     \n",
       "128703                                      John M Singer                 \n",
       "\n",
       "                                                  X-To  \\\n",
       "108999                                                   \n",
       "104460                                  Robert E Lloyd   \n",
       "196164                                                   \n",
       "11633   \\Eric_Bass_Dec2000\\Notes Folders\\All documents   \n",
       "128703                                                   \n",
       "\n",
       "                                                     X-cc       X-bcc  \\\n",
       "108999    \\Darren_Farmer_Dec2000\\Notes Folders\\'sent mail    Farmer-D   \n",
       "104460        Pat Clynes, Daren J Farmer, Gary W Lamphier               \n",
       "196164  \\Vincent_Kaminski_Jun2001_1\\Notes Folders\\All ...  Kaminski-V   \n",
       "11633                                              Bass-E   ebass.nsf   \n",
       "128703          \\Chris_Germany_Dec2000\\Notes Folders\\Sent   Germany-C   \n",
       "\n",
       "                                                 X-Folder   X-FileName  \\\n",
       "108999                                        dfarmer.nsf         None   \n",
       "104460  \\Darren_Farmer_Dec2000\\Notes Folders\\Discussio...  dfarmer.nsf   \n",
       "196164                                        vkamins.nsf         None   \n",
       "11633                                                None         None   \n",
       "128703                                        cgerman.nsf         None   \n",
       "\n",
       "                                                     Text              Folder  \\\n",
       "108999  Julie, \\n\\nIn Sitara, the following purchases ...          _sent_mail   \n",
       "104460  ---------------------- Forwarded by Jackie You...  discussion_threads   \n",
       "196164  SRRS Decommissioning Notification\\n\\nWe are on...       all_documents   \n",
       "11633                                           - dab.exe       all_documents   \n",
       "128703  Just got word from EES, they can take the EOG ...                sent   \n",
       "\n",
       "              User  Month  Day  Year  \n",
       "108999    farmer-d      9   13  2000  \n",
       "104460    farmer-d      4   11  2000  \n",
       "196164  kaminski-v     12   20  2000  \n",
       "11633       bass-e     11    2  2000  \n",
       "128703   germany-c      5   22  2000  "
      ]
     },
     "execution_count": 8,
     "metadata": {},
     "output_type": "execute_result"
    }
   ],
   "source": [
    "months = []\n",
    "days = []\n",
    "years = []\n",
    "for date in small_df['Date']:\n",
    "    months.append(date.month)\n",
    "    days.append(date.day)\n",
    "    years.append(date.year)\n",
    "small_df[\"Month\"] = months\n",
    "small_df[\"Day\"] = days\n",
    "small_df[\"Year\"] = years\n",
    "small_df[:5]"
   ]
  },
  {
   "cell_type": "code",
   "execution_count": 126,
   "metadata": {},
   "outputs": [
    {
     "data": {
      "text/plain": [
       "<Figure size 432x288 with 0 Axes>"
      ]
     },
     "execution_count": 126,
     "metadata": {},
     "output_type": "execute_result"
    },
    {
     "data": {
      "text/plain": [
       "<Figure size 432x288 with 0 Axes>"
      ]
     },
     "execution_count": 126,
     "metadata": {},
     "output_type": "execute_result"
    },
    {
     "data": {
      "text/plain": [
       "<Figure size 432x288 with 0 Axes>"
      ]
     },
     "execution_count": 126,
     "metadata": {},
     "output_type": "execute_result"
    },
    {
     "data": {
      "text/plain": [
       "<Figure size 432x288 with 0 Axes>"
      ]
     },
     "execution_count": 126,
     "metadata": {},
     "output_type": "execute_result"
    },
    {
     "data": {
      "image/png": "[encoded data removed]",
      "text/plain": [
       "<Figure size 432x288 with 1 Axes>"
      ]
     },
     "metadata": {
      "needs_background": "light"
     },
     "output_type": "display_data"
    },
    {
     "data": {
      "image/png": "[encoded data removed]",
      "text/plain": [
       "<Figure size 360x360 with 1 Axes>"
      ]
     },
     "metadata": {
      "needs_background": "light"
     },
     "output_type": "display_data"
    },
    {
     "data": {
      "image/png": "[encoded data removed]",
      "text/plain": [
       "<Figure size 432x288 with 1 Axes>"
      ]
     },
     "metadata": {
      "needs_background": "light"
     },
     "output_type": "display_data"
    },
    {
     "data": {
      "image/png": "[encoded data removed]",
      "text/plain": [
       "<Figure size 432x288 with 1 Axes>"
      ]
     },
     "metadata": {
      "needs_background": "light"
     },
     "output_type": "display_data"
    },
    {
     "data": {
      "image/png": "[encoded data removed]",
      "text/plain": [
       "<Figure size 432x288 with 1 Axes>"
      ]
     },
     "metadata": {
      "needs_background": "light"
     },
     "output_type": "display_data"
    }
   ],
   "source": [
    "import matplotlib.pyplot as plt\n",
    "import seaborn as sns\n",
    "x_ax = (small_df[\"Year\"] >= 1995) & (small_df[\"Year\"] <= 2005)\n",
    "plt.figure()\n",
    "graphYears = small_df.loc[x_ax].groupby(\"Year\")[\"Text\"].count().plot()\n",
    "\n",
    "barYears = sns.catplot(x='Year',data=small_df,kind='count')\n",
    "\n",
    "x_ax = (small_df[\"Year\"] == 2000)\n",
    "plt.figure()\n",
    "graph2000 = small_df.loc[x_ax].groupby(\"Month\")[\"Text\"].count().plot()\n",
    "\n",
    "x_ax = (small_df[\"Year\"] == 2001)\n",
    "plt.figure()\n",
    "graph2001 = small_df.loc[x_ax].groupby(\"Month\")[\"Text\"].count().plot()\n",
    "\n",
    "x_ax = (small_df[\"Year\"] == 2002)\n",
    "plt.figure()\n",
    "graph2002 = small_df.loc[x_ax].groupby(\"Month\")[\"Text\"].count().plot()"
   ]
  },
  {
   "cell_type": "code",
   "execution_count": 131,
   "metadata": {},
   "outputs": [
    {
     "data": {
      "text/plain": [
       "<Figure size 432x288 with 0 Axes>"
      ]
     },
     "execution_count": 131,
     "metadata": {},
     "output_type": "execute_result"
    },
    {
     "data": {
      "image/png": "[encoded data removed]",
      "text/plain": [
       "<Figure size 432x288 with 1 Axes>"
      ]
     },
     "metadata": {
      "needs_background": "light"
     },
     "output_type": "display_data"
    }
   ],
   "source": [
    "x_ax = (small_df[\"Year\"] == 2000) & (small_df[\"Month\"] == 11)\n",
    "plt.figure()\n",
    "graph_911 = small_df.loc[x_ax].groupby(\"Day\")[\"Text\"].count().plot()"
   ]
  },
  {
   "cell_type": "markdown",
   "metadata": {},
   "source": [
    "*Note*: Because this is only a sample of 20,000, the data gets small on a month-to-month basis. However, this corpus could also give us insights on how people reacted to major world events. I'd assume absolutely nobody was emailing on 9/11, but it would be interesting to see what the existing emails say."
   ]
  },
  {
   "cell_type": "markdown",
   "metadata": {},
   "source": [
    "**Summary**: As we can see here, our 20,000 emails are only distributed over four years, peaking over 2000 and 2001. This checks out with what we know about the Enron Scandal. I'd be interested to see if the years get wider over a larger sample?\n",
    "<a id='1b'>"
   ]
  },
  {
   "cell_type": "markdown",
   "metadata": {},
   "source": [
    "***A Census of The Users***"
   ]
  },
  {
   "cell_type": "code",
   "execution_count": 57,
   "metadata": {},
   "outputs": [
    {
     "name": "stdout",
     "output_type": "stream",
     "text": [
      "percentage of emails to unique people: 42.175000000000004\n",
      "percentage of emails from unique people: 19.39\n"
     ]
    }
   ],
   "source": [
    "setTo = small_df[\"To\"].nunique()\n",
    "setFrom = small_df[\"From\"].nunique()\n",
    "print(\"percentage of emails to unique people:\", (setTo/totalSet)*100)\n",
    "print(\"percentage of emails from unique people:\", (setFrom/totalSet)*100)"
   ]
  },
  {
   "cell_type": "markdown",
   "metadata": {},
   "source": [
    "*Note*: Very round, whole numbers. Satisfying."
   ]
  },
  {
   "cell_type": "code",
   "execution_count": 70,
   "metadata": {},
   "outputs": [],
   "source": [
    "toUsers = (((small_df.groupby(\"User\")[\"To\"].nunique())/small_df.groupby(\"User\")[\"To\"].count())*100)\n",
    "fromUsers = ((small_df.groupby(\"User\")[\"From\"].nunique())/small_df.groupby(\"User\")[\"From\"].count())*100"
   ]
  },
  {
   "cell_type": "code",
   "execution_count": 71,
   "metadata": {},
   "outputs": [
    {
     "data": {
      "text/plain": [
       "Index(['allen-p', 'arnold-j', 'arora-h', 'badeer-r', 'bailey-s', 'bass-e',\n",
       "       'baughman-d', 'beck-s', 'benson-r', 'blair-l', 'brawner-s', 'buy-r',\n",
       "       'campbell-l', 'carson-m', 'cash-m', 'causholli-m', 'corman-s',\n",
       "       'crandell-s', 'cuilla-m', 'dasovich-j', 'davis-d', 'dean-c',\n",
       "       'delainey-d', 'derrick-j', 'dickson-s', 'donoho-l', 'donohoe-t',\n",
       "       'dorland-c', 'ermis-f', 'farmer-d', 'fischer-m', 'forney-j', 'fossum-d',\n",
       "       'gang-l', 'gay-r', 'geaccone-t', 'germany-c', 'gilbertsmith-d',\n",
       "       'giron-d', 'griffith-j', 'grigsby-m', 'guzman-m', 'haedicke-m',\n",
       "       'hain-m', 'harris-s', 'hayslett-r', 'heard-m', 'hendrickson-s',\n",
       "       'hernandez-j', 'hodge-j', 'holst-k', 'horton-s', 'hyatt-k', 'hyvl-d',\n",
       "       'jones-t', 'kaminski-v', 'kean-s', 'keavey-p', 'keiser-k', 'king-j',\n",
       "       'kitchen-l', 'kuykendall-t', 'lavorato-j', 'lay-k', 'lenhart-m',\n",
       "       'lewis-a', 'linder-e', 'lokay-m', 'lokey-t', 'love-p', 'lucci-p'],\n",
       "      dtype='object', name='User')"
      ]
     },
     "execution_count": 71,
     "metadata": {},
     "output_type": "execute_result"
    },
    {
     "data": {
      "text/plain": [
       "User\n",
       "allen-p     50.643777\n",
       "arnold-j    40.281690\n",
       "arora-h     58.139535\n",
       "badeer-r    70.769231\n",
       "bailey-s    71.875000\n",
       "              ...    \n",
       "linder-e    10.169492\n",
       "lokay-m     54.975124\n",
       "lokey-t     65.555556\n",
       "love-p      52.533333\n",
       "lucci-p     37.209302\n",
       "Name: To, Length: 71, dtype: float64"
      ]
     },
     "execution_count": 71,
     "metadata": {},
     "output_type": "execute_result"
    }
   ],
   "source": [
    "toUsers.keys()\n",
    "toUsers"
   ]
  },
  {
   "cell_type": "code",
   "execution_count": 72,
   "metadata": {},
   "outputs": [
    {
     "data": {
      "text/plain": [
       "<Figure size 1800x720 with 0 Axes>"
      ]
     },
     "execution_count": 72,
     "metadata": {},
     "output_type": "execute_result"
    },
    {
     "data": {
      "text/plain": [
       "<Figure size 1800x720 with 0 Axes>"
      ]
     },
     "execution_count": 72,
     "metadata": {},
     "output_type": "execute_result"
    },
    {
     "data": {
      "image/png": "[encoded data removed]",
      "text/plain": [
       "<Figure size 1800x720 with 1 Axes>"
      ]
     },
     "metadata": {
      "needs_background": "light"
     },
     "output_type": "display_data"
    },
    {
     "data": {
      "image/png": "[encoded data removed]",
      "text/plain": [
       "<Figure size 1800x720 with 1 Axes>"
      ]
     },
     "metadata": {
      "needs_background": "light"
     },
     "output_type": "display_data"
    }
   ],
   "source": [
    "plt.figure(figsize=(25,10))\n",
    "barUniqueSends = sns.barplot(x=toUsers.index, y=toUsers.values)\n",
    "barUniqueSends = barUniqueSends.set_xticklabels(barUniqueSends.get_xticklabels(), rotation=45)\n",
    "\n",
    "plt.figure(figsize=(25,10))\n",
    "barUniqueRecs = sns.barplot(x=fromUsers.index, y=fromUsers.values)\n",
    "barUniqueRecs = barUniqueRecs.set_xticklabels(barUniqueRecs.get_xticklabels(), rotation=45)"
   ]
  },
  {
   "cell_type": "code",
   "execution_count": 123,
   "metadata": {},
   "outputs": [
    {
     "data": {
      "text/html": [
       "<div>\n",
       "<style scoped>\n",
       "    .dataframe tbody tr th:only-of-type {\n",
       "        vertical-align: middle;\n",
       "    }\n",
       "\n",
       "    .dataframe tbody tr th {\n",
       "        vertical-align: top;\n",
       "    }\n",
       "\n",
       "    .dataframe thead th {\n",
       "        text-align: right;\n",
       "    }\n",
       "</style>\n",
       "<table border=\"1\" class=\"dataframe\">\n",
       "  <thead>\n",
       "    <tr style=\"text-align: right;\">\n",
       "      <th></th>\n",
       "      <th>Date</th>\n",
       "      <th>From</th>\n",
       "      <th>To</th>\n",
       "      <th>Subject</th>\n",
       "      <th>Cc</th>\n",
       "      <th>Bcc</th>\n",
       "      <th>X-From</th>\n",
       "      <th>X-To</th>\n",
       "      <th>X-cc</th>\n",
       "      <th>X-bcc</th>\n",
       "      <th>X-Folder</th>\n",
       "      <th>X-FileName</th>\n",
       "      <th>Text</th>\n",
       "      <th>Folder</th>\n",
       "      <th>User</th>\n",
       "      <th>Month</th>\n",
       "      <th>Day</th>\n",
       "      <th>Year</th>\n",
       "    </tr>\n",
       "  </thead>\n",
       "  <tbody>\n",
       "    <tr>\n",
       "      <td>262568</td>\n",
       "      <td>2001-04-26 11:08:00-07:00</td>\n",
       "      <td>virginia.thompson@enron.com</td>\n",
       "      <td>portland.shift@enron.com</td>\n",
       "      <td>Montana Power</td>\n",
       "      <td>1.0</td>\n",
       "      <td>Portland Shift</td>\n",
       "      <td></td>\n",
       "      <td></td>\n",
       "      <td>\\eric linder 6-28-02\\Notes Folders\\All documents</td>\n",
       "      <td>LINDER-E</td>\n",
       "      <td>eric linder 6-28-02.nsf</td>\n",
       "      <td>None</td>\n",
       "      <td>Dear Traders,\\n\\nI still have not heard respon...</td>\n",
       "      <td>all_documents</td>\n",
       "      <td>linder-e</td>\n",
       "      <td>4</td>\n",
       "      <td>26</td>\n",
       "      <td>2001</td>\n",
       "    </tr>\n",
       "    <tr>\n",
       "      <td>263254</td>\n",
       "      <td>2001-04-19 04:45:00-07:00</td>\n",
       "      <td>pete.davis@enron.com</td>\n",
       "      <td>pete.davis@enron.com</td>\n",
       "      <td>Start Date: 4/19/01; HourAhead hour: 12;  &lt;COD...</td>\n",
       "      <td>bert.meyers@enron.com, bill.williams.iii@enron...</td>\n",
       "      <td>bert.meyers@enron.com, bill.williams.iii@enron...</td>\n",
       "      <td>Schedule Crawler&lt;pete.davis@enron.com&gt;</td>\n",
       "      <td>pete.davis@enron.com</td>\n",
       "      <td>bert.meyers@enron.com, bill.williams.III@enron...</td>\n",
       "      <td></td>\n",
       "      <td>\\eric linder 6-28-02\\Notes Folders\\Discussion ...</td>\n",
       "      <td>eric linder 6-28-02.nsf</td>\n",
       "      <td>Start Date: 4/19/01; HourAhead hour: 12;  No a...</td>\n",
       "      <td>discussion_threads</td>\n",
       "      <td>linder-e</td>\n",
       "      <td>4</td>\n",
       "      <td>19</td>\n",
       "      <td>2001</td>\n",
       "    </tr>\n",
       "    <tr>\n",
       "      <td>264409</td>\n",
       "      <td>2001-04-03 06:41:00-07:00</td>\n",
       "      <td>pete.davis@enron.com</td>\n",
       "      <td>pete.davis@enron.com</td>\n",
       "      <td>Start Date: 4/3/01; HourAhead hour: 14;  &lt;CODE...</td>\n",
       "      <td>bert.meyers@enron.com, bill.williams.iii@enron...</td>\n",
       "      <td>bert.meyers@enron.com, bill.williams.iii@enron...</td>\n",
       "      <td>Schedule Crawler&lt;pete.davis@enron.com&gt;</td>\n",
       "      <td>pete.davis@enron.com</td>\n",
       "      <td>bert.meyers@enron.com, bill.williams.III@enron...</td>\n",
       "      <td></td>\n",
       "      <td>\\eric linder 6-28-02\\Notes Folders\\Notes inbox</td>\n",
       "      <td>eric linder 6-28-02.nsf</td>\n",
       "      <td>Start Date: 4/3/01; HourAhead hour: 14;  No an...</td>\n",
       "      <td>notes_inbox</td>\n",
       "      <td>linder-e</td>\n",
       "      <td>4</td>\n",
       "      <td>3</td>\n",
       "      <td>2001</td>\n",
       "    </tr>\n",
       "    <tr>\n",
       "      <td>264172</td>\n",
       "      <td>2001-04-11 00:41:00-07:00</td>\n",
       "      <td>pete.davis@enron.com</td>\n",
       "      <td>pete.davis@enron.com</td>\n",
       "      <td>Start Date: 4/11/01; HourAhead hour: 8;  &lt;CODE...</td>\n",
       "      <td>bert.meyers@enron.com, bill.williams.iii@enron...</td>\n",
       "      <td>bert.meyers@enron.com, bill.williams.iii@enron...</td>\n",
       "      <td>Schedule Crawler&lt;pete.davis@enron.com&gt;</td>\n",
       "      <td>pete.davis@enron.com</td>\n",
       "      <td>bert.meyers@enron.com, bill.williams.III@enron...</td>\n",
       "      <td></td>\n",
       "      <td>\\eric linder 6-28-02\\Notes Folders\\Notes inbox</td>\n",
       "      <td>eric linder 6-28-02.nsf</td>\n",
       "      <td>Start Date: 4/11/01; HourAhead hour: 8;  No an...</td>\n",
       "      <td>notes_inbox</td>\n",
       "      <td>linder-e</td>\n",
       "      <td>4</td>\n",
       "      <td>11</td>\n",
       "      <td>2001</td>\n",
       "    </tr>\n",
       "    <tr>\n",
       "      <td>264133</td>\n",
       "      <td>2001-04-11 11:41:00-07:00</td>\n",
       "      <td>pete.davis@enron.com</td>\n",
       "      <td>pete.davis@enron.com</td>\n",
       "      <td>Start Date: 4/11/01; HourAhead hour: 19;  &lt;COD...</td>\n",
       "      <td>bert.meyers@enron.com, bill.williams.iii@enron...</td>\n",
       "      <td>bert.meyers@enron.com, bill.williams.iii@enron...</td>\n",
       "      <td>Schedule Crawler&lt;pete.davis@enron.com&gt;</td>\n",
       "      <td>pete.davis@enron.com</td>\n",
       "      <td>bert.meyers@enron.com, bill.williams.III@enron...</td>\n",
       "      <td></td>\n",
       "      <td>\\eric linder 6-28-02\\Notes Folders\\Notes inbox</td>\n",
       "      <td>eric linder 6-28-02.nsf</td>\n",
       "      <td>Start Date: 4/11/01; HourAhead hour: 19;  No a...</td>\n",
       "      <td>notes_inbox</td>\n",
       "      <td>linder-e</td>\n",
       "      <td>4</td>\n",
       "      <td>11</td>\n",
       "      <td>2001</td>\n",
       "    </tr>\n",
       "    <tr>\n",
       "      <td>...</td>\n",
       "      <td>...</td>\n",
       "      <td>...</td>\n",
       "      <td>...</td>\n",
       "      <td>...</td>\n",
       "      <td>...</td>\n",
       "      <td>...</td>\n",
       "      <td>...</td>\n",
       "      <td>...</td>\n",
       "      <td>...</td>\n",
       "      <td>...</td>\n",
       "      <td>...</td>\n",
       "      <td>...</td>\n",
       "      <td>...</td>\n",
       "      <td>...</td>\n",
       "      <td>...</td>\n",
       "      <td>...</td>\n",
       "      <td>...</td>\n",
       "      <td>...</td>\n",
       "    </tr>\n",
       "    <tr>\n",
       "      <td>263034</td>\n",
       "      <td>2001-04-12 01:40:00-07:00</td>\n",
       "      <td>pete.davis@enron.com</td>\n",
       "      <td>pete.davis@enron.com</td>\n",
       "      <td>Start Date: 4/12/01; HourAhead hour: 9;  &lt;CODE...</td>\n",
       "      <td>bert.meyers@enron.com, bill.williams.iii@enron...</td>\n",
       "      <td>bert.meyers@enron.com, bill.williams.iii@enron...</td>\n",
       "      <td>Schedule Crawler&lt;pete.davis@enron.com&gt;</td>\n",
       "      <td>pete.davis@enron.com</td>\n",
       "      <td>bert.meyers@enron.com, bill.williams.III@enron...</td>\n",
       "      <td></td>\n",
       "      <td>\\eric linder 6-28-02\\Notes Folders\\Discussion ...</td>\n",
       "      <td>eric linder 6-28-02.nsf</td>\n",
       "      <td>Start Date: 4/12/01; HourAhead hour: 9;  No an...</td>\n",
       "      <td>discussion_threads</td>\n",
       "      <td>linder-e</td>\n",
       "      <td>4</td>\n",
       "      <td>12</td>\n",
       "      <td>2001</td>\n",
       "    </tr>\n",
       "    <tr>\n",
       "      <td>262008</td>\n",
       "      <td>2001-04-09 09:42:00-07:00</td>\n",
       "      <td>pete.davis@enron.com</td>\n",
       "      <td>pete.davis@enron.com</td>\n",
       "      <td>Start Date: 4/9/01; HourAhead hour: 17;  &lt;CODE...</td>\n",
       "      <td>bert.meyers@enron.com, bill.williams.iii@enron...</td>\n",
       "      <td>bert.meyers@enron.com, bill.williams.iii@enron...</td>\n",
       "      <td>Schedule Crawler&lt;pete.davis@enron.com&gt;</td>\n",
       "      <td>pete.davis@enron.com</td>\n",
       "      <td>bert.meyers@enron.com, bill.williams.III@enron...</td>\n",
       "      <td></td>\n",
       "      <td>\\eric linder 6-28-02\\Notes Folders\\All documents</td>\n",
       "      <td>eric linder 6-28-02.nsf</td>\n",
       "      <td>Start Date: 4/9/01; HourAhead hour: 17;  No an...</td>\n",
       "      <td>all_documents</td>\n",
       "      <td>linder-e</td>\n",
       "      <td>4</td>\n",
       "      <td>9</td>\n",
       "      <td>2001</td>\n",
       "    </tr>\n",
       "    <tr>\n",
       "      <td>264211</td>\n",
       "      <td>2001-04-29 01:41:00-07:00</td>\n",
       "      <td>pete.davis@enron.com</td>\n",
       "      <td>pete.davis@enron.com</td>\n",
       "      <td>Start Date: 4/29/01; HourAhead hour: 9;  &lt;CODE...</td>\n",
       "      <td>bert.meyers@enron.com, bill.williams.iii@enron...</td>\n",
       "      <td>bert.meyers@enron.com, bill.williams.iii@enron...</td>\n",
       "      <td>Schedule Crawler&lt;pete.davis@enron.com&gt;</td>\n",
       "      <td>pete.davis@enron.com</td>\n",
       "      <td>bert.meyers@enron.com, bill.williams.III@enron...</td>\n",
       "      <td></td>\n",
       "      <td>\\eric linder 6-28-02\\Notes Folders\\Notes inbox</td>\n",
       "      <td>eric linder 6-28-02.nsf</td>\n",
       "      <td>Start Date: 4/29/01; HourAhead hour: 9;  No an...</td>\n",
       "      <td>notes_inbox</td>\n",
       "      <td>linder-e</td>\n",
       "      <td>4</td>\n",
       "      <td>29</td>\n",
       "      <td>2001</td>\n",
       "    </tr>\n",
       "    <tr>\n",
       "      <td>263310</td>\n",
       "      <td>2001-04-20 21:00:00-07:00</td>\n",
       "      <td>pete.davis@enron.com</td>\n",
       "      <td>pete.davis@enron.com</td>\n",
       "      <td>Schedule Crawler: HourAhead Failure &lt;CODESITE&gt;</td>\n",
       "      <td>bert.meyers@enron.com, bill.williams.iii@enron...</td>\n",
       "      <td>bert.meyers@enron.com, bill.williams.iii@enron...</td>\n",
       "      <td>Schedule Crawler&lt;pete.davis@enron.com&gt;</td>\n",
       "      <td>pete.davis@enron.com</td>\n",
       "      <td>bert.meyers@enron.com, bill.williams.III@enron...</td>\n",
       "      <td></td>\n",
       "      <td>\\eric linder 6-28-02\\Notes Folders\\Discussion ...</td>\n",
       "      <td>eric linder 6-28-02.nsf</td>\n",
       "      <td>Start Date: 4/21/01; HourAhead hour: 4;  HourA...</td>\n",
       "      <td>discussion_threads</td>\n",
       "      <td>linder-e</td>\n",
       "      <td>4</td>\n",
       "      <td>20</td>\n",
       "      <td>2001</td>\n",
       "    </tr>\n",
       "    <tr>\n",
       "      <td>263076</td>\n",
       "      <td>2001-04-13 05:00:00-07:00</td>\n",
       "      <td>amy.fitzpatrick@enron.com</td>\n",
       "      <td>portland.desk@enron.com</td>\n",
       "      <td>Benefit Reimbursement Deadlines</td>\n",
       "      <td>1.0</td>\n",
       "      <td>Portland West Desk</td>\n",
       "      <td></td>\n",
       "      <td></td>\n",
       "      <td>\\eric linder 6-28-02\\Notes Folders\\Discussion ...</td>\n",
       "      <td>LINDER-E</td>\n",
       "      <td>eric linder 6-28-02.nsf</td>\n",
       "      <td>None</td>\n",
       "      <td>Just a reminder, below are the deadlines for f...</td>\n",
       "      <td>discussion_threads</td>\n",
       "      <td>linder-e</td>\n",
       "      <td>4</td>\n",
       "      <td>13</td>\n",
       "      <td>2001</td>\n",
       "    </tr>\n",
       "  </tbody>\n",
       "</table>\n",
       "<p>177 rows × 18 columns</p>\n",
       "</div>"
      ],
      "text/plain": [
       "                             Date                         From  \\\n",
       "262568  2001-04-26 11:08:00-07:00  virginia.thompson@enron.com   \n",
       "263254  2001-04-19 04:45:00-07:00         pete.davis@enron.com   \n",
       "264409  2001-04-03 06:41:00-07:00         pete.davis@enron.com   \n",
       "264172  2001-04-11 00:41:00-07:00         pete.davis@enron.com   \n",
       "264133  2001-04-11 11:41:00-07:00         pete.davis@enron.com   \n",
       "...                           ...                          ...   \n",
       "263034  2001-04-12 01:40:00-07:00         pete.davis@enron.com   \n",
       "262008  2001-04-09 09:42:00-07:00         pete.davis@enron.com   \n",
       "264211  2001-04-29 01:41:00-07:00         pete.davis@enron.com   \n",
       "263310  2001-04-20 21:00:00-07:00         pete.davis@enron.com   \n",
       "263076  2001-04-13 05:00:00-07:00    amy.fitzpatrick@enron.com   \n",
       "\n",
       "                              To  \\\n",
       "262568  portland.shift@enron.com   \n",
       "263254      pete.davis@enron.com   \n",
       "264409      pete.davis@enron.com   \n",
       "264172      pete.davis@enron.com   \n",
       "264133      pete.davis@enron.com   \n",
       "...                          ...   \n",
       "263034      pete.davis@enron.com   \n",
       "262008      pete.davis@enron.com   \n",
       "264211      pete.davis@enron.com   \n",
       "263310      pete.davis@enron.com   \n",
       "263076   portland.desk@enron.com   \n",
       "\n",
       "                                                  Subject  \\\n",
       "262568                                      Montana Power   \n",
       "263254  Start Date: 4/19/01; HourAhead hour: 12;  <COD...   \n",
       "264409  Start Date: 4/3/01; HourAhead hour: 14;  <CODE...   \n",
       "264172  Start Date: 4/11/01; HourAhead hour: 8;  <CODE...   \n",
       "264133  Start Date: 4/11/01; HourAhead hour: 19;  <COD...   \n",
       "...                                                   ...   \n",
       "263034  Start Date: 4/12/01; HourAhead hour: 9;  <CODE...   \n",
       "262008  Start Date: 4/9/01; HourAhead hour: 17;  <CODE...   \n",
       "264211  Start Date: 4/29/01; HourAhead hour: 9;  <CODE...   \n",
       "263310     Schedule Crawler: HourAhead Failure <CODESITE>   \n",
       "263076                    Benefit Reimbursement Deadlines   \n",
       "\n",
       "                                                       Cc  \\\n",
       "262568                                                1.0   \n",
       "263254  bert.meyers@enron.com, bill.williams.iii@enron...   \n",
       "264409  bert.meyers@enron.com, bill.williams.iii@enron...   \n",
       "264172  bert.meyers@enron.com, bill.williams.iii@enron...   \n",
       "264133  bert.meyers@enron.com, bill.williams.iii@enron...   \n",
       "...                                                   ...   \n",
       "263034  bert.meyers@enron.com, bill.williams.iii@enron...   \n",
       "262008  bert.meyers@enron.com, bill.williams.iii@enron...   \n",
       "264211  bert.meyers@enron.com, bill.williams.iii@enron...   \n",
       "263310  bert.meyers@enron.com, bill.williams.iii@enron...   \n",
       "263076                                                1.0   \n",
       "\n",
       "                                                      Bcc  \\\n",
       "262568                                     Portland Shift   \n",
       "263254  bert.meyers@enron.com, bill.williams.iii@enron...   \n",
       "264409  bert.meyers@enron.com, bill.williams.iii@enron...   \n",
       "264172  bert.meyers@enron.com, bill.williams.iii@enron...   \n",
       "264133  bert.meyers@enron.com, bill.williams.iii@enron...   \n",
       "...                                                   ...   \n",
       "263034  bert.meyers@enron.com, bill.williams.iii@enron...   \n",
       "262008  bert.meyers@enron.com, bill.williams.iii@enron...   \n",
       "264211  bert.meyers@enron.com, bill.williams.iii@enron...   \n",
       "263310  bert.meyers@enron.com, bill.williams.iii@enron...   \n",
       "263076                                 Portland West Desk   \n",
       "\n",
       "                                        X-From                  X-To  \\\n",
       "262568                                                                 \n",
       "263254  Schedule Crawler<pete.davis@enron.com>  pete.davis@enron.com   \n",
       "264409  Schedule Crawler<pete.davis@enron.com>  pete.davis@enron.com   \n",
       "264172  Schedule Crawler<pete.davis@enron.com>  pete.davis@enron.com   \n",
       "264133  Schedule Crawler<pete.davis@enron.com>  pete.davis@enron.com   \n",
       "...                                        ...                   ...   \n",
       "263034  Schedule Crawler<pete.davis@enron.com>  pete.davis@enron.com   \n",
       "262008  Schedule Crawler<pete.davis@enron.com>  pete.davis@enron.com   \n",
       "264211  Schedule Crawler<pete.davis@enron.com>  pete.davis@enron.com   \n",
       "263310  Schedule Crawler<pete.davis@enron.com>  pete.davis@enron.com   \n",
       "263076                                                                 \n",
       "\n",
       "                                                     X-cc     X-bcc  \\\n",
       "262568   \\eric linder 6-28-02\\Notes Folders\\All documents  LINDER-E   \n",
       "263254  bert.meyers@enron.com, bill.williams.III@enron...             \n",
       "264409  bert.meyers@enron.com, bill.williams.III@enron...             \n",
       "264172  bert.meyers@enron.com, bill.williams.III@enron...             \n",
       "264133  bert.meyers@enron.com, bill.williams.III@enron...             \n",
       "...                                                   ...       ...   \n",
       "263034  bert.meyers@enron.com, bill.williams.III@enron...             \n",
       "262008  bert.meyers@enron.com, bill.williams.III@enron...             \n",
       "264211  bert.meyers@enron.com, bill.williams.III@enron...             \n",
       "263310  bert.meyers@enron.com, bill.williams.III@enron...             \n",
       "263076  \\eric linder 6-28-02\\Notes Folders\\Discussion ...  LINDER-E   \n",
       "\n",
       "                                                 X-Folder  \\\n",
       "262568                            eric linder 6-28-02.nsf   \n",
       "263254  \\eric linder 6-28-02\\Notes Folders\\Discussion ...   \n",
       "264409     \\eric linder 6-28-02\\Notes Folders\\Notes inbox   \n",
       "264172     \\eric linder 6-28-02\\Notes Folders\\Notes inbox   \n",
       "264133     \\eric linder 6-28-02\\Notes Folders\\Notes inbox   \n",
       "...                                                   ...   \n",
       "263034  \\eric linder 6-28-02\\Notes Folders\\Discussion ...   \n",
       "262008   \\eric linder 6-28-02\\Notes Folders\\All documents   \n",
       "264211     \\eric linder 6-28-02\\Notes Folders\\Notes inbox   \n",
       "263310  \\eric linder 6-28-02\\Notes Folders\\Discussion ...   \n",
       "263076                            eric linder 6-28-02.nsf   \n",
       "\n",
       "                     X-FileName  \\\n",
       "262568                     None   \n",
       "263254  eric linder 6-28-02.nsf   \n",
       "264409  eric linder 6-28-02.nsf   \n",
       "264172  eric linder 6-28-02.nsf   \n",
       "264133  eric linder 6-28-02.nsf   \n",
       "...                         ...   \n",
       "263034  eric linder 6-28-02.nsf   \n",
       "262008  eric linder 6-28-02.nsf   \n",
       "264211  eric linder 6-28-02.nsf   \n",
       "263310  eric linder 6-28-02.nsf   \n",
       "263076                     None   \n",
       "\n",
       "                                                     Text              Folder  \\\n",
       "262568  Dear Traders,\\n\\nI still have not heard respon...       all_documents   \n",
       "263254  Start Date: 4/19/01; HourAhead hour: 12;  No a...  discussion_threads   \n",
       "264409  Start Date: 4/3/01; HourAhead hour: 14;  No an...         notes_inbox   \n",
       "264172  Start Date: 4/11/01; HourAhead hour: 8;  No an...         notes_inbox   \n",
       "264133  Start Date: 4/11/01; HourAhead hour: 19;  No a...         notes_inbox   \n",
       "...                                                   ...                 ...   \n",
       "263034  Start Date: 4/12/01; HourAhead hour: 9;  No an...  discussion_threads   \n",
       "262008  Start Date: 4/9/01; HourAhead hour: 17;  No an...       all_documents   \n",
       "264211  Start Date: 4/29/01; HourAhead hour: 9;  No an...         notes_inbox   \n",
       "263310  Start Date: 4/21/01; HourAhead hour: 4;  HourA...  discussion_threads   \n",
       "263076  Just a reminder, below are the deadlines for f...  discussion_threads   \n",
       "\n",
       "            User  Month  Day  Year  \n",
       "262568  linder-e      4   26  2001  \n",
       "263254  linder-e      4   19  2001  \n",
       "264409  linder-e      4    3  2001  \n",
       "264172  linder-e      4   11  2001  \n",
       "264133  linder-e      4   11  2001  \n",
       "...          ...    ...  ...   ...  \n",
       "263034  linder-e      4   12  2001  \n",
       "262008  linder-e      4    9  2001  \n",
       "264211  linder-e      4   29  2001  \n",
       "263310  linder-e      4   20  2001  \n",
       "263076  linder-e      4   13  2001  \n",
       "\n",
       "[177 rows x 18 columns]"
      ]
     },
     "execution_count": 123,
     "metadata": {},
     "output_type": "execute_result"
    }
   ],
   "source": [
    "linder = small_df[small_df[\"User\"] == 'linder-e']\n",
    "linder"
   ]
  },
  {
   "cell_type": "markdown",
   "metadata": {},
   "source": [
    "*Note*: This checks out! We said that E. Linder only sends/receives 10-20% of his emails with different people. Looks like him and Pete Davis could be conspiring (/s).<br>\n",
    "However, if we check the body out, we see that E. Linder sends mostly reminder emails about start dates. Explains it!"
   ]
  },
  {
   "cell_type": "code",
   "execution_count": 73,
   "metadata": {},
   "outputs": [
    {
     "data": {
      "text/plain": [
       "['dasovich-j', 'kaminski-v', 'jones-t', 'kean-s', 'farmer-d']"
      ]
     },
     "execution_count": 73,
     "metadata": {},
     "output_type": "execute_result"
    },
    {
     "data": {
      "text/plain": [
       "[10.4, 9.855, 6.694999999999999, 5.76, 4.745]"
      ]
     },
     "execution_count": 73,
     "metadata": {},
     "output_type": "execute_result"
    }
   ],
   "source": [
    "topUsers = small_df.groupby(\"User\")[\"Text\"].count().sort_values(ascending=False)\n",
    "total = len(small_df)\n",
    "count = 0\n",
    "users = list(topUsers.keys())\n",
    "top = []\n",
    "score = []\n",
    "for num in topUsers[:10]:\n",
    "    top.append(users[count])\n",
    "    score.append((num/total)*100)\n",
    "    count += 1\n",
    "    \n",
    "count = 0\n",
    "top[:5]\n",
    "score[:5]\n",
    "email_usage = (top,score)"
   ]
  },
  {
   "cell_type": "markdown",
   "metadata": {},
   "source": [
    "*Note*: Was going to make a graph for this, but kind of repetitive."
   ]
  },
  {
   "cell_type": "code",
   "execution_count": 15,
   "metadata": {},
   "outputs": [
    {
     "data": {
      "text/html": [
       "<div>\n",
       "<style scoped>\n",
       "    .dataframe tbody tr th:only-of-type {\n",
       "        vertical-align: middle;\n",
       "    }\n",
       "\n",
       "    .dataframe tbody tr th {\n",
       "        vertical-align: top;\n",
       "    }\n",
       "\n",
       "    .dataframe thead th {\n",
       "        text-align: right;\n",
       "    }\n",
       "</style>\n",
       "<table border=\"1\" class=\"dataframe\">\n",
       "  <thead>\n",
       "    <tr style=\"text-align: right;\">\n",
       "      <th></th>\n",
       "      <th>Date</th>\n",
       "      <th>From</th>\n",
       "      <th>To</th>\n",
       "      <th>Subject</th>\n",
       "      <th>Cc</th>\n",
       "      <th>Bcc</th>\n",
       "      <th>X-From</th>\n",
       "      <th>X-To</th>\n",
       "      <th>X-cc</th>\n",
       "      <th>X-bcc</th>\n",
       "      <th>X-Folder</th>\n",
       "      <th>X-FileName</th>\n",
       "      <th>Text</th>\n",
       "      <th>Folder</th>\n",
       "      <th>User</th>\n",
       "      <th>Month</th>\n",
       "      <th>Day</th>\n",
       "      <th>Year</th>\n",
       "    </tr>\n",
       "  </thead>\n",
       "  <tbody>\n",
       "    <tr>\n",
       "      <td>1474</td>\n",
       "      <td>2000-12-13 08:01:00-08:00</td>\n",
       "      <td>rebecca.cantrell@enron.com</td>\n",
       "      <td>phillip.allen@enron.com</td>\n",
       "      <td>Re:</td>\n",
       "      <td>1.0</td>\n",
       "      <td>Phillip K Allen</td>\n",
       "      <td></td>\n",
       "      <td></td>\n",
       "      <td>\\Phillip_Allen_Dec2000\\Notes Folders\\Notes inbox</td>\n",
       "      <td>Allen-P</td>\n",
       "      <td>pallen.nsf</td>\n",
       "      <td>None</td>\n",
       "      <td>Phillip -- Is the value axis on Sheet 2 of the...</td>\n",
       "      <td>notes_inbox</td>\n",
       "      <td>allen-p</td>\n",
       "      <td>12</td>\n",
       "      <td>13</td>\n",
       "      <td>2000</td>\n",
       "    </tr>\n",
       "  </tbody>\n",
       "</table>\n",
       "</div>"
      ],
      "text/plain": [
       "                           Date                        From  \\\n",
       "1474  2000-12-13 08:01:00-08:00  rebecca.cantrell@enron.com   \n",
       "\n",
       "                           To Subject   Cc              Bcc X-From X-To  \\\n",
       "1474  phillip.allen@enron.com     Re:  1.0  Phillip K Allen               \n",
       "\n",
       "                                                  X-cc    X-bcc    X-Folder  \\\n",
       "1474  \\Phillip_Allen_Dec2000\\Notes Folders\\Notes inbox  Allen-P  pallen.nsf   \n",
       "\n",
       "     X-FileName                                               Text  \\\n",
       "1474       None  Phillip -- Is the value axis on Sheet 2 of the...   \n",
       "\n",
       "           Folder     User  Month  Day  Year  \n",
       "1474  notes_inbox  allen-p     12   13  2000  "
      ]
     },
     "execution_count": 15,
     "metadata": {},
     "output_type": "execute_result"
    }
   ],
   "source": [
    "small_df.sort_values(\"User\").head(1)"
   ]
  },
  {
   "cell_type": "code",
   "execution_count": 16,
   "metadata": {},
   "outputs": [
    {
     "data": {
      "text/plain": [
       "<Figure size 1728x576 with 0 Axes>"
      ]
     },
     "execution_count": 16,
     "metadata": {},
     "output_type": "execute_result"
    },
    {
     "data": {
      "text/plain": [
       "<Figure size 1728x576 with 0 Axes>"
      ]
     },
     "execution_count": 16,
     "metadata": {},
     "output_type": "execute_result"
    },
    {
     "data": {
      "image/png": "[encoded data removed]",
      "text/plain": [
       "<Figure size 1728x576 with 1 Axes>"
      ]
     },
     "metadata": {
      "needs_background": "light"
     },
     "output_type": "display_data"
    },
    {
     "data": {
      "image/png": "[encoded data removed]",
      "text/plain": [
       "<Figure size 1728x576 with 1 Axes>"
      ]
     },
     "metadata": {
      "needs_background": "light"
     },
     "output_type": "display_data"
    }
   ],
   "source": [
    "plt.figure(figsize=(24,8))\n",
    "barUsers = sns.countplot(x='User', data=small_df.sort_values(\"User\"))\n",
    "barUsers = barUsers.set_xticklabels(barUsers.get_xticklabels(), rotation=45)\n",
    "\n",
    "plt.figure(figsize=(24,8))\n",
    "barUsers2000 = sns.countplot(x='User', data=small_df[small_df[\"Year\"] == 2002].sort_values(\"User\"))\n",
    "barUsers2000 = barUsers2000.set_xticklabels(barUsers2000.get_xticklabels(), rotation=45)"
   ]
  },
  {
   "cell_type": "markdown",
   "metadata": {},
   "source": [
    "**Summary**: So in this section we got to see two things: who is sending/receiving emails from lots of different people, and who sends the most emails!"
   ]
  },
  {
   "cell_type": "markdown",
   "metadata": {},
   "source": [
    "***User Level***"
   ]
  },
  {
   "cell_type": "markdown",
   "metadata": {},
   "source": [
    "This is a pretty large dataset, and because of that it's hard to process text for every single user and then append it to the larger dataset. The best way to work with this corpus (without the CRC) is likely to look more on a user by user level."
   ]
  },
  {
   "cell_type": "code",
   "execution_count": 125,
   "metadata": {},
   "outputs": [
    {
     "data": {
      "text/html": [
       "<div>\n",
       "<style scoped>\n",
       "    .dataframe tbody tr th:only-of-type {\n",
       "        vertical-align: middle;\n",
       "    }\n",
       "\n",
       "    .dataframe tbody tr th {\n",
       "        vertical-align: top;\n",
       "    }\n",
       "\n",
       "    .dataframe thead th {\n",
       "        text-align: right;\n",
       "    }\n",
       "</style>\n",
       "<table border=\"1\" class=\"dataframe\">\n",
       "  <thead>\n",
       "    <tr style=\"text-align: right;\">\n",
       "      <th></th>\n",
       "      <th>Date</th>\n",
       "      <th>From</th>\n",
       "      <th>To</th>\n",
       "      <th>Subject</th>\n",
       "      <th>Cc</th>\n",
       "      <th>Bcc</th>\n",
       "      <th>X-From</th>\n",
       "      <th>X-To</th>\n",
       "      <th>X-cc</th>\n",
       "      <th>X-bcc</th>\n",
       "      <th>X-Folder</th>\n",
       "      <th>X-FileName</th>\n",
       "      <th>Text</th>\n",
       "      <th>Folder</th>\n",
       "      <th>User</th>\n",
       "      <th>Month</th>\n",
       "      <th>Day</th>\n",
       "      <th>Year</th>\n",
       "    </tr>\n",
       "  </thead>\n",
       "  <tbody>\n",
       "    <tr>\n",
       "      <td>53556</td>\n",
       "      <td>2001-03-20 23:18:00-08:00</td>\n",
       "      <td>tasker@haas.berkeley.edu</td>\n",
       "      <td>cvavrek@deloitte.com</td>\n",
       "      <td>RE: Group Project--E221</td>\n",
       "      <td>asama@yahoo.com, mark_guinney@watsonwyatt.com,...</td>\n",
       "      <td>asama@yahoo.com, mark_guinney@watsonwyatt.com,...</td>\n",
       "      <td>Sarah Tasker &lt;tasker@haas.berkeley.edu&gt;</td>\n",
       "      <td>\"Vavrek, Carolyn (US - San Francisco)\" &lt;cvavre...</td>\n",
       "      <td>Anil Sama &lt;asama@yahoo.com&gt;, Mark Guinney &lt;Mar...</td>\n",
       "      <td></td>\n",
       "      <td>\\Jeff_Dasovich_June2001\\Notes Folders\\All docu...</td>\n",
       "      <td>jdasovic.nsf</td>\n",
       "      <td>Hi Carolyn, Anil, Mark &amp; Jeff - I'm really sor...</td>\n",
       "      <td>all_documents</td>\n",
       "      <td>dasovich-j</td>\n",
       "      <td>3</td>\n",
       "      <td>20</td>\n",
       "      <td>2001</td>\n",
       "    </tr>\n",
       "    <tr>\n",
       "      <td>59481</td>\n",
       "      <td>2001-07-09 09:33:00-07:00</td>\n",
       "      <td>susan.mara@enron.com</td>\n",
       "      <td>jeff.dasovich@enron.com</td>\n",
       "      <td>July 12th Gas Issues Conference Call Agenda</td>\n",
       "      <td>1.0</td>\n",
       "      <td>Jeff Dasovich</td>\n",
       "      <td></td>\n",
       "      <td></td>\n",
       "      <td>\\Jeff_Dasovich_Oct2001\\Notes Folders\\All docum...</td>\n",
       "      <td>DASOVICH-J</td>\n",
       "      <td>jdasovic.nsf</td>\n",
       "      <td>None</td>\n",
       "      <td>you might want to join this\\n\\nSue Mara\\nEnron...</td>\n",
       "      <td>all_documents</td>\n",
       "      <td>dasovich-j</td>\n",
       "      <td>7</td>\n",
       "      <td>9</td>\n",
       "      <td>2001</td>\n",
       "    </tr>\n",
       "    <tr>\n",
       "      <td>76553</td>\n",
       "      <td>2001-07-11 05:15:00-07:00</td>\n",
       "      <td>jeff.dasovich@enron.com</td>\n",
       "      <td>richard.shapiro@enron.com</td>\n",
       "      <td>Hearing hasn;t started yet</td>\n",
       "      <td>1.0</td>\n",
       "      <td>Richard Shapiro</td>\n",
       "      <td></td>\n",
       "      <td></td>\n",
       "      <td>\\Jeff_Dasovich_Oct2001\\Notes Folders\\Sent</td>\n",
       "      <td>DASOVICH-J</td>\n",
       "      <td>jdasovic.nsf</td>\n",
       "      <td>None</td>\n",
       "      <td>----- Forwarded by Jeff Dasovich/NA/Enron on 0...</td>\n",
       "      <td>sent</td>\n",
       "      <td>dasovich-j</td>\n",
       "      <td>7</td>\n",
       "      <td>11</td>\n",
       "      <td>2001</td>\n",
       "    </tr>\n",
       "    <tr>\n",
       "      <td>68873</td>\n",
       "      <td>2000-10-20 04:54:00-07:00</td>\n",
       "      <td>refertofriend@reply.yahoo.com</td>\n",
       "      <td>jdasovic@enron.com</td>\n",
       "      <td>Yahoo! Finance Story - Yahoo - SDG&amp;amp;E files...</td>\n",
       "      <td>1.0</td>\n",
       "      <td>jdasovic@enron.com</td>\n",
       "      <td></td>\n",
       "      <td></td>\n",
       "      <td>\\Jeff_Dasovich_Dec2000\\Notes Folders\\Notes inbox</td>\n",
       "      <td>DASOVICH-J</td>\n",
       "      <td>jdasovic.nsf</td>\n",
       "      <td>None</td>\n",
       "      <td>Douglas L. Dyer (ldyer@enron.com) has sent yo...</td>\n",
       "      <td>notes_inbox</td>\n",
       "      <td>dasovich-j</td>\n",
       "      <td>10</td>\n",
       "      <td>20</td>\n",
       "      <td>2000</td>\n",
       "    </tr>\n",
       "    <tr>\n",
       "      <td>60885</td>\n",
       "      <td>2000-11-10 07:08:00-08:00</td>\n",
       "      <td>rob.gramlich@neg.pge.com</td>\n",
       "      <td>jeff.dasovich@enron.com, tim.belden@enron.com</td>\n",
       "      <td>RE: Rob's Email</td>\n",
       "      <td>1.0</td>\n",
       "      <td>\"'Jeff.Dasovich@enron.com'\" &lt;Jeff.Dasovich@enr...</td>\n",
       "      <td></td>\n",
       "      <td></td>\n",
       "      <td>\\Jeff_Dasovich_Dec2000\\Notes Folders\\All docum...</td>\n",
       "      <td>DASOVICH-J</td>\n",
       "      <td>jdasovic.nsf</td>\n",
       "      <td>None</td>\n",
       "      <td>You got it.  Hope things are going well for yo...</td>\n",
       "      <td>all_documents</td>\n",
       "      <td>dasovich-j</td>\n",
       "      <td>11</td>\n",
       "      <td>10</td>\n",
       "      <td>2000</td>\n",
       "    </tr>\n",
       "    <tr>\n",
       "      <td>...</td>\n",
       "      <td>...</td>\n",
       "      <td>...</td>\n",
       "      <td>...</td>\n",
       "      <td>...</td>\n",
       "      <td>...</td>\n",
       "      <td>...</td>\n",
       "      <td>...</td>\n",
       "      <td>...</td>\n",
       "      <td>...</td>\n",
       "      <td>...</td>\n",
       "      <td>...</td>\n",
       "      <td>...</td>\n",
       "      <td>...</td>\n",
       "      <td>...</td>\n",
       "      <td>...</td>\n",
       "      <td>...</td>\n",
       "      <td>...</td>\n",
       "      <td>...</td>\n",
       "    </tr>\n",
       "    <tr>\n",
       "      <td>59232</td>\n",
       "      <td>2001-07-01 14:12:00-07:00</td>\n",
       "      <td>enron.announcements@enron.com</td>\n",
       "      <td>eprocurement.list@enron.com</td>\n",
       "      <td>eProcurement is Here!</td>\n",
       "      <td>erin.abdelnour@enron.com, shelley.robbins@enro...</td>\n",
       "      <td>erin.abdelnour@enron.com, shelley.robbins@enro...</td>\n",
       "      <td>Enron Announcements</td>\n",
       "      <td>eProcurement CORP Users List</td>\n",
       "      <td>Erin Abdelnour, Shelley Robbins, Angela Robert...</td>\n",
       "      <td></td>\n",
       "      <td>\\Jeff_Dasovich_Oct2001\\Notes Folders\\All docum...</td>\n",
       "      <td>jdasovic.nsf</td>\n",
       "      <td>eProcurement\\n\\nI am pleased to announce the l...</td>\n",
       "      <td>all_documents</td>\n",
       "      <td>dasovich-j</td>\n",
       "      <td>7</td>\n",
       "      <td>1</td>\n",
       "      <td>2001</td>\n",
       "    </tr>\n",
       "    <tr>\n",
       "      <td>76549</td>\n",
       "      <td>2001-07-11 04:55:00-07:00</td>\n",
       "      <td>jeff.dasovich@enron.com</td>\n",
       "      <td>michael.tribolet@enron.com</td>\n",
       "      <td>FINAL</td>\n",
       "      <td>1.0</td>\n",
       "      <td>Michael Tribolet</td>\n",
       "      <td></td>\n",
       "      <td></td>\n",
       "      <td>\\Jeff_Dasovich_Oct2001\\Notes Folders\\Sent</td>\n",
       "      <td>DASOVICH-J</td>\n",
       "      <td>jdasovic.nsf</td>\n",
       "      <td>None</td>\n",
       "      <td>----- Forwarded by Jeff Dasovich/NA/Enron on 0...</td>\n",
       "      <td>sent</td>\n",
       "      <td>dasovich-j</td>\n",
       "      <td>7</td>\n",
       "      <td>11</td>\n",
       "      <td>2001</td>\n",
       "    </tr>\n",
       "    <tr>\n",
       "      <td>69566</td>\n",
       "      <td>2001-07-10 02:37:00-07:00</td>\n",
       "      <td>sgovenar@govadv.com</td>\n",
       "      <td>jeff.dasovich@enron.com</td>\n",
       "      <td>RE: Legislation Schedule</td>\n",
       "      <td>1.0</td>\n",
       "      <td>&lt;Jeff.Dasovich@enron.com&gt;</td>\n",
       "      <td></td>\n",
       "      <td></td>\n",
       "      <td>\\Jeff_Dasovich_Oct2001\\Notes Folders\\Notes inbox</td>\n",
       "      <td>DASOVICH-J</td>\n",
       "      <td>jdasovic.nsf</td>\n",
       "      <td>None</td>\n",
       "      <td>Jeff,\\n\\nThey are working on amendments for SB...</td>\n",
       "      <td>notes_inbox</td>\n",
       "      <td>dasovich-j</td>\n",
       "      <td>7</td>\n",
       "      <td>10</td>\n",
       "      <td>2001</td>\n",
       "    </tr>\n",
       "    <tr>\n",
       "      <td>80130</td>\n",
       "      <td>2001-09-19 15:04:18-07:00</td>\n",
       "      <td>jeff.dasovich@enron.com</td>\n",
       "      <td>ginger.dernehl@enron.com</td>\n",
       "      <td></td>\n",
       "      <td>1.0</td>\n",
       "      <td>Dernehl, Ginger &lt;/O=ENRON/OU=NA/CN=RECIPIENTS/...</td>\n",
       "      <td></td>\n",
       "      <td></td>\n",
       "      <td>\\Dasovich, Jeff (Non-Privileged)\\Dasovich, Jef...</td>\n",
       "      <td>DASOVICH-J</td>\n",
       "      <td>Dasovich, Jeff (Non-Privileged).pst</td>\n",
       "      <td>None</td>\n",
       "      <td>thanks so much. please call me at office.  bes...</td>\n",
       "      <td>sent_items</td>\n",
       "      <td>dasovich-j</td>\n",
       "      <td>9</td>\n",
       "      <td>19</td>\n",
       "      <td>2001</td>\n",
       "    </tr>\n",
       "    <tr>\n",
       "      <td>76587</td>\n",
       "      <td>2001-07-12 10:44:00-07:00</td>\n",
       "      <td>jeff.dasovich@enron.com</td>\n",
       "      <td>ann.cohn@sce.com, brbarkovich@earthlink.net, d...</td>\n",
       "      <td>FERC Judge Wagner's Recommendation in Refund Case</td>\n",
       "      <td>1.0</td>\n",
       "      <td>Ann.Cohn@sce.com, \"'Barbara Barkovich (E-mail)...</td>\n",
       "      <td></td>\n",
       "      <td></td>\n",
       "      <td>\\Jeff_Dasovich_Oct2001\\Notes Folders\\Sent</td>\n",
       "      <td>DASOVICH-J</td>\n",
       "      <td>jdasovic.nsf</td>\n",
       "      <td>None</td>\n",
       "      <td>- wagner recommendation.txt\\n\\n</td>\n",
       "      <td>sent</td>\n",
       "      <td>dasovich-j</td>\n",
       "      <td>7</td>\n",
       "      <td>12</td>\n",
       "      <td>2001</td>\n",
       "    </tr>\n",
       "  </tbody>\n",
       "</table>\n",
       "<p>2080 rows × 18 columns</p>\n",
       "</div>"
      ],
      "text/plain": [
       "                            Date                           From  \\\n",
       "53556  2001-03-20 23:18:00-08:00       tasker@haas.berkeley.edu   \n",
       "59481  2001-07-09 09:33:00-07:00           susan.mara@enron.com   \n",
       "76553  2001-07-11 05:15:00-07:00        jeff.dasovich@enron.com   \n",
       "68873  2000-10-20 04:54:00-07:00  refertofriend@reply.yahoo.com   \n",
       "60885  2000-11-10 07:08:00-08:00       rob.gramlich@neg.pge.com   \n",
       "...                          ...                            ...   \n",
       "59232  2001-07-01 14:12:00-07:00  enron.announcements@enron.com   \n",
       "76549  2001-07-11 04:55:00-07:00        jeff.dasovich@enron.com   \n",
       "69566  2001-07-10 02:37:00-07:00            sgovenar@govadv.com   \n",
       "80130  2001-09-19 15:04:18-07:00        jeff.dasovich@enron.com   \n",
       "76587  2001-07-12 10:44:00-07:00        jeff.dasovich@enron.com   \n",
       "\n",
       "                                                      To  \\\n",
       "53556                               cvavrek@deloitte.com   \n",
       "59481                            jeff.dasovich@enron.com   \n",
       "76553                          richard.shapiro@enron.com   \n",
       "68873                                 jdasovic@enron.com   \n",
       "60885      jeff.dasovich@enron.com, tim.belden@enron.com   \n",
       "...                                                  ...   \n",
       "59232                        eprocurement.list@enron.com   \n",
       "76549                         michael.tribolet@enron.com   \n",
       "69566                            jeff.dasovich@enron.com   \n",
       "80130                           ginger.dernehl@enron.com   \n",
       "76587  ann.cohn@sce.com, brbarkovich@earthlink.net, d...   \n",
       "\n",
       "                                                 Subject  \\\n",
       "53556                            RE: Group Project--E221   \n",
       "59481        July 12th Gas Issues Conference Call Agenda   \n",
       "76553                         Hearing hasn;t started yet   \n",
       "68873  Yahoo! Finance Story - Yahoo - SDG&amp;E files...   \n",
       "60885                                    RE: Rob's Email   \n",
       "...                                                  ...   \n",
       "59232                              eProcurement is Here!   \n",
       "76549                                              FINAL   \n",
       "69566                           RE: Legislation Schedule   \n",
       "80130                                                      \n",
       "76587  FERC Judge Wagner's Recommendation in Refund Case   \n",
       "\n",
       "                                                      Cc  \\\n",
       "53556  asama@yahoo.com, mark_guinney@watsonwyatt.com,...   \n",
       "59481                                                1.0   \n",
       "76553                                                1.0   \n",
       "68873                                                1.0   \n",
       "60885                                                1.0   \n",
       "...                                                  ...   \n",
       "59232  erin.abdelnour@enron.com, shelley.robbins@enro...   \n",
       "76549                                                1.0   \n",
       "69566                                                1.0   \n",
       "80130                                                1.0   \n",
       "76587                                                1.0   \n",
       "\n",
       "                                                     Bcc  \\\n",
       "53556  asama@yahoo.com, mark_guinney@watsonwyatt.com,...   \n",
       "59481                                      Jeff Dasovich   \n",
       "76553                                    Richard Shapiro   \n",
       "68873                                 jdasovic@enron.com   \n",
       "60885  \"'Jeff.Dasovich@enron.com'\" <Jeff.Dasovich@enr...   \n",
       "...                                                  ...   \n",
       "59232  erin.abdelnour@enron.com, shelley.robbins@enro...   \n",
       "76549                                   Michael Tribolet   \n",
       "69566                          <Jeff.Dasovich@enron.com>   \n",
       "80130  Dernehl, Ginger </O=ENRON/OU=NA/CN=RECIPIENTS/...   \n",
       "76587  Ann.Cohn@sce.com, \"'Barbara Barkovich (E-mail)...   \n",
       "\n",
       "                                        X-From  \\\n",
       "53556  Sarah Tasker <tasker@haas.berkeley.edu>   \n",
       "59481                                            \n",
       "76553                                            \n",
       "68873                                            \n",
       "60885                                            \n",
       "...                                        ...   \n",
       "59232                      Enron Announcements   \n",
       "76549                                            \n",
       "69566                                            \n",
       "80130                                            \n",
       "76587                                            \n",
       "\n",
       "                                                    X-To  \\\n",
       "53556  \"Vavrek, Carolyn (US - San Francisco)\" <cvavre...   \n",
       "59481                                                      \n",
       "76553                                                      \n",
       "68873                                                      \n",
       "60885                                                      \n",
       "...                                                  ...   \n",
       "59232                       eProcurement CORP Users List   \n",
       "76549                                                      \n",
       "69566                                                      \n",
       "80130                                                      \n",
       "76587                                                      \n",
       "\n",
       "                                                    X-cc       X-bcc  \\\n",
       "53556  Anil Sama <asama@yahoo.com>, Mark Guinney <Mar...               \n",
       "59481  \\Jeff_Dasovich_Oct2001\\Notes Folders\\All docum...  DASOVICH-J   \n",
       "76553          \\Jeff_Dasovich_Oct2001\\Notes Folders\\Sent  DASOVICH-J   \n",
       "68873   \\Jeff_Dasovich_Dec2000\\Notes Folders\\Notes inbox  DASOVICH-J   \n",
       "60885  \\Jeff_Dasovich_Dec2000\\Notes Folders\\All docum...  DASOVICH-J   \n",
       "...                                                  ...         ...   \n",
       "59232  Erin Abdelnour, Shelley Robbins, Angela Robert...               \n",
       "76549          \\Jeff_Dasovich_Oct2001\\Notes Folders\\Sent  DASOVICH-J   \n",
       "69566   \\Jeff_Dasovich_Oct2001\\Notes Folders\\Notes inbox  DASOVICH-J   \n",
       "80130  \\Dasovich, Jeff (Non-Privileged)\\Dasovich, Jef...  DASOVICH-J   \n",
       "76587          \\Jeff_Dasovich_Oct2001\\Notes Folders\\Sent  DASOVICH-J   \n",
       "\n",
       "                                                X-Folder    X-FileName  \\\n",
       "53556  \\Jeff_Dasovich_June2001\\Notes Folders\\All docu...  jdasovic.nsf   \n",
       "59481                                       jdasovic.nsf          None   \n",
       "76553                                       jdasovic.nsf          None   \n",
       "68873                                       jdasovic.nsf          None   \n",
       "60885                                       jdasovic.nsf          None   \n",
       "...                                                  ...           ...   \n",
       "59232  \\Jeff_Dasovich_Oct2001\\Notes Folders\\All docum...  jdasovic.nsf   \n",
       "76549                                       jdasovic.nsf          None   \n",
       "69566                                       jdasovic.nsf          None   \n",
       "80130                Dasovich, Jeff (Non-Privileged).pst          None   \n",
       "76587                                       jdasovic.nsf          None   \n",
       "\n",
       "                                                    Text         Folder  \\\n",
       "53556  Hi Carolyn, Anil, Mark & Jeff - I'm really sor...  all_documents   \n",
       "59481  you might want to join this\\n\\nSue Mara\\nEnron...  all_documents   \n",
       "76553  ----- Forwarded by Jeff Dasovich/NA/Enron on 0...           sent   \n",
       "68873   Douglas L. Dyer (ldyer@enron.com) has sent yo...    notes_inbox   \n",
       "60885  You got it.  Hope things are going well for yo...  all_documents   \n",
       "...                                                  ...            ...   \n",
       "59232  eProcurement\\n\\nI am pleased to announce the l...  all_documents   \n",
       "76549  ----- Forwarded by Jeff Dasovich/NA/Enron on 0...           sent   \n",
       "69566  Jeff,\\n\\nThey are working on amendments for SB...    notes_inbox   \n",
       "80130  thanks so much. please call me at office.  bes...     sent_items   \n",
       "76587                    - wagner recommendation.txt\\n\\n           sent   \n",
       "\n",
       "             User  Month  Day  Year  \n",
       "53556  dasovich-j      3   20  2001  \n",
       "59481  dasovich-j      7    9  2001  \n",
       "76553  dasovich-j      7   11  2001  \n",
       "68873  dasovich-j     10   20  2000  \n",
       "60885  dasovich-j     11   10  2000  \n",
       "...           ...    ...  ...   ...  \n",
       "59232  dasovich-j      7    1  2001  \n",
       "76549  dasovich-j      7   11  2001  \n",
       "69566  dasovich-j      7   10  2001  \n",
       "80130  dasovich-j      9   19  2001  \n",
       "76587  dasovich-j      7   12  2001  \n",
       "\n",
       "[2080 rows x 18 columns]"
      ]
     },
     "execution_count": 125,
     "metadata": {},
     "output_type": "execute_result"
    }
   ],
   "source": [
    "dasovich = small_df[small_df[\"User\"] == 'dasovich-j']\n",
    "dasovich"
   ]
  },
  {
   "cell_type": "code",
   "execution_count": 152,
   "metadata": {},
   "outputs": [],
   "source": [
    "text = dasovich[\"Text\"]\n",
    "toks_count = []\n",
    "for email in text:\n",
    "    toks_count.append(len(nltk.word_tokenize(email)))"
   ]
  },
  {
   "cell_type": "code",
   "execution_count": 160,
   "metadata": {},
   "outputs": [
    {
     "data": {
      "text/plain": [
       "[407, 338, 107, 734, 197]"
      ]
     },
     "execution_count": 160,
     "metadata": {},
     "output_type": "execute_result"
    },
    {
     "data": {
      "text/plain": [
       "748.3509615384615"
      ]
     },
     "execution_count": 160,
     "metadata": {},
     "output_type": "execute_result"
    }
   ],
   "source": [
    "toks_count[:5]\n",
    "count = 0\n",
    "for tokC in toks_count:\n",
    "    count+=tokC\n",
    "avg_WCount = count/len(dasovich)\n",
    "avg_WCount"
   ]
  },
  {
   "cell_type": "markdown",
   "metadata": {},
   "source": [
    "*Note*: Average email length of J. Dasovich is around 750 words! Let's plot it though."
   ]
  },
  {
   "cell_type": "code",
   "execution_count": 163,
   "metadata": {},
   "outputs": [
    {
     "data": {
      "text/plain": [
       "<matplotlib.axes._subplots.AxesSubplot at 0x4e52dc30>"
      ]
     },
     "execution_count": 163,
     "metadata": {},
     "output_type": "execute_result"
    },
    {
     "data": {
      "image/png": "[encoded data removed]",
      "text/plain": [
       "<Figure size 432x288 with 1 Axes>"
      ]
     },
     "metadata": {
      "needs_background": "light"
     },
     "output_type": "display_data"
    }
   ],
   "source": [
    "sns.distplot(toks_count)"
   ]
  },
  {
   "cell_type": "markdown",
   "metadata": {},
   "source": [
    "***Wordclouds***"
   ]
  },
  {
   "cell_type": "code",
   "execution_count": 166,
   "metadata": {},
   "outputs": [
    {
     "ename": "ModuleNotFoundError",
     "evalue": "No module named 'wordcloud'",
     "output_type": "error",
     "traceback": [
      "\u001b[1;31m---------------------------------------------------------------------------\u001b[0m",
      "\u001b[1;31mModuleNotFoundError\u001b[0m                       Traceback (most recent call last)",
      "\u001b[1;32m<ipython-input-166-bef01ab18c10>\u001b[0m in \u001b[0;36m<module>\u001b[1;34m\u001b[0m\n\u001b[1;32m----> 1\u001b[1;33m \u001b[1;32mfrom\u001b[0m \u001b[0mwordcloud\u001b[0m \u001b[1;32mimport\u001b[0m \u001b[0mWordCloud\u001b[0m\u001b[1;33m,\u001b[0m \u001b[0mSTOPWORDS\u001b[0m\u001b[1;33m\u001b[0m\u001b[1;33m\u001b[0m\u001b[0m\n\u001b[0m\u001b[0;32m      2\u001b[0m \u001b[0mstopwords\u001b[0m \u001b[1;33m=\u001b[0m \u001b[0mset\u001b[0m\u001b[1;33m(\u001b[0m\u001b[0mSTOPWORDS\u001b[0m\u001b[1;33m)\u001b[0m\u001b[1;33m\u001b[0m\u001b[1;33m\u001b[0m\u001b[0m\n\u001b[0;32m      3\u001b[0m to_add = ['FW', 'ga', 'httpitcappscorpenroncomsrrsauthemaillinkaspidpage', 'cc', 'aa', 'aaa', 'aaaa',\n\u001b[0;32m      4\u001b[0m          'hou', 'cc', 'etc', 'subject', 'pm']\n\u001b[0;32m      5\u001b[0m \u001b[1;33m\u001b[0m\u001b[0m\n",
      "\u001b[1;31mModuleNotFoundError\u001b[0m: No module named 'wordcloud'"
     ]
    }
   ],
   "source": [
    "from wordcloud import WordCloud, STOPWORDS\n",
    "stopwords = set(STOPWORDS)\n",
    "to_add = ['FW', 'ga', 'httpitcappscorpenroncomsrrsauthemaillinkaspidpage', 'cc', 'aa', 'aaa', 'aaaa',\n",
    "         'hou', 'cc', 'etc', 'subject', 'pm']\n",
    "\n",
    "for i in to_add:\n",
    "    stopwords.add(i)"
   ]
  },
  {
   "cell_type": "code",
   "execution_count": 165,
   "metadata": {},
   "outputs": [
    {
     "ename": "NameError",
     "evalue": "name 'WordCloud' is not defined",
     "output_type": "error",
     "traceback": [
      "\u001b[1;31m---------------------------------------------------------------------------\u001b[0m",
      "\u001b[1;31mNameError\u001b[0m                                 Traceback (most recent call last)",
      "\u001b[1;32m<ipython-input-165-8c9dd5dae00d>\u001b[0m in \u001b[0;36m<module>\u001b[1;34m\u001b[0m\n\u001b[1;32m----> 1\u001b[1;33m wordcloud = WordCloud(\n\u001b[0m\u001b[0;32m      2\u001b[0m                           \u001b[0mcollocations\u001b[0m \u001b[1;33m=\u001b[0m \u001b[1;32mFalse\u001b[0m\u001b[1;33m,\u001b[0m\u001b[1;33m\u001b[0m\u001b[1;33m\u001b[0m\u001b[0m\n\u001b[0;32m      3\u001b[0m                           \u001b[0mwidth\u001b[0m\u001b[1;33m=\u001b[0m\u001b[1;36m1600\u001b[0m\u001b[1;33m,\u001b[0m \u001b[0mheight\u001b[0m\u001b[1;33m=\u001b[0m\u001b[1;36m800\u001b[0m\u001b[1;33m,\u001b[0m\u001b[1;33m\u001b[0m\u001b[1;33m\u001b[0m\u001b[0m\n\u001b[0;32m      4\u001b[0m                           \u001b[0mbackground_color\u001b[0m\u001b[1;33m=\u001b[0m\u001b[1;34m'white'\u001b[0m\u001b[1;33m,\u001b[0m\u001b[1;33m\u001b[0m\u001b[1;33m\u001b[0m\u001b[0m\n\u001b[0;32m      5\u001b[0m                           \u001b[0mstopwords\u001b[0m\u001b[1;33m=\u001b[0m\u001b[0mstopwords\u001b[0m\u001b[1;33m,\u001b[0m\u001b[1;33m\u001b[0m\u001b[1;33m\u001b[0m\u001b[0m\n",
      "\u001b[1;31mNameError\u001b[0m: name 'WordCloud' is not defined"
     ]
    }
   ],
   "source": [
    "wordcloud = WordCloud(\n",
    "                          collocations = False,\n",
    "                          width=1600, height=800,\n",
    "                          background_color='white',\n",
    "                          stopwords=stopwords,\n",
    "                          max_words=150,\n",
    "                          #max_font_size=40, \n",
    "                          random_state=42\n",
    "                         ).generate(' '.join(df['Subject_new'])) # can't pass a series, needs to be strings and function computes frequencies\n",
    "print(wordcloud)\n",
    "plt.figure(figsize=(9,8))\n",
    "fig = plt.figure(1)\n",
    "plt.imshow(wordcloud)\n",
    "plt.axis('off')\n",
    "plt.show()"
   ]
  },
  {
   "cell_type": "code",
   "execution_count": null,
   "metadata": {},
   "outputs": [],
   "source": []
  }
 ],
 "metadata": {
  "kernelspec": {
   "display_name": "Python 3",
   "language": "python",
   "name": "python3"
  },
  "language_info": {
   "codemirror_mode": {
    "name": "ipython",
    "version": 3
   },
   "file_extension": ".py",
   "mimetype": "text/x-python",
   "name": "python",
   "nbconvert_exporter": "python",
   "pygments_lexer": "ipython3",
   "version": "3.7.4"
  }
 },
 "nbformat": 4,
 "nbformat_minor": 2
}
