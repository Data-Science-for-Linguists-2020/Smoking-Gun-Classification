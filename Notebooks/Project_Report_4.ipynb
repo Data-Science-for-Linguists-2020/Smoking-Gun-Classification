{
 "cells": [
  {
   "cell_type": "markdown",
   "metadata": {},
   "source": [
    "# Project Report IV: Finally, Some Data Analysis!\n",
    "___\n",
    "**Brief:**<br>\n",
    "In this report, I'll be taking on the unsupervised and then supervised learning tasks for my project.\n",
    "\n",
    "**Sections:**<br>\n",
    "1. [Failed Unsupervised Learning: A Prologue](#1)\n",
    "2. [Data Exploration](#2)\n",
    "3. [Supervised Learning](#2)\n",
    "___\n",
    "<a id='1'>"
   ]
  },
  {
   "cell_type": "markdown",
   "metadata": {},
   "source": [
    "## Failed Unsupervised Learning: A Prologue\n",
    "<a id='1a'>"
   ]
  },
  {
   "cell_type": "code",
   "execution_count": 1,
   "metadata": {},
   "outputs": [],
   "source": [
    "from IPython.core.interactiveshell import InteractiveShell\n",
    "InteractiveShell.ast_node_interactivity = \"all\"\n",
    "import nltk\n",
    "from nltk.corpus import PlaintextCorpusReader as cr\n",
    "import pandas as pd\n",
    "import numpy as np\n",
    "import sklearn\n",
    "from sklearn.feature_extraction.text import TfidfVectorizer"
   ]
  },
  {
   "cell_type": "code",
   "execution_count": 2,
   "metadata": {},
   "outputs": [],
   "source": [
    "import pickle\n",
    "file = open('email_df', 'rb')\n",
    "email_df = pickle.load(file)\n",
    "file.close()"
   ]
  },
  {
   "cell_type": "code",
   "execution_count": 3,
   "metadata": {},
   "outputs": [
    {
     "data": {
      "text/html": [
       "<div>\n",
       "<style scoped>\n",
       "    .dataframe tbody tr th:only-of-type {\n",
       "        vertical-align: middle;\n",
       "    }\n",
       "\n",
       "    .dataframe tbody tr th {\n",
       "        vertical-align: top;\n",
       "    }\n",
       "\n",
       "    .dataframe thead th {\n",
       "        text-align: right;\n",
       "    }\n",
       "</style>\n",
       "<table border=\"1\" class=\"dataframe\">\n",
       "  <thead>\n",
       "    <tr style=\"text-align: right;\">\n",
       "      <th></th>\n",
       "      <th>Date</th>\n",
       "      <th>From</th>\n",
       "      <th>To</th>\n",
       "      <th>Subject</th>\n",
       "      <th>Cc</th>\n",
       "      <th>Bcc</th>\n",
       "      <th>X-From</th>\n",
       "      <th>X-To</th>\n",
       "      <th>X-cc</th>\n",
       "      <th>X-bcc</th>\n",
       "      <th>X-Folder</th>\n",
       "      <th>X-FileName</th>\n",
       "      <th>Text</th>\n",
       "      <th>Folder</th>\n",
       "      <th>User</th>\n",
       "    </tr>\n",
       "  </thead>\n",
       "  <tbody>\n",
       "    <tr>\n",
       "      <td>85691</td>\n",
       "      <td>Wed, 15 Nov 2000 23:55:00 -0800 (PST)</td>\n",
       "      <td>dgagliardi@reliantenergy.com</td>\n",
       "      <td>clint.dean@enron.com</td>\n",
       "      <td>True Orange Fax/E-Mail #107</td>\n",
       "      <td>1.0</td>\n",
       "      <td>Clint.dean@enron.com</td>\n",
       "      <td></td>\n",
       "      <td></td>\n",
       "      <td>\\Clint_Dean_Dec2000\\Notes Folders\\Info</td>\n",
       "      <td>Dean-C</td>\n",
       "      <td>cdean.nsf</td>\n",
       "      <td>None</td>\n",
       "      <td>---------------------- Forwarded by David M Ga...</td>\n",
       "      <td>info</td>\n",
       "      <td>dean-c</td>\n",
       "    </tr>\n",
       "    <tr>\n",
       "      <td>85556</td>\n",
       "      <td>Mon, 30 Jul 2001 07:17:19 -0700 (PDT)</td>\n",
       "      <td>dgagliardi@reliant.com</td>\n",
       "      <td>FW: True Orange E-Mail/Fax #69</td>\n",
       "      <td>1.0</td>\n",
       "      <td>text/plain; charset=us-ascii</td>\n",
       "      <td></td>\n",
       "      <td></td>\n",
       "      <td>\\CDEAN (Non-Privileged)\\Dean, Clint\\Info</td>\n",
       "      <td>DEAN-C</td>\n",
       "      <td>CDEAN (Non-Privileged).pst</td>\n",
       "      <td>None</td>\n",
       "      <td>None</td>\n",
       "      <td>\\n----- Forwarded by David M Gagliardi/TTG/Hou...</td>\n",
       "      <td>info</td>\n",
       "      <td>dean-c</td>\n",
       "    </tr>\n",
       "    <tr>\n",
       "      <td>99409</td>\n",
       "      <td>Wed, 17 Jan 2001 03:11:00 -0800 (PST)</td>\n",
       "      <td>mjones7@txu.com</td>\n",
       "      <td>daren.j.farmer@enron.com, ggreen2@txu.com, cst...</td>\n",
       "      <td>HPL Nom for January 18, 2001</td>\n",
       "      <td>1.0</td>\n",
       "      <td>daren.j.farmer@enron.com, \"Gary Green\" &lt;ggreen...</td>\n",
       "      <td></td>\n",
       "      <td></td>\n",
       "      <td>\\Darren_Farmer_Jun2001\\Notes Folders\\All docum...</td>\n",
       "      <td>Farmer-D</td>\n",
       "      <td>dfarmer.nsf</td>\n",
       "      <td>None</td>\n",
       "      <td>(See attached file: HPLN0118.xls)\\n\\n - HPLN01...</td>\n",
       "      <td>all_documents</td>\n",
       "      <td>farmer-d</td>\n",
       "    </tr>\n",
       "    <tr>\n",
       "      <td>30761</td>\n",
       "      <td>Mon, 9 Apr 2001 10:53:00 -0700 (PDT)</td>\n",
       "      <td>sally.beck@enron.com</td>\n",
       "      <td>bob.hall@enron.com, beth.apollo@enron.com, bre...</td>\n",
       "      <td>Hold the Date</td>\n",
       "      <td>1.0</td>\n",
       "      <td>Bob M Hall, Beth Apollo, Brent A Price, Brenda...</td>\n",
       "      <td></td>\n",
       "      <td></td>\n",
       "      <td>\\Sally_Beck_Jun2001\\Notes Folders\\'sent mail</td>\n",
       "      <td>Beck-S</td>\n",
       "      <td>sbeck.nsf</td>\n",
       "      <td>None</td>\n",
       "      <td>Beth Apollo has recently joined the team and B...</td>\n",
       "      <td>_sent_mail</td>\n",
       "      <td>beck-s</td>\n",
       "    </tr>\n",
       "    <tr>\n",
       "      <td>29579</td>\n",
       "      <td>Fri, 19 Oct 2001 11:44:44 -0700 (PDT)</td>\n",
       "      <td>sally.beck@enron.com</td>\n",
       "      <td>c..gossett@enron.com</td>\n",
       "      <td>RE: Names Needed for Golf Tournament</td>\n",
       "      <td>1.0</td>\n",
       "      <td>Gossett, Jeffrey C. &lt;/O=ENRON/OU=NA/CN=RECIPIE...</td>\n",
       "      <td></td>\n",
       "      <td></td>\n",
       "      <td>\\SBECK (Non-Privileged)\\Sent Items</td>\n",
       "      <td>Beck-S</td>\n",
       "      <td>SBECK (Non-Privileged).pst</td>\n",
       "      <td>None</td>\n",
       "      <td>Thanks, Jeff.  I will get you more info for yo...</td>\n",
       "      <td>sent_items</td>\n",
       "      <td>beck-s</td>\n",
       "    </tr>\n",
       "  </tbody>\n",
       "</table>\n",
       "</div>"
      ],
      "text/plain": [
       "                                        Date                          From  \\\n",
       "85691  Wed, 15 Nov 2000 23:55:00 -0800 (PST)  dgagliardi@reliantenergy.com   \n",
       "85556  Mon, 30 Jul 2001 07:17:19 -0700 (PDT)        dgagliardi@reliant.com   \n",
       "99409  Wed, 17 Jan 2001 03:11:00 -0800 (PST)               mjones7@txu.com   \n",
       "30761   Mon, 9 Apr 2001 10:53:00 -0700 (PDT)          sally.beck@enron.com   \n",
       "29579  Fri, 19 Oct 2001 11:44:44 -0700 (PDT)          sally.beck@enron.com   \n",
       "\n",
       "                                                      To  \\\n",
       "85691                               clint.dean@enron.com   \n",
       "85556                     FW: True Orange E-Mail/Fax #69   \n",
       "99409  daren.j.farmer@enron.com, ggreen2@txu.com, cst...   \n",
       "30761  bob.hall@enron.com, beth.apollo@enron.com, bre...   \n",
       "29579                               c..gossett@enron.com   \n",
       "\n",
       "                                    Subject                            Cc  \\\n",
       "85691           True Orange Fax/E-Mail #107                           1.0   \n",
       "85556                                   1.0  text/plain; charset=us-ascii   \n",
       "99409          HPL Nom for January 18, 2001                           1.0   \n",
       "30761                         Hold the Date                           1.0   \n",
       "29579  RE: Names Needed for Golf Tournament                           1.0   \n",
       "\n",
       "                                                     Bcc X-From  \\\n",
       "85691                               Clint.dean@enron.com          \n",
       "85556                                                             \n",
       "99409  daren.j.farmer@enron.com, \"Gary Green\" <ggreen...          \n",
       "30761  Bob M Hall, Beth Apollo, Brent A Price, Brenda...          \n",
       "29579  Gossett, Jeffrey C. </O=ENRON/OU=NA/CN=RECIPIE...          \n",
       "\n",
       "                                           X-To  \\\n",
       "85691                                             \n",
       "85556  \\CDEAN (Non-Privileged)\\Dean, Clint\\Info   \n",
       "99409                                             \n",
       "30761                                             \n",
       "29579                                             \n",
       "\n",
       "                                                    X-cc  \\\n",
       "85691             \\Clint_Dean_Dec2000\\Notes Folders\\Info   \n",
       "85556                                             DEAN-C   \n",
       "99409  \\Darren_Farmer_Jun2001\\Notes Folders\\All docum...   \n",
       "30761       \\Sally_Beck_Jun2001\\Notes Folders\\'sent mail   \n",
       "29579                 \\SBECK (Non-Privileged)\\Sent Items   \n",
       "\n",
       "                            X-bcc                    X-Folder X-FileName  \\\n",
       "85691                      Dean-C                   cdean.nsf       None   \n",
       "85556  CDEAN (Non-Privileged).pst                        None       None   \n",
       "99409                    Farmer-D                 dfarmer.nsf       None   \n",
       "30761                      Beck-S                   sbeck.nsf       None   \n",
       "29579                      Beck-S  SBECK (Non-Privileged).pst       None   \n",
       "\n",
       "                                                    Text         Folder  \\\n",
       "85691  ---------------------- Forwarded by David M Ga...           info   \n",
       "85556  \\n----- Forwarded by David M Gagliardi/TTG/Hou...           info   \n",
       "99409  (See attached file: HPLN0118.xls)\\n\\n - HPLN01...  all_documents   \n",
       "30761  Beth Apollo has recently joined the team and B...     _sent_mail   \n",
       "29579  Thanks, Jeff.  I will get you more info for yo...     sent_items   \n",
       "\n",
       "           User  \n",
       "85691    dean-c  \n",
       "85556    dean-c  \n",
       "99409  farmer-d  \n",
       "30761    beck-s  \n",
       "29579    beck-s  "
      ]
     },
     "execution_count": 3,
     "metadata": {},
     "output_type": "execute_result"
    }
   ],
   "source": [
    "small_df = email_df.sample(10000)\n",
    "small_df[:5]"
   ]
  },
  {
   "cell_type": "markdown",
   "metadata": {},
   "source": [
    "*Note*: So at this point, there is just too much data. Going to use \"small_df\" the rest of the way."
   ]
  },
  {
   "cell_type": "code",
   "execution_count": 4,
   "metadata": {},
   "outputs": [],
   "source": [
    "#vectorizer = TfidfVectorizer(stop_words=\"english\")\n",
    "#text_tfidf = vectorizer.fit_transform(text)\n",
    "#text_tfidf"
   ]
  },
  {
   "cell_type": "code",
   "execution_count": 5,
   "metadata": {},
   "outputs": [],
   "source": [
    "#from sklearn.cluster import KMeans\n",
    "#k_model = KMeans(n_clusters=3)\n",
    "#k_model.fit(text_tfidf)\n",
    "#k_model.predict(text_tfidf)\n",
    "#labels = k_model.labels_"
   ]
  },
  {
   "cell_type": "code",
   "execution_count": 6,
   "metadata": {},
   "outputs": [],
   "source": [
    "#import matplotlib.pyplot as plt\n",
    "#from mpl_toolkits.mplot3d import Axes3D\n",
    "#plot = plt.figure()\n",
    "#ax = Axes3D(plot, rect=[0, 0, 0.95, 1], elev=48, azim=134)\n",
    "#ax.scatter(text[:, 3], text[:, 0], text[:, 2],\n",
    "#          c=labels.astype(np.float), edgecolor=\"k\", s=50)\n",
    "#ax.set_xlabel(\"x\")\n",
    "#ax.set_ylabel(\"y\")\n",
    "#ax.set_zlabel(\"z\")\n",
    "#plt.title(\"K Means\", fontsize=14)"
   ]
  },
  {
   "cell_type": "markdown",
   "metadata": {},
   "source": [
    "*Summary*: So, ultimately this has been a very confusing experience for me. I tried to take on unsupervised learning, but I'm really finding myself learning much more on tutorials than I'd like to. Instead, let's take a step back and look other parts of the data, then revisit this.\n",
    "<a id='2'>"
   ]
  },
  {
   "cell_type": "markdown",
   "metadata": {},
   "source": [
    "## Data Exploration"
   ]
  },
  {
   "cell_type": "markdown",
   "metadata": {},
   "source": [
    "***DateTime and Chronology***<br>\n",
    "Much of what follows is inspired by a fantastic resource I found on Kaggle (https://www.kaggle.com/dfoly1/k-means-clustering-from-scratch). I'll be using it to help organize my DF better (the _to_datetime_ thing and much of the unsupervised learning)."
   ]
  },
  {
   "cell_type": "markdown",
   "metadata": {},
   "source": [
    "My first goal is to get a sense of when these emails were sent, so we'll be using the DateTime library!"
   ]
  },
  {
   "cell_type": "code",
   "execution_count": 7,
   "metadata": {},
   "outputs": [],
   "source": [
    "small_df['Date'] = pd.to_datetime(small_df['Date'], infer_datetime_format=True)"
   ]
  },
  {
   "cell_type": "code",
   "execution_count": 19,
   "metadata": {},
   "outputs": [
    {
     "data": {
      "text/html": [
       "<div>\n",
       "<style scoped>\n",
       "    .dataframe tbody tr th:only-of-type {\n",
       "        vertical-align: middle;\n",
       "    }\n",
       "\n",
       "    .dataframe tbody tr th {\n",
       "        vertical-align: top;\n",
       "    }\n",
       "\n",
       "    .dataframe thead th {\n",
       "        text-align: right;\n",
       "    }\n",
       "</style>\n",
       "<table border=\"1\" class=\"dataframe\">\n",
       "  <thead>\n",
       "    <tr style=\"text-align: right;\">\n",
       "      <th></th>\n",
       "      <th>Date</th>\n",
       "      <th>From</th>\n",
       "      <th>To</th>\n",
       "      <th>Subject</th>\n",
       "      <th>Cc</th>\n",
       "      <th>Bcc</th>\n",
       "      <th>X-From</th>\n",
       "      <th>X-To</th>\n",
       "      <th>X-cc</th>\n",
       "      <th>X-bcc</th>\n",
       "      <th>X-Folder</th>\n",
       "      <th>X-FileName</th>\n",
       "      <th>Text</th>\n",
       "      <th>Folder</th>\n",
       "      <th>User</th>\n",
       "      <th>Month</th>\n",
       "      <th>Day</th>\n",
       "      <th>Year</th>\n",
       "    </tr>\n",
       "  </thead>\n",
       "  <tbody>\n",
       "    <tr>\n",
       "      <td>85691</td>\n",
       "      <td>2000-11-15 23:55:00-08:00</td>\n",
       "      <td>dgagliardi@reliantenergy.com</td>\n",
       "      <td>clint.dean@enron.com</td>\n",
       "      <td>True Orange Fax/E-Mail #107</td>\n",
       "      <td>1.0</td>\n",
       "      <td>Clint.dean@enron.com</td>\n",
       "      <td></td>\n",
       "      <td></td>\n",
       "      <td>\\Clint_Dean_Dec2000\\Notes Folders\\Info</td>\n",
       "      <td>Dean-C</td>\n",
       "      <td>cdean.nsf</td>\n",
       "      <td>None</td>\n",
       "      <td>---------------------- Forwarded by David M Ga...</td>\n",
       "      <td>info</td>\n",
       "      <td>dean-c</td>\n",
       "      <td>11</td>\n",
       "      <td>15</td>\n",
       "      <td>2000</td>\n",
       "    </tr>\n",
       "    <tr>\n",
       "      <td>85556</td>\n",
       "      <td>2001-07-30 07:17:19-07:00</td>\n",
       "      <td>dgagliardi@reliant.com</td>\n",
       "      <td>FW: True Orange E-Mail/Fax #69</td>\n",
       "      <td>1.0</td>\n",
       "      <td>text/plain; charset=us-ascii</td>\n",
       "      <td></td>\n",
       "      <td></td>\n",
       "      <td>\\CDEAN (Non-Privileged)\\Dean, Clint\\Info</td>\n",
       "      <td>DEAN-C</td>\n",
       "      <td>CDEAN (Non-Privileged).pst</td>\n",
       "      <td>None</td>\n",
       "      <td>None</td>\n",
       "      <td>\\n----- Forwarded by David M Gagliardi/TTG/Hou...</td>\n",
       "      <td>info</td>\n",
       "      <td>dean-c</td>\n",
       "      <td>7</td>\n",
       "      <td>30</td>\n",
       "      <td>2001</td>\n",
       "    </tr>\n",
       "    <tr>\n",
       "      <td>99409</td>\n",
       "      <td>2001-01-17 03:11:00-08:00</td>\n",
       "      <td>mjones7@txu.com</td>\n",
       "      <td>daren.j.farmer@enron.com, ggreen2@txu.com, cst...</td>\n",
       "      <td>HPL Nom for January 18, 2001</td>\n",
       "      <td>1.0</td>\n",
       "      <td>daren.j.farmer@enron.com, \"Gary Green\" &lt;ggreen...</td>\n",
       "      <td></td>\n",
       "      <td></td>\n",
       "      <td>\\Darren_Farmer_Jun2001\\Notes Folders\\All docum...</td>\n",
       "      <td>Farmer-D</td>\n",
       "      <td>dfarmer.nsf</td>\n",
       "      <td>None</td>\n",
       "      <td>(See attached file: HPLN0118.xls)\\n\\n - HPLN01...</td>\n",
       "      <td>all_documents</td>\n",
       "      <td>farmer-d</td>\n",
       "      <td>1</td>\n",
       "      <td>17</td>\n",
       "      <td>2001</td>\n",
       "    </tr>\n",
       "    <tr>\n",
       "      <td>30761</td>\n",
       "      <td>2001-04-09 10:53:00-07:00</td>\n",
       "      <td>sally.beck@enron.com</td>\n",
       "      <td>bob.hall@enron.com, beth.apollo@enron.com, bre...</td>\n",
       "      <td>Hold the Date</td>\n",
       "      <td>1.0</td>\n",
       "      <td>Bob M Hall, Beth Apollo, Brent A Price, Brenda...</td>\n",
       "      <td></td>\n",
       "      <td></td>\n",
       "      <td>\\Sally_Beck_Jun2001\\Notes Folders\\'sent mail</td>\n",
       "      <td>Beck-S</td>\n",
       "      <td>sbeck.nsf</td>\n",
       "      <td>None</td>\n",
       "      <td>Beth Apollo has recently joined the team and B...</td>\n",
       "      <td>_sent_mail</td>\n",
       "      <td>beck-s</td>\n",
       "      <td>4</td>\n",
       "      <td>9</td>\n",
       "      <td>2001</td>\n",
       "    </tr>\n",
       "    <tr>\n",
       "      <td>29579</td>\n",
       "      <td>2001-10-19 11:44:44-07:00</td>\n",
       "      <td>sally.beck@enron.com</td>\n",
       "      <td>c..gossett@enron.com</td>\n",
       "      <td>RE: Names Needed for Golf Tournament</td>\n",
       "      <td>1.0</td>\n",
       "      <td>Gossett, Jeffrey C. &lt;/O=ENRON/OU=NA/CN=RECIPIE...</td>\n",
       "      <td></td>\n",
       "      <td></td>\n",
       "      <td>\\SBECK (Non-Privileged)\\Sent Items</td>\n",
       "      <td>Beck-S</td>\n",
       "      <td>SBECK (Non-Privileged).pst</td>\n",
       "      <td>None</td>\n",
       "      <td>Thanks, Jeff.  I will get you more info for yo...</td>\n",
       "      <td>sent_items</td>\n",
       "      <td>beck-s</td>\n",
       "      <td>10</td>\n",
       "      <td>19</td>\n",
       "      <td>2001</td>\n",
       "    </tr>\n",
       "  </tbody>\n",
       "</table>\n",
       "</div>"
      ],
      "text/plain": [
       "                            Date                          From  \\\n",
       "85691  2000-11-15 23:55:00-08:00  dgagliardi@reliantenergy.com   \n",
       "85556  2001-07-30 07:17:19-07:00        dgagliardi@reliant.com   \n",
       "99409  2001-01-17 03:11:00-08:00               mjones7@txu.com   \n",
       "30761  2001-04-09 10:53:00-07:00          sally.beck@enron.com   \n",
       "29579  2001-10-19 11:44:44-07:00          sally.beck@enron.com   \n",
       "\n",
       "                                                      To  \\\n",
       "85691                               clint.dean@enron.com   \n",
       "85556                     FW: True Orange E-Mail/Fax #69   \n",
       "99409  daren.j.farmer@enron.com, ggreen2@txu.com, cst...   \n",
       "30761  bob.hall@enron.com, beth.apollo@enron.com, bre...   \n",
       "29579                               c..gossett@enron.com   \n",
       "\n",
       "                                    Subject                            Cc  \\\n",
       "85691           True Orange Fax/E-Mail #107                           1.0   \n",
       "85556                                   1.0  text/plain; charset=us-ascii   \n",
       "99409          HPL Nom for January 18, 2001                           1.0   \n",
       "30761                         Hold the Date                           1.0   \n",
       "29579  RE: Names Needed for Golf Tournament                           1.0   \n",
       "\n",
       "                                                     Bcc X-From  \\\n",
       "85691                               Clint.dean@enron.com          \n",
       "85556                                                             \n",
       "99409  daren.j.farmer@enron.com, \"Gary Green\" <ggreen...          \n",
       "30761  Bob M Hall, Beth Apollo, Brent A Price, Brenda...          \n",
       "29579  Gossett, Jeffrey C. </O=ENRON/OU=NA/CN=RECIPIE...          \n",
       "\n",
       "                                           X-To  \\\n",
       "85691                                             \n",
       "85556  \\CDEAN (Non-Privileged)\\Dean, Clint\\Info   \n",
       "99409                                             \n",
       "30761                                             \n",
       "29579                                             \n",
       "\n",
       "                                                    X-cc  \\\n",
       "85691             \\Clint_Dean_Dec2000\\Notes Folders\\Info   \n",
       "85556                                             DEAN-C   \n",
       "99409  \\Darren_Farmer_Jun2001\\Notes Folders\\All docum...   \n",
       "30761       \\Sally_Beck_Jun2001\\Notes Folders\\'sent mail   \n",
       "29579                 \\SBECK (Non-Privileged)\\Sent Items   \n",
       "\n",
       "                            X-bcc                    X-Folder X-FileName  \\\n",
       "85691                      Dean-C                   cdean.nsf       None   \n",
       "85556  CDEAN (Non-Privileged).pst                        None       None   \n",
       "99409                    Farmer-D                 dfarmer.nsf       None   \n",
       "30761                      Beck-S                   sbeck.nsf       None   \n",
       "29579                      Beck-S  SBECK (Non-Privileged).pst       None   \n",
       "\n",
       "                                                    Text         Folder  \\\n",
       "85691  ---------------------- Forwarded by David M Ga...           info   \n",
       "85556  \\n----- Forwarded by David M Gagliardi/TTG/Hou...           info   \n",
       "99409  (See attached file: HPLN0118.xls)\\n\\n - HPLN01...  all_documents   \n",
       "30761  Beth Apollo has recently joined the team and B...     _sent_mail   \n",
       "29579  Thanks, Jeff.  I will get you more info for yo...     sent_items   \n",
       "\n",
       "           User  Month  Day  Year  \n",
       "85691    dean-c     11   15  2000  \n",
       "85556    dean-c      7   30  2001  \n",
       "99409  farmer-d      1   17  2001  \n",
       "30761    beck-s      4    9  2001  \n",
       "29579    beck-s     10   19  2001  "
      ]
     },
     "execution_count": 19,
     "metadata": {},
     "output_type": "execute_result"
    }
   ],
   "source": [
    "months = []\n",
    "days = []\n",
    "years = []\n",
    "for date in small_df['Date']:\n",
    "    months.append(date.month)\n",
    "    days.append(date.day)\n",
    "    years.append(date.year)\n",
    "small_df[\"Month\"] = months\n",
    "small_df[\"Day\"] = days\n",
    "small_df[\"Year\"] = years\n",
    "small_df[:5]"
   ]
  },
  {
   "cell_type": "code",
   "execution_count": 26,
   "metadata": {},
   "outputs": [
    {
     "data": {
      "text/plain": [
       "<Figure size 432x288 with 0 Axes>"
      ]
     },
     "execution_count": 26,
     "metadata": {},
     "output_type": "execute_result"
    },
    {
     "data": {
      "image/png": "[encoded data removed]",
      "text/plain": [
       "<Figure size 432x288 with 1 Axes>"
      ]
     },
     "metadata": {
      "needs_background": "light"
     },
     "output_type": "display_data"
    }
   ],
   "source": [
    "import matplotlib.pyplot as plt\n",
    "x_ax = (small_df[\"Year\"] == 2000)\n",
    "plt.figure()\n",
    "time_graph = small_df.loc[x_ax].groupby(\"Month\")[\"Text\"].count().plot()"
   ]
  },
  {
   "cell_type": "markdown",
   "metadata": {},
   "source": [
    "*Note*: My chronological graph is working! Onto wordclouds, common users, unique emails, and more!\n",
    "<a id='1b'>"
   ]
  },
  {
   "cell_type": "markdown",
   "metadata": {},
   "source": [
    "***A Census of The Users***"
   ]
  },
  {
   "cell_type": "code",
   "execution_count": 27,
   "metadata": {},
   "outputs": [
    {
     "name": "stdout",
     "output_type": "stream",
     "text": [
      "percentage of unique emails sent: 50.07\n",
      "percentage of unique emails received: 25.130000000000003\n"
     ]
    }
   ],
   "source": [
    "setTo = small_df[\"To\"].nunique()\n",
    "setFrom = small_df[\"From\"].nunique()\n",
    "totalSet = small_df[\"To\"].count()\n",
    "print(\"percentage of unique emails sent:\", (setTo/totalSet)*100)\n",
    "print(\"percentage of unique emails received:\", (setFrom/totalSet)*100)"
   ]
  },
  {
   "cell_type": "code",
   "execution_count": 61,
   "metadata": {},
   "outputs": [
    {
     "data": {
      "text/plain": [
       "'dasovich-j'"
      ]
     },
     "execution_count": 61,
     "metadata": {},
     "output_type": "execute_result"
    },
    {
     "data": {
      "text/plain": [
       "10.08"
      ]
     },
     "execution_count": 61,
     "metadata": {},
     "output_type": "execute_result"
    },
    {
     "data": {
      "text/plain": [
       "'kaminski-v'"
      ]
     },
     "execution_count": 61,
     "metadata": {},
     "output_type": "execute_result"
    },
    {
     "data": {
      "text/plain": [
       "9.24"
      ]
     },
     "execution_count": 61,
     "metadata": {},
     "output_type": "execute_result"
    },
    {
     "data": {
      "text/plain": [
       "'jones-t'"
      ]
     },
     "execution_count": 61,
     "metadata": {},
     "output_type": "execute_result"
    },
    {
     "data": {
      "text/plain": [
       "6.88"
      ]
     },
     "execution_count": 61,
     "metadata": {},
     "output_type": "execute_result"
    },
    {
     "data": {
      "text/plain": [
       "'kean-s'"
      ]
     },
     "execution_count": 61,
     "metadata": {},
     "output_type": "execute_result"
    },
    {
     "data": {
      "text/plain": [
       "6.12"
      ]
     },
     "execution_count": 61,
     "metadata": {},
     "output_type": "execute_result"
    },
    {
     "data": {
      "text/plain": [
       "'farmer-d'"
      ]
     },
     "execution_count": 61,
     "metadata": {},
     "output_type": "execute_result"
    },
    {
     "data": {
      "text/plain": [
       "4.84"
      ]
     },
     "execution_count": 61,
     "metadata": {},
     "output_type": "execute_result"
    },
    {
     "data": {
      "text/plain": [
       "'germany-c'"
      ]
     },
     "execution_count": 61,
     "metadata": {},
     "output_type": "execute_result"
    },
    {
     "data": {
      "text/plain": [
       "4.29"
      ]
     },
     "execution_count": 61,
     "metadata": {},
     "output_type": "execute_result"
    },
    {
     "data": {
      "text/plain": [
       "'beck-s'"
      ]
     },
     "execution_count": 61,
     "metadata": {},
     "output_type": "execute_result"
    },
    {
     "data": {
      "text/plain": [
       "3.81"
      ]
     },
     "execution_count": 61,
     "metadata": {},
     "output_type": "execute_result"
    },
    {
     "data": {
      "text/plain": [
       "'bass-e'"
      ]
     },
     "execution_count": 61,
     "metadata": {},
     "output_type": "execute_result"
    },
    {
     "data": {
      "text/plain": [
       "2.74"
      ]
     },
     "execution_count": 61,
     "metadata": {},
     "output_type": "execute_result"
    },
    {
     "data": {
      "text/plain": [
       "'campbell-l'"
      ]
     },
     "execution_count": 61,
     "metadata": {},
     "output_type": "execute_result"
    },
    {
     "data": {
      "text/plain": [
       "2.4299999999999997"
      ]
     },
     "execution_count": 61,
     "metadata": {},
     "output_type": "execute_result"
    },
    {
     "data": {
      "text/plain": [
       "'guzman-m'"
      ]
     },
     "execution_count": 61,
     "metadata": {},
     "output_type": "execute_result"
    },
    {
     "data": {
      "text/plain": [
       "2.2800000000000002"
      ]
     },
     "execution_count": 61,
     "metadata": {},
     "output_type": "execute_result"
    }
   ],
   "source": [
    "topUsers = small_df.groupby(\"User\")[\"Text\"].count().sort_values(ascending=False)\n",
    "user_percentages = []\n",
    "total = len(small_df)\n",
    "count = 0\n",
    "users = list(topUsers.keys())\n",
    "for num in topUsers[:10]:\n",
    "    users[count]\n",
    "    (num/total)*100\n",
    "    count += 1"
   ]
  },
  {
   "cell_type": "markdown",
   "metadata": {},
   "source": [
    "***Surveying Text***"
   ]
  },
  {
   "cell_type": "markdown",
   "metadata": {},
   "source": [
    "***Wordclouds***"
   ]
  }
 ],
 "metadata": {
  "kernelspec": {
   "display_name": "Python 3",
   "language": "python",
   "name": "python3"
  },
  "language_info": {
   "codemirror_mode": {
    "name": "ipython",
    "version": 3
   },
   "file_extension": ".py",
   "mimetype": "text/x-python",
   "name": "python",
   "nbconvert_exporter": "python",
   "pygments_lexer": "ipython3",
   "version": "3.7.4"
  }
 },
 "nbformat": 4,
 "nbformat_minor": 2
}
