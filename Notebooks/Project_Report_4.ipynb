{
 "cells": [
  {
   "cell_type": "markdown",
   "metadata": {},
   "source": [
    "# Project Report IV: Finally, Some Data Analysis!\n",
    "___\n",
    "**Brief:**<br>\n",
    "In this report, I'll be taking on the unsupervised and then supervised learning tasks for my project.\n",
    "\n",
    "**Sections:**<br>\n",
    "1. [Unsupervised Learning](#1)\n",
    "    - [Vectorizing Emails](#1a)\n",
    "    - [K-Clustering TFIDF Vectors](#1b)\n",
    "2. [Supervised Learning](#2)\n",
    "___\n",
    "<a id='1'>"
   ]
  },
  {
   "cell_type": "markdown",
   "metadata": {},
   "source": [
    "## Unsupervised Learning\n",
    "<a id='1a'>"
   ]
  },
  {
   "cell_type": "markdown",
   "metadata": {},
   "source": [
    "***Vectorizing Emails***"
   ]
  },
  {
   "cell_type": "code",
   "execution_count": 1,
   "metadata": {},
   "outputs": [],
   "source": [
    "from IPython.core.interactiveshell import InteractiveShell\n",
    "InteractiveShell.ast_node_interactivity = \"all\"\n",
    "import nltk\n",
    "from nltk.corpus import PlaintextCorpusReader as cr\n",
    "import pandas as pd\n",
    "import numpy as np\n",
    "import sklearn\n",
    "from sklearn.feature_extraction.text import TfidfVectorizer"
   ]
  },
  {
   "cell_type": "code",
   "execution_count": 2,
   "metadata": {},
   "outputs": [],
   "source": [
    "import pickle\n",
    "file = open('email_df', 'rb')\n",
    "email_df = pickle.load(file)\n",
    "file.close()"
   ]
  },
  {
   "cell_type": "code",
   "execution_count": 3,
   "metadata": {},
   "outputs": [
    {
     "data": {
      "text/html": [
       "<div>\n",
       "<style scoped>\n",
       "    .dataframe tbody tr th:only-of-type {\n",
       "        vertical-align: middle;\n",
       "    }\n",
       "\n",
       "    .dataframe tbody tr th {\n",
       "        vertical-align: top;\n",
       "    }\n",
       "\n",
       "    .dataframe thead th {\n",
       "        text-align: right;\n",
       "    }\n",
       "</style>\n",
       "<table border=\"1\" class=\"dataframe\">\n",
       "  <thead>\n",
       "    <tr style=\"text-align: right;\">\n",
       "      <th></th>\n",
       "      <th>Date</th>\n",
       "      <th>From</th>\n",
       "      <th>To</th>\n",
       "      <th>Subject</th>\n",
       "      <th>Cc</th>\n",
       "      <th>Bcc</th>\n",
       "      <th>X-From</th>\n",
       "      <th>X-To</th>\n",
       "      <th>X-cc</th>\n",
       "      <th>X-bcc</th>\n",
       "      <th>X-Folder</th>\n",
       "      <th>X-FileName</th>\n",
       "      <th>Text</th>\n",
       "      <th>Folder</th>\n",
       "      <th>User</th>\n",
       "    </tr>\n",
       "  </thead>\n",
       "  <tbody>\n",
       "    <tr>\n",
       "      <td>0</td>\n",
       "      <td>Wed, 13 Dec 2000 18:41:00 -0800 (PST)</td>\n",
       "      <td>1.11913372.-2@multexinvestornetwork.com</td>\n",
       "      <td>pallen@enron.com</td>\n",
       "      <td>December 14, 2000 - Bear Stearns' predictions ...</td>\n",
       "      <td>1.0</td>\n",
       "      <td>&lt;pallen@enron.com&gt;</td>\n",
       "      <td></td>\n",
       "      <td></td>\n",
       "      <td>\\Phillip_Allen_Dec2000\\Notes Folders\\All docum...</td>\n",
       "      <td>Allen-P</td>\n",
       "      <td>pallen.nsf</td>\n",
       "      <td>None</td>\n",
       "      <td>In today's Daily Update you'll find free repor...</td>\n",
       "      <td>all_documents</td>\n",
       "      <td>allen-p</td>\n",
       "    </tr>\n",
       "    <tr>\n",
       "      <td>1</td>\n",
       "      <td>Wed, 13 Dec 2000 08:35:00 -0800 (PST)</td>\n",
       "      <td>messenger@ecm.bloomberg.com</td>\n",
       "      <td>Bloomberg Power Lines Report</td>\n",
       "      <td>1.0</td>\n",
       "      <td>text/plain; charset=ANSI_X3.4-1968</td>\n",
       "      <td></td>\n",
       "      <td></td>\n",
       "      <td>\\Phillip_Allen_Dec2000\\Notes Folders\\All docum...</td>\n",
       "      <td>Allen-P</td>\n",
       "      <td>pallen.nsf</td>\n",
       "      <td>None</td>\n",
       "      <td>None</td>\n",
       "      <td>Here is today's copy of Bloomberg Power Lines....</td>\n",
       "      <td>all_documents</td>\n",
       "      <td>allen-p</td>\n",
       "    </tr>\n",
       "    <tr>\n",
       "      <td>2</td>\n",
       "      <td>Mon, 9 Oct 2000 07:16:00 -0700 (PDT)</td>\n",
       "      <td>phillip.allen@enron.com</td>\n",
       "      <td>keith.holst@enron.com</td>\n",
       "      <td>Consolidated positions: Issues &amp; To Do list</td>\n",
       "      <td>1.0</td>\n",
       "      <td>Keith Holst</td>\n",
       "      <td></td>\n",
       "      <td></td>\n",
       "      <td>\\Phillip_Allen_Dec2000\\Notes Folders\\All docum...</td>\n",
       "      <td>Allen-P</td>\n",
       "      <td>pallen.nsf</td>\n",
       "      <td>None</td>\n",
       "      <td>---------------------- Forwarded by Phillip K ...</td>\n",
       "      <td>all_documents</td>\n",
       "      <td>allen-p</td>\n",
       "    </tr>\n",
       "    <tr>\n",
       "      <td>3</td>\n",
       "      <td>Mon, 9 Oct 2000 07:00:00 -0700 (PDT)</td>\n",
       "      <td>phillip.allen@enron.com</td>\n",
       "      <td>keith.holst@enron.com</td>\n",
       "      <td>Consolidated positions: Issues &amp; To Do list</td>\n",
       "      <td>1.0</td>\n",
       "      <td>Keith Holst</td>\n",
       "      <td></td>\n",
       "      <td></td>\n",
       "      <td>\\Phillip_Allen_Dec2000\\Notes Folders\\All docum...</td>\n",
       "      <td>Allen-P</td>\n",
       "      <td>pallen.nsf</td>\n",
       "      <td>None</td>\n",
       "      <td>---------------------- Forwarded by Phillip K ...</td>\n",
       "      <td>all_documents</td>\n",
       "      <td>allen-p</td>\n",
       "    </tr>\n",
       "    <tr>\n",
       "      <td>4</td>\n",
       "      <td>Thu, 5 Oct 2000 06:26:00 -0700 (PDT)</td>\n",
       "      <td>phillip.allen@enron.com</td>\n",
       "      <td>david.delainey@enron.com</td>\n",
       "      <td></td>\n",
       "      <td>1.0</td>\n",
       "      <td>David W Delainey</td>\n",
       "      <td></td>\n",
       "      <td></td>\n",
       "      <td>\\Phillip_Allen_Dec2000\\Notes Folders\\All docum...</td>\n",
       "      <td>Allen-P</td>\n",
       "      <td>pallen.nsf</td>\n",
       "      <td>None</td>\n",
       "      <td>Dave, \\n\\n Here are the names of the west desk...</td>\n",
       "      <td>all_documents</td>\n",
       "      <td>allen-p</td>\n",
       "    </tr>\n",
       "  </tbody>\n",
       "</table>\n",
       "</div>"
      ],
      "text/plain": [
       "                                    Date  \\\n",
       "0  Wed, 13 Dec 2000 18:41:00 -0800 (PST)   \n",
       "1  Wed, 13 Dec 2000 08:35:00 -0800 (PST)   \n",
       "2   Mon, 9 Oct 2000 07:16:00 -0700 (PDT)   \n",
       "3   Mon, 9 Oct 2000 07:00:00 -0700 (PDT)   \n",
       "4   Thu, 5 Oct 2000 06:26:00 -0700 (PDT)   \n",
       "\n",
       "                                      From                            To  \\\n",
       "0  1.11913372.-2@multexinvestornetwork.com              pallen@enron.com   \n",
       "1              messenger@ecm.bloomberg.com  Bloomberg Power Lines Report   \n",
       "2                  phillip.allen@enron.com         keith.holst@enron.com   \n",
       "3                  phillip.allen@enron.com         keith.holst@enron.com   \n",
       "4                  phillip.allen@enron.com      david.delainey@enron.com   \n",
       "\n",
       "                                             Subject  \\\n",
       "0  December 14, 2000 - Bear Stearns' predictions ...   \n",
       "1                                                1.0   \n",
       "2        Consolidated positions: Issues & To Do list   \n",
       "3        Consolidated positions: Issues & To Do list   \n",
       "4                                                      \n",
       "\n",
       "                                   Cc                 Bcc X-From  \\\n",
       "0                                 1.0  <pallen@enron.com>          \n",
       "1  text/plain; charset=ANSI_X3.4-1968                              \n",
       "2                                 1.0         Keith Holst          \n",
       "3                                 1.0         Keith Holst          \n",
       "4                                 1.0    David W Delainey          \n",
       "\n",
       "                                                X-To  \\\n",
       "0                                                      \n",
       "1  \\Phillip_Allen_Dec2000\\Notes Folders\\All docum...   \n",
       "2                                                      \n",
       "3                                                      \n",
       "4                                                      \n",
       "\n",
       "                                                X-cc       X-bcc    X-Folder  \\\n",
       "0  \\Phillip_Allen_Dec2000\\Notes Folders\\All docum...     Allen-P  pallen.nsf   \n",
       "1                                            Allen-P  pallen.nsf        None   \n",
       "2  \\Phillip_Allen_Dec2000\\Notes Folders\\All docum...     Allen-P  pallen.nsf   \n",
       "3  \\Phillip_Allen_Dec2000\\Notes Folders\\All docum...     Allen-P  pallen.nsf   \n",
       "4  \\Phillip_Allen_Dec2000\\Notes Folders\\All docum...     Allen-P  pallen.nsf   \n",
       "\n",
       "  X-FileName                                               Text  \\\n",
       "0       None  In today's Daily Update you'll find free repor...   \n",
       "1       None  Here is today's copy of Bloomberg Power Lines....   \n",
       "2       None  ---------------------- Forwarded by Phillip K ...   \n",
       "3       None  ---------------------- Forwarded by Phillip K ...   \n",
       "4       None  Dave, \\n\\n Here are the names of the west desk...   \n",
       "\n",
       "          Folder     User  \n",
       "0  all_documents  allen-p  \n",
       "1  all_documents  allen-p  \n",
       "2  all_documents  allen-p  \n",
       "3  all_documents  allen-p  \n",
       "4  all_documents  allen-p  "
      ]
     },
     "execution_count": 3,
     "metadata": {},
     "output_type": "execute_result"
    },
    {
     "data": {
      "text/plain": [
       "277298"
      ]
     },
     "execution_count": 3,
     "metadata": {},
     "output_type": "execute_result"
    }
   ],
   "source": [
    "email_df.head()\n",
    "len(email_df)"
   ]
  },
  {
   "cell_type": "code",
   "execution_count": 4,
   "metadata": {},
   "outputs": [],
   "source": [
    "small_df = email_df[:5000]\n",
    "text = small_df[\"Text\"]"
   ]
  },
  {
   "cell_type": "markdown",
   "metadata": {},
   "source": [
    "*Note*: So at this point, there is just too much data. Going to use \"small_df\" the rest of the way."
   ]
  },
  {
   "cell_type": "code",
   "execution_count": 5,
   "metadata": {},
   "outputs": [
    {
     "data": {
      "text/plain": [
       "<5000x36846 sparse matrix of type '<class 'numpy.float64'>'\n",
       "\twith 438187 stored elements in Compressed Sparse Row format>"
      ]
     },
     "execution_count": 5,
     "metadata": {},
     "output_type": "execute_result"
    }
   ],
   "source": [
    "vectorizer = TfidfVectorizer(stop_words=\"english\")\n",
    "text_tfidf = vectorizer.fit_transform(text)\n",
    "text_tfidf"
   ]
  },
  {
   "cell_type": "code",
   "execution_count": 6,
   "metadata": {},
   "outputs": [],
   "source": [
    "#from sklearn.cluster import KMeans\n",
    "#k_model = KMeans(n_clusters=3)\n",
    "#k_model.fit(text_tfidf)\n",
    "#k_model.predict(text_tfidf)\n",
    "#labels = k_model.labels_"
   ]
  },
  {
   "cell_type": "code",
   "execution_count": 7,
   "metadata": {},
   "outputs": [],
   "source": [
    "#import matplotlib.pyplot as plt\n",
    "#from mpl_toolkits.mplot3d import Axes3D\n",
    "#plot = plt.figure()\n",
    "#ax = Axes3D(plot, rect=[0, 0, 0.95, 1], elev=48, azim=134)\n",
    "#ax.scatter(text[:, 3], text[:, 0], text[:, 2],\n",
    "#          c=labels.astype(np.float), edgecolor=\"k\", s=50)\n",
    "#ax.set_xlabel(\"x\")\n",
    "#ax.set_ylabel(\"y\")\n",
    "#ax.set_zlabel(\"z\")\n",
    "#plt.title(\"K Means\", fontsize=14)"
   ]
  },
  {
   "cell_type": "markdown",
   "metadata": {},
   "source": [
    "*Note*: So, ultimately this has been a very confusing experience for me. I tried to take on unsupervised learning, but I'm really finding myself learning much more on tutorials than I'd like to. Instead, let's take a step back and look other parts of the data.\n",
    "<a id='1b'>"
   ]
  },
  {
   "cell_type": "markdown",
   "metadata": {},
   "source": [
    "***Getting A Sense Of Things***<br>\n",
    "Much of what follows is inspired by a fantastic resource I found on Kaggle (https://www.kaggle.com/dfoly1/k-means-clustering-from-scratch). I'll be using it to help organize my DF better (the _to_datetime_ thing and much of the unsupervised learning)."
   ]
  },
  {
   "cell_type": "markdown",
   "metadata": {},
   "source": [
    "My first goal is to get a sense of when these emails were sent, so we'll be using the DateTime library!"
   ]
  },
  {
   "cell_type": "code",
   "execution_count": 10,
   "metadata": {},
   "outputs": [
    {
     "name": "stderr",
     "output_type": "stream",
     "text": [
      "C:\\Users\\Brett\\Anaconda3\\lib\\site-packages\\ipykernel_launcher.py:1: SettingWithCopyWarning: \n",
      "A value is trying to be set on a copy of a slice from a DataFrame.\n",
      "Try using .loc[row_indexer,col_indexer] = value instead\n",
      "\n",
      "See the caveats in the documentation: http://pandas.pydata.org/pandas-docs/stable/user_guide/indexing.html#returning-a-view-versus-a-copy\n",
      "  \"\"\"Entry point for launching an IPython kernel.\n"
     ]
    }
   ],
   "source": [
    "small_df['Date'] = pd.to_datetime(small_df['Date'], infer_datetime_format=True)"
   ]
  },
  {
   "cell_type": "code",
   "execution_count": 11,
   "metadata": {},
   "outputs": [
    {
     "data": {
      "text/plain": [
       "datetime.datetime(2000, 12, 13, 18, 41, tzinfo=tzoffset('PST', -28800))"
      ]
     },
     "execution_count": 11,
     "metadata": {},
     "output_type": "execute_result"
    },
    {
     "data": {
      "text/plain": [
       "12"
      ]
     },
     "execution_count": 11,
     "metadata": {},
     "output_type": "execute_result"
    },
    {
     "data": {
      "text/plain": [
       "2000"
      ]
     },
     "execution_count": 11,
     "metadata": {},
     "output_type": "execute_result"
    },
    {
     "data": {
      "text/plain": [
       "13"
      ]
     },
     "execution_count": 11,
     "metadata": {},
     "output_type": "execute_result"
    }
   ],
   "source": [
    "test = small_df[\"Date\"][0]\n",
    "test\n",
    "month = test.month\n",
    "month\n",
    "year = test.year\n",
    "year\n",
    "day = test.day\n",
    "day"
   ]
  },
  {
   "cell_type": "code",
   "execution_count": 12,
   "metadata": {},
   "outputs": [
    {
     "name": "stderr",
     "output_type": "stream",
     "text": [
      "C:\\Users\\Brett\\Anaconda3\\lib\\site-packages\\ipykernel_launcher.py:8: SettingWithCopyWarning: \n",
      "A value is trying to be set on a copy of a slice from a DataFrame.\n",
      "Try using .loc[row_indexer,col_indexer] = value instead\n",
      "\n",
      "See the caveats in the documentation: http://pandas.pydata.org/pandas-docs/stable/user_guide/indexing.html#returning-a-view-versus-a-copy\n",
      "  \n",
      "C:\\Users\\Brett\\Anaconda3\\lib\\site-packages\\ipykernel_launcher.py:9: SettingWithCopyWarning: \n",
      "A value is trying to be set on a copy of a slice from a DataFrame.\n",
      "Try using .loc[row_indexer,col_indexer] = value instead\n",
      "\n",
      "See the caveats in the documentation: http://pandas.pydata.org/pandas-docs/stable/user_guide/indexing.html#returning-a-view-versus-a-copy\n",
      "  if __name__ == '__main__':\n",
      "C:\\Users\\Brett\\Anaconda3\\lib\\site-packages\\ipykernel_launcher.py:10: SettingWithCopyWarning: \n",
      "A value is trying to be set on a copy of a slice from a DataFrame.\n",
      "Try using .loc[row_indexer,col_indexer] = value instead\n",
      "\n",
      "See the caveats in the documentation: http://pandas.pydata.org/pandas-docs/stable/user_guide/indexing.html#returning-a-view-versus-a-copy\n",
      "  # Remove the CWD from sys.path while we load stuff.\n"
     ]
    },
    {
     "data": {
      "text/html": [
       "<div>\n",
       "<style scoped>\n",
       "    .dataframe tbody tr th:only-of-type {\n",
       "        vertical-align: middle;\n",
       "    }\n",
       "\n",
       "    .dataframe tbody tr th {\n",
       "        vertical-align: top;\n",
       "    }\n",
       "\n",
       "    .dataframe thead th {\n",
       "        text-align: right;\n",
       "    }\n",
       "</style>\n",
       "<table border=\"1\" class=\"dataframe\">\n",
       "  <thead>\n",
       "    <tr style=\"text-align: right;\">\n",
       "      <th></th>\n",
       "      <th>Date</th>\n",
       "      <th>From</th>\n",
       "      <th>To</th>\n",
       "      <th>Subject</th>\n",
       "      <th>Cc</th>\n",
       "      <th>Bcc</th>\n",
       "      <th>X-From</th>\n",
       "      <th>X-To</th>\n",
       "      <th>X-cc</th>\n",
       "      <th>X-bcc</th>\n",
       "      <th>X-Folder</th>\n",
       "      <th>X-FileName</th>\n",
       "      <th>Text</th>\n",
       "      <th>Folder</th>\n",
       "      <th>User</th>\n",
       "      <th>Month</th>\n",
       "      <th>Day</th>\n",
       "      <th>Year</th>\n",
       "    </tr>\n",
       "  </thead>\n",
       "  <tbody>\n",
       "    <tr>\n",
       "      <td>0</td>\n",
       "      <td>2000-12-13 18:41:00-08:00</td>\n",
       "      <td>1.11913372.-2@multexinvestornetwork.com</td>\n",
       "      <td>pallen@enron.com</td>\n",
       "      <td>December 14, 2000 - Bear Stearns' predictions ...</td>\n",
       "      <td>1.0</td>\n",
       "      <td>&lt;pallen@enron.com&gt;</td>\n",
       "      <td></td>\n",
       "      <td></td>\n",
       "      <td>\\Phillip_Allen_Dec2000\\Notes Folders\\All docum...</td>\n",
       "      <td>Allen-P</td>\n",
       "      <td>pallen.nsf</td>\n",
       "      <td>None</td>\n",
       "      <td>In today's Daily Update you'll find free repor...</td>\n",
       "      <td>all_documents</td>\n",
       "      <td>allen-p</td>\n",
       "      <td>12</td>\n",
       "      <td>13</td>\n",
       "      <td>2000</td>\n",
       "    </tr>\n",
       "    <tr>\n",
       "      <td>1</td>\n",
       "      <td>2000-12-13 08:35:00-08:00</td>\n",
       "      <td>messenger@ecm.bloomberg.com</td>\n",
       "      <td>Bloomberg Power Lines Report</td>\n",
       "      <td>1.0</td>\n",
       "      <td>text/plain; charset=ANSI_X3.4-1968</td>\n",
       "      <td></td>\n",
       "      <td></td>\n",
       "      <td>\\Phillip_Allen_Dec2000\\Notes Folders\\All docum...</td>\n",
       "      <td>Allen-P</td>\n",
       "      <td>pallen.nsf</td>\n",
       "      <td>None</td>\n",
       "      <td>None</td>\n",
       "      <td>Here is today's copy of Bloomberg Power Lines....</td>\n",
       "      <td>all_documents</td>\n",
       "      <td>allen-p</td>\n",
       "      <td>12</td>\n",
       "      <td>13</td>\n",
       "      <td>2000</td>\n",
       "    </tr>\n",
       "    <tr>\n",
       "      <td>2</td>\n",
       "      <td>2000-10-09 07:16:00-07:00</td>\n",
       "      <td>phillip.allen@enron.com</td>\n",
       "      <td>keith.holst@enron.com</td>\n",
       "      <td>Consolidated positions: Issues &amp; To Do list</td>\n",
       "      <td>1.0</td>\n",
       "      <td>Keith Holst</td>\n",
       "      <td></td>\n",
       "      <td></td>\n",
       "      <td>\\Phillip_Allen_Dec2000\\Notes Folders\\All docum...</td>\n",
       "      <td>Allen-P</td>\n",
       "      <td>pallen.nsf</td>\n",
       "      <td>None</td>\n",
       "      <td>---------------------- Forwarded by Phillip K ...</td>\n",
       "      <td>all_documents</td>\n",
       "      <td>allen-p</td>\n",
       "      <td>10</td>\n",
       "      <td>9</td>\n",
       "      <td>2000</td>\n",
       "    </tr>\n",
       "    <tr>\n",
       "      <td>3</td>\n",
       "      <td>2000-10-09 07:00:00-07:00</td>\n",
       "      <td>phillip.allen@enron.com</td>\n",
       "      <td>keith.holst@enron.com</td>\n",
       "      <td>Consolidated positions: Issues &amp; To Do list</td>\n",
       "      <td>1.0</td>\n",
       "      <td>Keith Holst</td>\n",
       "      <td></td>\n",
       "      <td></td>\n",
       "      <td>\\Phillip_Allen_Dec2000\\Notes Folders\\All docum...</td>\n",
       "      <td>Allen-P</td>\n",
       "      <td>pallen.nsf</td>\n",
       "      <td>None</td>\n",
       "      <td>---------------------- Forwarded by Phillip K ...</td>\n",
       "      <td>all_documents</td>\n",
       "      <td>allen-p</td>\n",
       "      <td>10</td>\n",
       "      <td>9</td>\n",
       "      <td>2000</td>\n",
       "    </tr>\n",
       "    <tr>\n",
       "      <td>4</td>\n",
       "      <td>2000-10-05 06:26:00-07:00</td>\n",
       "      <td>phillip.allen@enron.com</td>\n",
       "      <td>david.delainey@enron.com</td>\n",
       "      <td></td>\n",
       "      <td>1.0</td>\n",
       "      <td>David W Delainey</td>\n",
       "      <td></td>\n",
       "      <td></td>\n",
       "      <td>\\Phillip_Allen_Dec2000\\Notes Folders\\All docum...</td>\n",
       "      <td>Allen-P</td>\n",
       "      <td>pallen.nsf</td>\n",
       "      <td>None</td>\n",
       "      <td>Dave, \\n\\n Here are the names of the west desk...</td>\n",
       "      <td>all_documents</td>\n",
       "      <td>allen-p</td>\n",
       "      <td>10</td>\n",
       "      <td>5</td>\n",
       "      <td>2000</td>\n",
       "    </tr>\n",
       "  </tbody>\n",
       "</table>\n",
       "</div>"
      ],
      "text/plain": [
       "                        Date                                     From  \\\n",
       "0  2000-12-13 18:41:00-08:00  1.11913372.-2@multexinvestornetwork.com   \n",
       "1  2000-12-13 08:35:00-08:00              messenger@ecm.bloomberg.com   \n",
       "2  2000-10-09 07:16:00-07:00                  phillip.allen@enron.com   \n",
       "3  2000-10-09 07:00:00-07:00                  phillip.allen@enron.com   \n",
       "4  2000-10-05 06:26:00-07:00                  phillip.allen@enron.com   \n",
       "\n",
       "                             To  \\\n",
       "0              pallen@enron.com   \n",
       "1  Bloomberg Power Lines Report   \n",
       "2         keith.holst@enron.com   \n",
       "3         keith.holst@enron.com   \n",
       "4      david.delainey@enron.com   \n",
       "\n",
       "                                             Subject  \\\n",
       "0  December 14, 2000 - Bear Stearns' predictions ...   \n",
       "1                                                1.0   \n",
       "2        Consolidated positions: Issues & To Do list   \n",
       "3        Consolidated positions: Issues & To Do list   \n",
       "4                                                      \n",
       "\n",
       "                                   Cc                 Bcc X-From  \\\n",
       "0                                 1.0  <pallen@enron.com>          \n",
       "1  text/plain; charset=ANSI_X3.4-1968                              \n",
       "2                                 1.0         Keith Holst          \n",
       "3                                 1.0         Keith Holst          \n",
       "4                                 1.0    David W Delainey          \n",
       "\n",
       "                                                X-To  \\\n",
       "0                                                      \n",
       "1  \\Phillip_Allen_Dec2000\\Notes Folders\\All docum...   \n",
       "2                                                      \n",
       "3                                                      \n",
       "4                                                      \n",
       "\n",
       "                                                X-cc       X-bcc    X-Folder  \\\n",
       "0  \\Phillip_Allen_Dec2000\\Notes Folders\\All docum...     Allen-P  pallen.nsf   \n",
       "1                                            Allen-P  pallen.nsf        None   \n",
       "2  \\Phillip_Allen_Dec2000\\Notes Folders\\All docum...     Allen-P  pallen.nsf   \n",
       "3  \\Phillip_Allen_Dec2000\\Notes Folders\\All docum...     Allen-P  pallen.nsf   \n",
       "4  \\Phillip_Allen_Dec2000\\Notes Folders\\All docum...     Allen-P  pallen.nsf   \n",
       "\n",
       "  X-FileName                                               Text  \\\n",
       "0       None  In today's Daily Update you'll find free repor...   \n",
       "1       None  Here is today's copy of Bloomberg Power Lines....   \n",
       "2       None  ---------------------- Forwarded by Phillip K ...   \n",
       "3       None  ---------------------- Forwarded by Phillip K ...   \n",
       "4       None  Dave, \\n\\n Here are the names of the west desk...   \n",
       "\n",
       "          Folder     User  Month  Day  Year  \n",
       "0  all_documents  allen-p     12   13  2000  \n",
       "1  all_documents  allen-p     12   13  2000  \n",
       "2  all_documents  allen-p     10    9  2000  \n",
       "3  all_documents  allen-p     10    9  2000  \n",
       "4  all_documents  allen-p     10    5  2000  "
      ]
     },
     "execution_count": 12,
     "metadata": {},
     "output_type": "execute_result"
    }
   ],
   "source": [
    "months = []\n",
    "days = []\n",
    "years = []\n",
    "for date in small_df['Date']:\n",
    "    months.append(date.month)\n",
    "    days.append(date.day)\n",
    "    years.append(date.year)\n",
    "small_df[\"Month\"] = months\n",
    "small_df[\"Day\"] = days\n",
    "small_df[\"Year\"] = years\n",
    "small_df[:5]"
   ]
  },
  {
   "cell_type": "code",
   "execution_count": 22,
   "metadata": {},
   "outputs": [
    {
     "data": {
      "text/plain": [
       "<Figure size 432x288 with 0 Axes>"
      ]
     },
     "execution_count": 22,
     "metadata": {},
     "output_type": "execute_result"
    },
    {
     "data": {
      "image/png": "[encoded data removed]",
      "text/plain": [
       "<Figure size 432x288 with 1 Axes>"
      ]
     },
     "metadata": {
      "needs_background": "light"
     },
     "output_type": "display_data"
    }
   ],
   "source": [
    "import matplotlib.pyplot as plt\n",
    "x_ax = (small_df[\"Year\"] == 2000)\n",
    "plt.figure()\n",
    "time_graph = small_df.loc[x_ax].groupby(\"Month\")[\"Text\"].count().plot()"
   ]
  },
  {
   "cell_type": "markdown",
   "metadata": {},
   "source": [
    "*Note*: My chronological graph is working! Onto wordclouds, common users, unique emails, "
   ]
  }
 ],
 "metadata": {
  "kernelspec": {
   "display_name": "Python 3",
   "language": "python",
   "name": "python3"
  },
  "language_info": {
   "codemirror_mode": {
    "name": "ipython",
    "version": 3
   },
   "file_extension": ".py",
   "mimetype": "text/x-python",
   "name": "python",
   "nbconvert_exporter": "python",
   "pygments_lexer": "ipython3",
   "version": "3.7.4"
  }
 },
 "nbformat": 4,
 "nbformat_minor": 2
}
