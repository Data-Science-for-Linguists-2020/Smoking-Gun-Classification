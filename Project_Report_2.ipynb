{
 "cells": [
  {
   "cell_type": "markdown",
   "metadata": {},
   "source": [
    "# Project Report II: More Data Cleaning ~and Exploratory Data Analysis~\n",
    "___\n",
    "**Brief:**<br>\n",
    "In this report, I'm going to finish the data cleaning and organization needed for my project, and then *attempt* to move on to exploratory data analysis. Let's pick up where we left off last time.\n",
    "\n",
    "**Sections:**<br>\n",
    "1. [Data Cleaning: Reading In An Email](#reading_email)\n",
    "    - [Imports, Choosing A File, Reading In](#re_1)\n",
    "    - [Appending Blanks Together](#re_2)\n",
    "    - [readEmail Function](#re_3)\n",
    "    - [Test Cases](#re_4)\n",
    "    - [To The Rescue: Python's *Email.Parser*](#re_5)\n",
    "    \n",
    "2. [Data Cleaning: Making Our DataFrame](#making_panda)\n",
    "    - [Reading In An Email](#mp_1)\n",
    "    - [Reading In Many Emails](#mp_2)\n",
    "    - [Bugs In The Function](#mp_3)\n",
    "3. [Early Data Cleaning Summary](#edc_summary)\n",
    "4. [Data Cleaning: Smashing Bugs](#smashing_bugs)\n",
    "    - [Adding Email Texts](#sb_1)\n",
    "___"
   ]
  },
  {
   "cell_type": "markdown",
   "metadata": {},
   "source": [
    "<a id='reading_email'>"
   ]
  },
  {
   "cell_type": "markdown",
   "metadata": {},
   "source": [
    "## Data Cleaning: Reading In An Email\n",
    "<a id='re_1'>"
   ]
  },
  {
   "cell_type": "markdown",
   "metadata": {},
   "source": [
    "***Imports, Choosing A File, Reading In***<br>\n",
    "This is all stuff from the previous report."
   ]
  },
  {
   "cell_type": "code",
   "execution_count": 1,
   "metadata": {},
   "outputs": [],
   "source": [
    "from IPython.core.interactiveshell import InteractiveShell\n",
    "InteractiveShell.ast_node_interactivity = \"all\"\n",
    "import nltk\n",
    "from nltk.corpus import PlaintextCorpusReader as cr\n",
    "import pandas as pd\n",
    "import numpy as np"
   ]
  },
  {
   "cell_type": "code",
   "execution_count": 2,
   "metadata": {},
   "outputs": [
    {
     "name": "stdout",
     "output_type": "stream",
     "text": [
      "628\n"
     ]
    }
   ],
   "source": [
    "corpus_root = '../../../../../Enron_Emails/maildir/'\n",
    "all_allen_p = 'allen-p/all_documents'\n",
    "all_files = cr(corpus_root + all_allen_p, \".*\")\n",
    "print(len(all_files.fileids()))"
   ]
  },
  {
   "cell_type": "code",
   "execution_count": 3,
   "metadata": {},
   "outputs": [],
   "source": [
    "text = \"\"\n",
    "file = open(corpus_root + all_allen_p + \"/1\")\n",
    "for line in file:\n",
    "    text += line\n",
    "file.close()\n",
    "email = text.split('\\n')"
   ]
  },
  {
   "cell_type": "code",
   "execution_count": 4,
   "metadata": {},
   "outputs": [
    {
     "data": {
      "text/plain": [
       "['Message-ID: <29790972.1075855665306.JavaMail.evans@thyme>',\n",
       " 'Date: Wed, 13 Dec 2000 18:41:00 -0800 (PST)',\n",
       " 'From: 1.11913372.-2@multexinvestornetwork.com',\n",
       " 'To: pallen@enron.com',\n",
       " \"Subject: December 14, 2000 - Bear Stearns' predictions for telecom in Latin\",\n",
       " ' America',\n",
       " 'Mime-Version: 1.0',\n",
       " 'Content-Type: text/plain; charset=us-ascii',\n",
       " 'Content-Transfer-Encoding: 7bit',\n",
       " 'X-From: Multex Investor <1.11913372.-2@multexinvestornetwork.com>',\n",
       " 'X-To: <pallen@enron.com>',\n",
       " 'X-cc: ',\n",
       " 'X-bcc: ',\n",
       " 'X-Folder: \\\\Phillip_Allen_Dec2000\\\\Notes Folders\\\\All documents',\n",
       " 'X-Origin: Allen-P',\n",
       " 'X-FileName: pallen.nsf',\n",
       " '',\n",
       " \"In today's Daily Update you'll find free reports on\",\n",
       " 'America Online (AOL), Divine Interventures (DVIN),',\n",
       " 'and 3M (MMM); reports on the broadband space, Latin']"
      ]
     },
     "execution_count": 4,
     "metadata": {},
     "output_type": "execute_result"
    }
   ],
   "source": [
    "email[:20]"
   ]
  },
  {
   "cell_type": "markdown",
   "metadata": {},
   "source": [
    "*Note:* We know that the first 15 or so lines at the beginning of every email are the same. It's biographical information that we can use as features in future machine learning algorithms. What's the problem? Well, when there is a long line, this disrupts the number of line pattern we could be using (look under *Subject*). Lets see if we can solve this in the next section."
   ]
  },
  {
   "cell_type": "markdown",
   "metadata": {},
   "source": [
    "<a id='re_2'>"
   ]
  },
  {
   "cell_type": "markdown",
   "metadata": {},
   "source": [
    "***Appending Blanks Together***<br>\n",
    "So, the problem we ran into last time. Lets see if a simple \"add and delete\" works."
   ]
  },
  {
   "cell_type": "code",
   "execution_count": 5,
   "metadata": {},
   "outputs": [
    {
     "name": "stdout",
     "output_type": "stream",
     "text": [
      "5\n"
     ]
    },
    {
     "data": {
      "text/plain": [
       "['Message-ID: <29790972.1075855665306.JavaMail.evans@thyme>',\n",
       " 'Date: Wed, 13 Dec 2000 18:41:00 -0800 (PST)',\n",
       " 'From: 1.11913372.-2@multexinvestornetwork.com',\n",
       " 'To: pallen@enron.com',\n",
       " \"Subject: December 14, 2000 - Bear Stearns' predictions for telecom in Latin America\",\n",
       " 'Mime-Version: 1.0',\n",
       " 'Content-Type: text/plain; charset=us-ascii',\n",
       " 'Content-Transfer-Encoding: 7bit',\n",
       " 'X-From: Multex Investor <1.11913372.-2@multexinvestornetwork.com>',\n",
       " 'X-To: <pallen@enron.com>',\n",
       " 'X-cc: ',\n",
       " 'X-bcc: ',\n",
       " 'X-Folder: \\\\Phillip_Allen_Dec2000\\\\Notes Folders\\\\All documents',\n",
       " 'X-Origin: Allen-P',\n",
       " 'X-FileName: pallen.nsf',\n",
       " '',\n",
       " \"In today's Daily Update you'll find free reports on\",\n",
       " 'America Online (AOL), Divine Interventures (DVIN),',\n",
       " 'and 3M (MMM); reports on the broadband space, Latin',\n",
       " 'American telecom, and more.']"
      ]
     },
     "execution_count": 5,
     "metadata": {},
     "output_type": "execute_result"
    }
   ],
   "source": [
    "count = 0\n",
    "for line in email:\n",
    "    if line == '':\n",
    "        pass\n",
    "    else:\n",
    "        if line[0].isspace():\n",
    "            email[count-1] += line\n",
    "            del email[count]\n",
    "            print(count)\n",
    "    count += 1\n",
    "email[:20]"
   ]
  },
  {
   "cell_type": "markdown",
   "metadata": {},
   "source": [
    "*Note*: Great! Now we need to examine the test cases. To do this, we're going to need a more code-efficient way of reading in emails. Lets make a function."
   ]
  },
  {
   "cell_type": "markdown",
   "metadata": {},
   "source": [
    "<a id='re_3'>"
   ]
  },
  {
   "cell_type": "markdown",
   "metadata": {},
   "source": [
    "***readEmail Function***"
   ]
  },
  {
   "cell_type": "code",
   "execution_count": 6,
   "metadata": {},
   "outputs": [],
   "source": [
    "def readEmailHead(username, emailNum):\n",
    "    text = \"\"\n",
    "    file = open(corpus_root + username + '/all_documents/' + emailNum)\n",
    "    for line in file:\n",
    "        text += line\n",
    "    file.close()\n",
    "    email = text.split('\\n')\n",
    "    \n",
    "    count = 0\n",
    "    for line in email:\n",
    "        if line == '':\n",
    "            pass\n",
    "        else:\n",
    "            if line[0].isspace():\n",
    "                email[count-1] += line\n",
    "                del email[count]\n",
    "                print(count)\n",
    "        count += 1\n",
    "    return [email[:20]]"
   ]
  },
  {
   "cell_type": "code",
   "execution_count": 7,
   "metadata": {},
   "outputs": [
    {
     "name": "stdout",
     "output_type": "stream",
     "text": [
      "24\n",
      "26\n",
      "28\n",
      "43\n"
     ]
    },
    {
     "data": {
      "text/plain": [
       "[['Message-ID: <17175692.1075855665350.JavaMail.evans@thyme>',\n",
       "  'Date: Wed, 13 Dec 2000 13:28:00 -0800 (PST)',\n",
       "  'From: subscriptions@intelligencepress.com',\n",
       "  'To: pallen@enron.com',\n",
       "  'Subject: NGI Publications - Thursday, 14 December 2000',\n",
       "  'Mime-Version: 1.0',\n",
       "  'Content-Type: text/plain; charset=us-ascii',\n",
       "  'Content-Transfer-Encoding: 7bit',\n",
       "  'X-From: subscriptions@intelligencepress.com',\n",
       "  'X-To: pallen@enron.com',\n",
       "  'X-cc: ',\n",
       "  'X-bcc: ',\n",
       "  'X-Folder: \\\\Phillip_Allen_Dec2000\\\\Notes Folders\\\\All documents',\n",
       "  'X-Origin: Allen-P',\n",
       "  'X-FileName: pallen.nsf',\n",
       "  '',\n",
       "  'Dear phillip,',\n",
       "  '',\n",
       "  '',\n",
       "  'This e-mail is automated notification of the availability of your']]"
      ]
     },
     "execution_count": 7,
     "metadata": {},
     "output_type": "execute_result"
    }
   ],
   "source": [
    "readEmailHead(r'allen-p', r'3')"
   ]
  },
  {
   "cell_type": "markdown",
   "metadata": {},
   "source": [
    "*Note:* This function works great! Now we need to try test cases and see how we do."
   ]
  },
  {
   "cell_type": "markdown",
   "metadata": {},
   "source": [
    "<a id='re_4'>"
   ]
  },
  {
   "cell_type": "markdown",
   "metadata": {},
   "source": [
    "***Test Cases***"
   ]
  },
  {
   "cell_type": "code",
   "execution_count": 8,
   "metadata": {
    "scrolled": true
   },
   "outputs": [
    {
     "name": "stdout",
     "output_type": "stream",
     "text": [
      "4\n",
      "5\n",
      "34\n"
     ]
    },
    {
     "data": {
      "text/plain": [
       "[['Message-ID: <29403111.1075855665483.JavaMail.evans@thyme>',\n",
       "  'Date: Wed, 13 Dec 2000 08:22:00 -0800 (PST)',\n",
       "  'From: rebecca.cantrell@enron.com',\n",
       "  'To: stephanie.miller@enron.com, ruth.concannon@enron.com, jane.tholt@enron.com, \\ttori.kuykendall@enron.com, randall.gay@enron.com, ',\n",
       "  '\\tphillip.allen@enron.com, timothy.hamilton@enron.com, \\trobert.superty@enron.com, colleen.sullivan@enron.com, ',\n",
       "  '\\tdonna.greif@enron.com, julie.gomez@enron.com',\n",
       "  'Subject: Final Filed Version -- SDG&E Comments',\n",
       "  'Mime-Version: 1.0',\n",
       "  'Content-Type: text/plain; charset=us-ascii',\n",
       "  'Content-Transfer-Encoding: 7bit',\n",
       "  'X-From: Rebecca W Cantrell',\n",
       "  'X-To: Stephanie Miller, Ruth Concannon, Jane M Tholt, Tori Kuykendall, Randall L Gay, Phillip K Allen, Timothy J Hamilton, Robert Superty, Colleen Sullivan, Donna Greif, Julie A Gomez',\n",
       "  'X-cc: ',\n",
       "  'X-bcc: ',\n",
       "  'X-Folder: \\\\Phillip_Allen_Dec2000\\\\Notes Folders\\\\All documents',\n",
       "  'X-Origin: Allen-P',\n",
       "  'X-FileName: pallen.nsf',\n",
       "  '',\n",
       "  'FYI.',\n",
       "  '---------------------- Forwarded by Rebecca W Cantrell/HOU/ECT on 12/13/2000 ']]"
      ]
     },
     "execution_count": 8,
     "metadata": {},
     "output_type": "execute_result"
    }
   ],
   "source": [
    "readEmailHead(r'allen-p', r'9')"
   ]
  },
  {
   "cell_type": "markdown",
   "metadata": {},
   "source": [
    "*Note:* So here's a test case I entirely expected. While our function handled spillover to *one* extra line well, it classified this email's *to* line as three separate lines. Time to re-engineer our function."
   ]
  },
  {
   "cell_type": "code",
   "execution_count": 9,
   "metadata": {},
   "outputs": [],
   "source": [
    "def readEmailHead(username, emailNum):\n",
    "    text = \"\"\n",
    "    file = open(corpus_root + username + '/all_documents/' + emailNum)\n",
    "    for line in file:\n",
    "        text += line\n",
    "    file.close()\n",
    "    email = text.split('\\n')\n",
    "    \n",
    "    count = 0\n",
    "    for line in email:\n",
    "        if line == '':\n",
    "            pass\n",
    "        else:\n",
    "            if line[0].isspace():\n",
    "                email[count-1] += line\n",
    "                del email[count]\n",
    "                print(count,\"0\")\n",
    "        count += 1\n",
    "    return [email[:20]]"
   ]
  },
  {
   "cell_type": "code",
   "execution_count": 10,
   "metadata": {},
   "outputs": [
    {
     "name": "stdout",
     "output_type": "stream",
     "text": [
      "4 0\n",
      "5 0\n",
      "34 0\n"
     ]
    },
    {
     "data": {
      "text/plain": [
       "[['Message-ID: <29403111.1075855665483.JavaMail.evans@thyme>',\n",
       "  'Date: Wed, 13 Dec 2000 08:22:00 -0800 (PST)',\n",
       "  'From: rebecca.cantrell@enron.com',\n",
       "  'To: stephanie.miller@enron.com, ruth.concannon@enron.com, jane.tholt@enron.com, \\ttori.kuykendall@enron.com, randall.gay@enron.com, ',\n",
       "  '\\tphillip.allen@enron.com, timothy.hamilton@enron.com, \\trobert.superty@enron.com, colleen.sullivan@enron.com, ',\n",
       "  '\\tdonna.greif@enron.com, julie.gomez@enron.com',\n",
       "  'Subject: Final Filed Version -- SDG&E Comments',\n",
       "  'Mime-Version: 1.0',\n",
       "  'Content-Type: text/plain; charset=us-ascii',\n",
       "  'Content-Transfer-Encoding: 7bit',\n",
       "  'X-From: Rebecca W Cantrell',\n",
       "  'X-To: Stephanie Miller, Ruth Concannon, Jane M Tholt, Tori Kuykendall, Randall L Gay, Phillip K Allen, Timothy J Hamilton, Robert Superty, Colleen Sullivan, Donna Greif, Julie A Gomez',\n",
       "  'X-cc: ',\n",
       "  'X-bcc: ',\n",
       "  'X-Folder: \\\\Phillip_Allen_Dec2000\\\\Notes Folders\\\\All documents',\n",
       "  'X-Origin: Allen-P',\n",
       "  'X-FileName: pallen.nsf',\n",
       "  '',\n",
       "  'FYI.',\n",
       "  '---------------------- Forwarded by Rebecca W Cantrell/HOU/ECT on 12/13/2000 ']]"
      ]
     },
     "execution_count": 10,
     "metadata": {},
     "output_type": "execute_result"
    }
   ],
   "source": [
    "readEmailHead(r'allen-p', r'9')"
   ]
  },
  {
   "cell_type": "markdown",
   "metadata": {},
   "source": [
    "if line[0].isspace():<br>\n",
    "~Can you spot the problem? It had to do with what I'm checking for the whitespace in. Sometimes, whitespace is generated by *two* character expressions--in this case, /t. We need to find a way to include '\\t' in this condition.~\n",
    "<br>*Note*: [That is incorrect.]"
   ]
  },
  {
   "cell_type": "code",
   "execution_count": 11,
   "metadata": {},
   "outputs": [],
   "source": [
    "foo = '\\tphillip.allen@enron.com'"
   ]
  },
  {
   "cell_type": "code",
   "execution_count": 12,
   "metadata": {},
   "outputs": [
    {
     "data": {
      "text/plain": [
       "'\\t'"
      ]
     },
     "execution_count": 12,
     "metadata": {},
     "output_type": "execute_result"
    },
    {
     "data": {
      "text/plain": [
       "True"
      ]
     },
     "execution_count": 12,
     "metadata": {},
     "output_type": "execute_result"
    }
   ],
   "source": [
    "foo[0]\n",
    "foo[0].isspace()"
   ]
  },
  {
   "cell_type": "markdown",
   "metadata": {},
   "source": [
    "*Note:* Okay, so my previous hypothesis is wrong. It recognizes tabs, just not *more than one line*. "
   ]
  },
  {
   "cell_type": "markdown",
   "metadata": {},
   "source": [
    "<a id='re_5'>"
   ]
  },
  {
   "cell_type": "markdown",
   "metadata": {},
   "source": [
    "***To The Rescue: Python's Email.Parser***"
   ]
  },
  {
   "cell_type": "markdown",
   "metadata": {},
   "source": [
    "*Solution*: Courtesy of StackedOverFlow user <u>FredrikHedman</u>, the email.parser package is a **significantly** more eloquent tool.\n",
    "<br><br>\n",
    "There's a lesson in here somewhere about not reinventing the wheel, also courtesy of <u>FredrikHedman</u> and my high school calculus teacher."
   ]
  },
  {
   "cell_type": "code",
   "execution_count": 13,
   "metadata": {},
   "outputs": [
    {
     "name": "stdout",
     "output_type": "stream",
     "text": [
      "['Message-ID', 'Date', 'From', 'To', 'Subject', 'Mime-Version', 'Content-Type', 'Content-Transfer-Encoding', 'X-From', 'X-To', 'X-cc', 'X-bcc', 'X-Folder', 'X-Origin', 'X-FileName']\n",
      "Wed, 13 Dec 2000 08:22:00 -0800 (PST)\n",
      "rebecca.cantrell@enron.com\n",
      "['stephanie.miller@enron.com,', 'ruth.concannon@enron.com,', 'jane.tholt@enron.com,', 'tori.kuykendall@enron.com,', 'randall.gay@enron.com,', 'phillip.allen@enron.com,', 'timothy.hamilton@enron.com,', 'robert.superty@enron.com,', 'colleen.sullivan@enron.com,', 'donna.greif@enron.com,', 'julie.gomez@enron.com']\n",
      "Final Filed Version -- SDG&E Comments\n"
     ]
    }
   ],
   "source": [
    "import email.parser\n",
    "\n",
    "\n",
    "def readEmailHead(username, emailNum, corpus_root='maildir'):\n",
    "    fname = f\"/{corpus_root}/{username}/all_documents/{emailNum}\"\n",
    "    with open(fname) as fd:\n",
    "        pp = email.parser.Parser()\n",
    "        header = pp.parse(fd, headersonly=True) #where the magic happens. works on all MIME email formats.\n",
    "    return header\n",
    "\n",
    "\n",
    "cr = 'Users/Brett/Desktop/Enron_Emails/maildir'\n",
    "mm = readEmailHead('allen-p', '9', corpus_root=cr)\n",
    "\n",
    "print(mm.keys())\n",
    "print(mm['Date'])\n",
    "print(mm['From'])\n",
    "print(mm['To'].split())\n",
    "print(mm['Subject'])"
   ]
  },
  {
   "cell_type": "markdown",
   "metadata": {},
   "source": [
    "<a id='making_panda'>"
   ]
  },
  {
   "cell_type": "markdown",
   "metadata": {},
   "source": [
    "___\n",
    "## Data Cleaning: Making Our DataFrame\n",
    "**Brief**<br>\n",
    "In this section we'll be taking the list of tuples that represents one email header and we'll turn it into *Big Data*. You know what that means... Pandas!<br><br>\n",
    "**Sections:**<br>\n",
    "1. [Data Cleaning: Reading In An Email](#reading_email)\n",
    "    - [Imports, Choosing A File, Reading In](#re_1)\n",
    "    - [Appending Blanks Together](#re_2)\n",
    "    - [readEmail Function](#re_3)\n",
    "    - [Test Cases](#re_4)\n",
    "    - [To The Rescue: Python's *Email.Parser*](#re_5)\n",
    "2. [Data Cleaning: Making Our DataFrame](#making_panda)\n",
    "    - [Reading In An Email](#mp_1)\n",
    "    - [Reading In Many Emails](#mp_2)\n",
    "    - [Bugs In The Function](#mp_3)\n",
    "3. [Early Data Cleaning Summary](#edc_summary)\n",
    "4. [Data Cleaning: Smashing Bugs](#smashing_bugs)\n",
    "    - [Adding Email Texts](#sb_1)\n",
    "___"
   ]
  },
  {
   "cell_type": "markdown",
   "metadata": {},
   "source": [
    "<a id='mp_1'>"
   ]
  },
  {
   "cell_type": "markdown",
   "metadata": {},
   "source": [
    "***Reading In An Email***<br>\n",
    "In this section, we'll be using the results from our email parse to populate our Panda and prepare our data for machine learning techniques."
   ]
  },
  {
   "cell_type": "code",
   "execution_count": 14,
   "metadata": {},
   "outputs": [
    {
     "data": {
      "text/plain": [
       "[('Message-ID', '<29790972.1075855665306.JavaMail.evans@thyme>'),\n",
       " ('Date', 'Wed, 13 Dec 2000 18:41:00 -0800 (PST)'),\n",
       " ('From', '1.11913372.-2@multexinvestornetwork.com'),\n",
       " ('To', 'pallen@enron.com'),\n",
       " ('Subject',\n",
       "  \"December 14, 2000 - Bear Stearns' predictions for telecom in Latin\\n America\"),\n",
       " ('Mime-Version', '1.0'),\n",
       " ('Content-Type', 'text/plain; charset=us-ascii'),\n",
       " ('Content-Transfer-Encoding', '7bit'),\n",
       " ('X-From', 'Multex Investor <1.11913372.-2@multexinvestornetwork.com>'),\n",
       " ('X-To', '<pallen@enron.com>'),\n",
       " ('X-cc', ''),\n",
       " ('X-bcc', ''),\n",
       " ('X-Folder', '\\\\Phillip_Allen_Dec2000\\\\Notes Folders\\\\All documents'),\n",
       " ('X-Origin', 'Allen-P'),\n",
       " ('X-FileName', 'pallen.nsf')]"
      ]
     },
     "execution_count": 14,
     "metadata": {},
     "output_type": "execute_result"
    },
    {
     "data": {
      "text/html": [
       "<div>\n",
       "<style scoped>\n",
       "    .dataframe tbody tr th:only-of-type {\n",
       "        vertical-align: middle;\n",
       "    }\n",
       "\n",
       "    .dataframe tbody tr th {\n",
       "        vertical-align: top;\n",
       "    }\n",
       "\n",
       "    .dataframe thead th {\n",
       "        text-align: right;\n",
       "    }\n",
       "</style>\n",
       "<table border=\"1\" class=\"dataframe\">\n",
       "  <thead>\n",
       "    <tr style=\"text-align: right;\">\n",
       "      <th></th>\n",
       "      <th>Message-ID</th>\n",
       "      <th>Date</th>\n",
       "      <th>From</th>\n",
       "      <th>To</th>\n",
       "      <th>Subject</th>\n",
       "      <th>Mime-Version</th>\n",
       "      <th>Content-Type</th>\n",
       "      <th>Content-Transfer-Encoding</th>\n",
       "      <th>X-From</th>\n",
       "      <th>X-To</th>\n",
       "      <th>X-cc</th>\n",
       "      <th>X-bcc</th>\n",
       "      <th>X-Folder</th>\n",
       "      <th>X-Origin</th>\n",
       "      <th>X-FileName</th>\n",
       "    </tr>\n",
       "  </thead>\n",
       "  <tbody>\n",
       "  </tbody>\n",
       "</table>\n",
       "</div>"
      ],
      "text/plain": [
       "Empty DataFrame\n",
       "Columns: [Message-ID, Date, From, To, Subject, Mime-Version, Content-Type, Content-Transfer-Encoding, X-From, X-To, X-cc, X-bcc, X-Folder, X-Origin, X-FileName]\n",
       "Index: []"
      ]
     },
     "execution_count": 14,
     "metadata": {},
     "output_type": "execute_result"
    }
   ],
   "source": [
    "sample = readEmailHead('allen-p', 1, corpus_root=cr)\n",
    "sample.items()\n",
    "email_df = pd.DataFrame(columns=sample.keys())\n",
    "email_df"
   ]
  },
  {
   "cell_type": "markdown",
   "metadata": {},
   "source": [
    "*Note*: So we have a list of tuples here, and what we need to do is to add the values of each email's header into the dataframe. As of now, this involves a O(N^2) operation, which I'm not in love with. Can we do the inner loop with a constant time operation? Although I guess it is a constant runtime operation because we're only adding 15 values with the inner loop. Food for thought."
   ]
  },
  {
   "cell_type": "code",
   "execution_count": 15,
   "metadata": {},
   "outputs": [],
   "source": [
    "header_all = [] #a list of header data from all traversed emails"
   ]
  },
  {
   "cell_type": "code",
   "execution_count": 16,
   "metadata": {},
   "outputs": [],
   "source": [
    "header_one =[] #a list of header data from one email\n",
    "for i in sample.values():\n",
    "    header_one.append(i)\n",
    "header_all.append(header_one)"
   ]
  },
  {
   "cell_type": "code",
   "execution_count": 17,
   "metadata": {},
   "outputs": [
    {
     "data": {
      "text/html": [
       "<div>\n",
       "<style scoped>\n",
       "    .dataframe tbody tr th:only-of-type {\n",
       "        vertical-align: middle;\n",
       "    }\n",
       "\n",
       "    .dataframe tbody tr th {\n",
       "        vertical-align: top;\n",
       "    }\n",
       "\n",
       "    .dataframe thead th {\n",
       "        text-align: right;\n",
       "    }\n",
       "</style>\n",
       "<table border=\"1\" class=\"dataframe\">\n",
       "  <thead>\n",
       "    <tr style=\"text-align: right;\">\n",
       "      <th></th>\n",
       "      <th>Message-ID</th>\n",
       "      <th>Date</th>\n",
       "      <th>From</th>\n",
       "      <th>To</th>\n",
       "      <th>Subject</th>\n",
       "      <th>Mime-Version</th>\n",
       "      <th>Content-Type</th>\n",
       "      <th>Content-Transfer-Encoding</th>\n",
       "      <th>X-From</th>\n",
       "      <th>X-To</th>\n",
       "      <th>X-cc</th>\n",
       "      <th>X-bcc</th>\n",
       "      <th>X-Folder</th>\n",
       "      <th>X-Origin</th>\n",
       "      <th>X-FileName</th>\n",
       "    </tr>\n",
       "  </thead>\n",
       "  <tbody>\n",
       "    <tr>\n",
       "      <td>0</td>\n",
       "      <td>&lt;29790972.1075855665306.JavaMail.evans@thyme&gt;</td>\n",
       "      <td>Wed, 13 Dec 2000 18:41:00 -0800 (PST)</td>\n",
       "      <td>1.11913372.-2@multexinvestornetwork.com</td>\n",
       "      <td>pallen@enron.com</td>\n",
       "      <td>December 14, 2000 - Bear Stearns' predictions ...</td>\n",
       "      <td>1.0</td>\n",
       "      <td>text/plain; charset=us-ascii</td>\n",
       "      <td>7bit</td>\n",
       "      <td>Multex Investor &lt;1.11913372.-2@multexinvestorn...</td>\n",
       "      <td>&lt;pallen@enron.com&gt;</td>\n",
       "      <td></td>\n",
       "      <td></td>\n",
       "      <td>\\Phillip_Allen_Dec2000\\Notes Folders\\All docum...</td>\n",
       "      <td>Allen-P</td>\n",
       "      <td>pallen.nsf</td>\n",
       "    </tr>\n",
       "  </tbody>\n",
       "</table>\n",
       "</div>"
      ],
      "text/plain": [
       "                                      Message-ID  \\\n",
       "0  <29790972.1075855665306.JavaMail.evans@thyme>   \n",
       "\n",
       "                                    Date  \\\n",
       "0  Wed, 13 Dec 2000 18:41:00 -0800 (PST)   \n",
       "\n",
       "                                      From                To  \\\n",
       "0  1.11913372.-2@multexinvestornetwork.com  pallen@enron.com   \n",
       "\n",
       "                                             Subject Mime-Version  \\\n",
       "0  December 14, 2000 - Bear Stearns' predictions ...          1.0   \n",
       "\n",
       "                   Content-Type Content-Transfer-Encoding  \\\n",
       "0  text/plain; charset=us-ascii                      7bit   \n",
       "\n",
       "                                              X-From                X-To X-cc  \\\n",
       "0  Multex Investor <1.11913372.-2@multexinvestorn...  <pallen@enron.com>        \n",
       "\n",
       "  X-bcc                                           X-Folder X-Origin  \\\n",
       "0        \\Phillip_Allen_Dec2000\\Notes Folders\\All docum...  Allen-P   \n",
       "\n",
       "   X-FileName  \n",
       "0  pallen.nsf  "
      ]
     },
     "execution_count": 17,
     "metadata": {},
     "output_type": "execute_result"
    }
   ],
   "source": [
    "df = pd.DataFrame(header_all,columns=sample.keys())\n",
    "df "
   ]
  },
  {
   "cell_type": "markdown",
   "metadata": {},
   "source": [
    "<a id='mp_2'>"
   ]
  },
  {
   "cell_type": "markdown",
   "metadata": {},
   "source": [
    "***Reading In Many Emails***<br>\n",
    "So we've appended one sample email into a dataframe. Time to make that outer loop work."
   ]
  },
  {
   "cell_type": "code",
   "execution_count": 18,
   "metadata": {},
   "outputs": [
    {
     "data": {
      "text/html": [
       "<div>\n",
       "<style scoped>\n",
       "    .dataframe tbody tr th:only-of-type {\n",
       "        vertical-align: middle;\n",
       "    }\n",
       "\n",
       "    .dataframe tbody tr th {\n",
       "        vertical-align: top;\n",
       "    }\n",
       "\n",
       "    .dataframe thead th {\n",
       "        text-align: right;\n",
       "    }\n",
       "</style>\n",
       "<table border=\"1\" class=\"dataframe\">\n",
       "  <thead>\n",
       "    <tr style=\"text-align: right;\">\n",
       "      <th></th>\n",
       "      <th>Message-ID</th>\n",
       "      <th>Date</th>\n",
       "      <th>From</th>\n",
       "      <th>To</th>\n",
       "      <th>Subject</th>\n",
       "      <th>Mime-Version</th>\n",
       "      <th>Content-Type</th>\n",
       "      <th>Content-Transfer-Encoding</th>\n",
       "      <th>X-From</th>\n",
       "      <th>X-To</th>\n",
       "      <th>X-cc</th>\n",
       "      <th>X-bcc</th>\n",
       "      <th>X-Folder</th>\n",
       "      <th>X-Origin</th>\n",
       "      <th>X-FileName</th>\n",
       "    </tr>\n",
       "  </thead>\n",
       "  <tbody>\n",
       "    <tr>\n",
       "      <td>0</td>\n",
       "      <td>&lt;9144576.1075855665395.JavaMail.evans@thyme&gt;</td>\n",
       "      <td>Wed, 13 Dec 2000 11:02:00 -0800 (PST)</td>\n",
       "      <td>arsystem@mailman.enron.com</td>\n",
       "      <td>phillip.k.allen@enron.com</td>\n",
       "      <td>Your Approval is Overdue: Access Request for\\n...</td>\n",
       "      <td>1.0</td>\n",
       "      <td>text/plain; charset=us-ascii</td>\n",
       "      <td>7bit</td>\n",
       "      <td>ARSystem@mailman.enron.com</td>\n",
       "      <td>phillip.k.allen@enron.com</td>\n",
       "      <td></td>\n",
       "      <td></td>\n",
       "      <td>\\Phillip_Allen_Dec2000\\Notes Folders\\All docum...</td>\n",
       "      <td>Allen-P</td>\n",
       "      <td>pallen.nsf</td>\n",
       "    </tr>\n",
       "    <tr>\n",
       "      <td>1</td>\n",
       "      <td>&lt;3077082.1075855665373.JavaMail.evans@thyme&gt;</td>\n",
       "      <td>Wed, 13 Dec 2000 06:08:00 -0800 (PST)</td>\n",
       "      <td>announce@inbox.nytimes.com</td>\n",
       "      <td>pallen@ect.enron.com</td>\n",
       "      <td>Celebrate the Holidays with NYTimes.com</td>\n",
       "      <td>1.0</td>\n",
       "      <td>text/plain; charset=us-ascii</td>\n",
       "      <td>7bit</td>\n",
       "      <td>\"NYTimes.com\" &lt;announce@inbox.nytimes.com&gt;</td>\n",
       "      <td>pallen@ECT.ENRON.COM</td>\n",
       "      <td></td>\n",
       "      <td></td>\n",
       "      <td>\\Phillip_Allen_Dec2000\\Notes Folders\\All docum...</td>\n",
       "      <td>Allen-P</td>\n",
       "      <td>pallen.nsf</td>\n",
       "    </tr>\n",
       "    <tr>\n",
       "      <td>2</td>\n",
       "      <td>&lt;17175692.1075855665350.JavaMail.evans@thyme&gt;</td>\n",
       "      <td>Wed, 13 Dec 2000 13:28:00 -0800 (PST)</td>\n",
       "      <td>subscriptions@intelligencepress.com</td>\n",
       "      <td>pallen@enron.com</td>\n",
       "      <td>NGI Publications - Thursday, 14 December 2000</td>\n",
       "      <td>1.0</td>\n",
       "      <td>text/plain; charset=us-ascii</td>\n",
       "      <td>7bit</td>\n",
       "      <td>subscriptions@intelligencepress.com</td>\n",
       "      <td>pallen@enron.com</td>\n",
       "      <td></td>\n",
       "      <td></td>\n",
       "      <td>\\Phillip_Allen_Dec2000\\Notes Folders\\All docum...</td>\n",
       "      <td>Allen-P</td>\n",
       "      <td>pallen.nsf</td>\n",
       "    </tr>\n",
       "    <tr>\n",
       "      <td>3</td>\n",
       "      <td>&lt;31189653.1075855665329.JavaMail.evans@thyme&gt;</td>\n",
       "      <td>Wed, 13 Dec 2000 10:04:00 -0800 (PST)</td>\n",
       "      <td>bounce-news-932653@lists.autoweb.com</td>\n",
       "      <td>pallen@enron.com</td>\n",
       "      <td>December Newsletter - Factory Incentives are a...</td>\n",
       "      <td>1.0</td>\n",
       "      <td>text/plain; charset=us-ascii</td>\n",
       "      <td>7bit</td>\n",
       "      <td>bounce-news-932653@lists.autoweb.com</td>\n",
       "      <td>\"pallen@enron.com\" &lt;pallen@enron.com&gt;</td>\n",
       "      <td></td>\n",
       "      <td></td>\n",
       "      <td>\\Phillip_Allen_Dec2000\\Notes Folders\\All docum...</td>\n",
       "      <td>Allen-P</td>\n",
       "      <td>pallen.nsf</td>\n",
       "    </tr>\n",
       "    <tr>\n",
       "      <td>4</td>\n",
       "      <td>&lt;29790972.1075855665306.JavaMail.evans@thyme&gt;</td>\n",
       "      <td>Wed, 13 Dec 2000 18:41:00 -0800 (PST)</td>\n",
       "      <td>1.11913372.-2@multexinvestornetwork.com</td>\n",
       "      <td>pallen@enron.com</td>\n",
       "      <td>December 14, 2000 - Bear Stearns' predictions ...</td>\n",
       "      <td>1.0</td>\n",
       "      <td>text/plain; charset=us-ascii</td>\n",
       "      <td>7bit</td>\n",
       "      <td>Multex Investor &lt;1.11913372.-2@multexinvestorn...</td>\n",
       "      <td>&lt;pallen@enron.com&gt;</td>\n",
       "      <td></td>\n",
       "      <td></td>\n",
       "      <td>\\Phillip_Allen_Dec2000\\Notes Folders\\All docum...</td>\n",
       "      <td>Allen-P</td>\n",
       "      <td>pallen.nsf</td>\n",
       "    </tr>\n",
       "  </tbody>\n",
       "</table>\n",
       "</div>"
      ],
      "text/plain": [
       "                                      Message-ID  \\\n",
       "0   <9144576.1075855665395.JavaMail.evans@thyme>   \n",
       "1   <3077082.1075855665373.JavaMail.evans@thyme>   \n",
       "2  <17175692.1075855665350.JavaMail.evans@thyme>   \n",
       "3  <31189653.1075855665329.JavaMail.evans@thyme>   \n",
       "4  <29790972.1075855665306.JavaMail.evans@thyme>   \n",
       "\n",
       "                                    Date  \\\n",
       "0  Wed, 13 Dec 2000 11:02:00 -0800 (PST)   \n",
       "1  Wed, 13 Dec 2000 06:08:00 -0800 (PST)   \n",
       "2  Wed, 13 Dec 2000 13:28:00 -0800 (PST)   \n",
       "3  Wed, 13 Dec 2000 10:04:00 -0800 (PST)   \n",
       "4  Wed, 13 Dec 2000 18:41:00 -0800 (PST)   \n",
       "\n",
       "                                      From                         To  \\\n",
       "0               arsystem@mailman.enron.com  phillip.k.allen@enron.com   \n",
       "1               announce@inbox.nytimes.com       pallen@ect.enron.com   \n",
       "2      subscriptions@intelligencepress.com           pallen@enron.com   \n",
       "3     bounce-news-932653@lists.autoweb.com           pallen@enron.com   \n",
       "4  1.11913372.-2@multexinvestornetwork.com           pallen@enron.com   \n",
       "\n",
       "                                             Subject Mime-Version  \\\n",
       "0  Your Approval is Overdue: Access Request for\\n...          1.0   \n",
       "1            Celebrate the Holidays with NYTimes.com          1.0   \n",
       "2      NGI Publications - Thursday, 14 December 2000          1.0   \n",
       "3  December Newsletter - Factory Incentives are a...          1.0   \n",
       "4  December 14, 2000 - Bear Stearns' predictions ...          1.0   \n",
       "\n",
       "                   Content-Type Content-Transfer-Encoding  \\\n",
       "0  text/plain; charset=us-ascii                      7bit   \n",
       "1  text/plain; charset=us-ascii                      7bit   \n",
       "2  text/plain; charset=us-ascii                      7bit   \n",
       "3  text/plain; charset=us-ascii                      7bit   \n",
       "4  text/plain; charset=us-ascii                      7bit   \n",
       "\n",
       "                                              X-From  \\\n",
       "0                         ARSystem@mailman.enron.com   \n",
       "1         \"NYTimes.com\" <announce@inbox.nytimes.com>   \n",
       "2                subscriptions@intelligencepress.com   \n",
       "3               bounce-news-932653@lists.autoweb.com   \n",
       "4  Multex Investor <1.11913372.-2@multexinvestorn...   \n",
       "\n",
       "                                    X-To X-cc X-bcc  \\\n",
       "0              phillip.k.allen@enron.com              \n",
       "1                   pallen@ECT.ENRON.COM              \n",
       "2                       pallen@enron.com              \n",
       "3  \"pallen@enron.com\" <pallen@enron.com>              \n",
       "4                     <pallen@enron.com>              \n",
       "\n",
       "                                            X-Folder X-Origin  X-FileName  \n",
       "0  \\Phillip_Allen_Dec2000\\Notes Folders\\All docum...  Allen-P  pallen.nsf  \n",
       "1  \\Phillip_Allen_Dec2000\\Notes Folders\\All docum...  Allen-P  pallen.nsf  \n",
       "2  \\Phillip_Allen_Dec2000\\Notes Folders\\All docum...  Allen-P  pallen.nsf  \n",
       "3  \\Phillip_Allen_Dec2000\\Notes Folders\\All docum...  Allen-P  pallen.nsf  \n",
       "4  \\Phillip_Allen_Dec2000\\Notes Folders\\All docum...  Allen-P  pallen.nsf  "
      ]
     },
     "execution_count": 18,
     "metadata": {},
     "output_type": "execute_result"
    }
   ],
   "source": [
    "header_all = [] #a list of header data from all emails\n",
    "sample_size = 5\n",
    "curr_email = 1\n",
    "while sample_size > 0:\n",
    "    header = readEmailHead('allen-p', sample_size, corpus_root=cr)\n",
    "    header_one = [] #a list of header data from one email\n",
    "    for line in header.values():\n",
    "        header_one.append(line)\n",
    "    header_all.append(header_one)\n",
    "    sample_size = sample_size - 1\n",
    "email_df = pd.DataFrame(header_all, columns=sample.keys())\n",
    "email_df"
   ]
  },
  {
   "cell_type": "markdown",
   "metadata": {},
   "source": [
    "*Note*: Good start! Read in backwards though."
   ]
  },
  {
   "cell_type": "code",
   "execution_count": 19,
   "metadata": {},
   "outputs": [
    {
     "data": {
      "text/html": [
       "<div>\n",
       "<style scoped>\n",
       "    .dataframe tbody tr th:only-of-type {\n",
       "        vertical-align: middle;\n",
       "    }\n",
       "\n",
       "    .dataframe tbody tr th {\n",
       "        vertical-align: top;\n",
       "    }\n",
       "\n",
       "    .dataframe thead th {\n",
       "        text-align: right;\n",
       "    }\n",
       "</style>\n",
       "<table border=\"1\" class=\"dataframe\">\n",
       "  <thead>\n",
       "    <tr style=\"text-align: right;\">\n",
       "      <th></th>\n",
       "      <th>Message-ID</th>\n",
       "      <th>Date</th>\n",
       "      <th>From</th>\n",
       "      <th>To</th>\n",
       "      <th>Subject</th>\n",
       "      <th>Mime-Version</th>\n",
       "      <th>Content-Type</th>\n",
       "      <th>Content-Transfer-Encoding</th>\n",
       "      <th>X-From</th>\n",
       "      <th>X-To</th>\n",
       "      <th>X-cc</th>\n",
       "      <th>X-bcc</th>\n",
       "      <th>X-Folder</th>\n",
       "      <th>X-Origin</th>\n",
       "      <th>X-FileName</th>\n",
       "    </tr>\n",
       "  </thead>\n",
       "  <tbody>\n",
       "    <tr>\n",
       "      <td>0</td>\n",
       "      <td>&lt;29790972.1075855665306.JavaMail.evans@thyme&gt;</td>\n",
       "      <td>Wed, 13 Dec 2000 18:41:00 -0800 (PST)</td>\n",
       "      <td>1.11913372.-2@multexinvestornetwork.com</td>\n",
       "      <td>pallen@enron.com</td>\n",
       "      <td>December 14, 2000 - Bear Stearns' predictions ...</td>\n",
       "      <td>1.0</td>\n",
       "      <td>text/plain; charset=us-ascii</td>\n",
       "      <td>7bit</td>\n",
       "      <td>Multex Investor &lt;1.11913372.-2@multexinvestorn...</td>\n",
       "      <td>&lt;pallen@enron.com&gt;</td>\n",
       "      <td></td>\n",
       "      <td></td>\n",
       "      <td>\\Phillip_Allen_Dec2000\\Notes Folders\\All docum...</td>\n",
       "      <td>Allen-P</td>\n",
       "      <td>pallen.nsf</td>\n",
       "    </tr>\n",
       "    <tr>\n",
       "      <td>1</td>\n",
       "      <td>&lt;31189653.1075855665329.JavaMail.evans@thyme&gt;</td>\n",
       "      <td>Wed, 13 Dec 2000 10:04:00 -0800 (PST)</td>\n",
       "      <td>bounce-news-932653@lists.autoweb.com</td>\n",
       "      <td>pallen@enron.com</td>\n",
       "      <td>December Newsletter - Factory Incentives are a...</td>\n",
       "      <td>1.0</td>\n",
       "      <td>text/plain; charset=us-ascii</td>\n",
       "      <td>7bit</td>\n",
       "      <td>bounce-news-932653@lists.autoweb.com</td>\n",
       "      <td>\"pallen@enron.com\" &lt;pallen@enron.com&gt;</td>\n",
       "      <td></td>\n",
       "      <td></td>\n",
       "      <td>\\Phillip_Allen_Dec2000\\Notes Folders\\All docum...</td>\n",
       "      <td>Allen-P</td>\n",
       "      <td>pallen.nsf</td>\n",
       "    </tr>\n",
       "    <tr>\n",
       "      <td>2</td>\n",
       "      <td>&lt;17175692.1075855665350.JavaMail.evans@thyme&gt;</td>\n",
       "      <td>Wed, 13 Dec 2000 13:28:00 -0800 (PST)</td>\n",
       "      <td>subscriptions@intelligencepress.com</td>\n",
       "      <td>pallen@enron.com</td>\n",
       "      <td>NGI Publications - Thursday, 14 December 2000</td>\n",
       "      <td>1.0</td>\n",
       "      <td>text/plain; charset=us-ascii</td>\n",
       "      <td>7bit</td>\n",
       "      <td>subscriptions@intelligencepress.com</td>\n",
       "      <td>pallen@enron.com</td>\n",
       "      <td></td>\n",
       "      <td></td>\n",
       "      <td>\\Phillip_Allen_Dec2000\\Notes Folders\\All docum...</td>\n",
       "      <td>Allen-P</td>\n",
       "      <td>pallen.nsf</td>\n",
       "    </tr>\n",
       "    <tr>\n",
       "      <td>3</td>\n",
       "      <td>&lt;3077082.1075855665373.JavaMail.evans@thyme&gt;</td>\n",
       "      <td>Wed, 13 Dec 2000 06:08:00 -0800 (PST)</td>\n",
       "      <td>announce@inbox.nytimes.com</td>\n",
       "      <td>pallen@ect.enron.com</td>\n",
       "      <td>Celebrate the Holidays with NYTimes.com</td>\n",
       "      <td>1.0</td>\n",
       "      <td>text/plain; charset=us-ascii</td>\n",
       "      <td>7bit</td>\n",
       "      <td>\"NYTimes.com\" &lt;announce@inbox.nytimes.com&gt;</td>\n",
       "      <td>pallen@ECT.ENRON.COM</td>\n",
       "      <td></td>\n",
       "      <td></td>\n",
       "      <td>\\Phillip_Allen_Dec2000\\Notes Folders\\All docum...</td>\n",
       "      <td>Allen-P</td>\n",
       "      <td>pallen.nsf</td>\n",
       "    </tr>\n",
       "    <tr>\n",
       "      <td>4</td>\n",
       "      <td>&lt;9144576.1075855665395.JavaMail.evans@thyme&gt;</td>\n",
       "      <td>Wed, 13 Dec 2000 11:02:00 -0800 (PST)</td>\n",
       "      <td>arsystem@mailman.enron.com</td>\n",
       "      <td>phillip.k.allen@enron.com</td>\n",
       "      <td>Your Approval is Overdue: Access Request for\\n...</td>\n",
       "      <td>1.0</td>\n",
       "      <td>text/plain; charset=us-ascii</td>\n",
       "      <td>7bit</td>\n",
       "      <td>ARSystem@mailman.enron.com</td>\n",
       "      <td>phillip.k.allen@enron.com</td>\n",
       "      <td></td>\n",
       "      <td></td>\n",
       "      <td>\\Phillip_Allen_Dec2000\\Notes Folders\\All docum...</td>\n",
       "      <td>Allen-P</td>\n",
       "      <td>pallen.nsf</td>\n",
       "    </tr>\n",
       "  </tbody>\n",
       "</table>\n",
       "</div>"
      ],
      "text/plain": [
       "                                      Message-ID  \\\n",
       "0  <29790972.1075855665306.JavaMail.evans@thyme>   \n",
       "1  <31189653.1075855665329.JavaMail.evans@thyme>   \n",
       "2  <17175692.1075855665350.JavaMail.evans@thyme>   \n",
       "3   <3077082.1075855665373.JavaMail.evans@thyme>   \n",
       "4   <9144576.1075855665395.JavaMail.evans@thyme>   \n",
       "\n",
       "                                    Date  \\\n",
       "0  Wed, 13 Dec 2000 18:41:00 -0800 (PST)   \n",
       "1  Wed, 13 Dec 2000 10:04:00 -0800 (PST)   \n",
       "2  Wed, 13 Dec 2000 13:28:00 -0800 (PST)   \n",
       "3  Wed, 13 Dec 2000 06:08:00 -0800 (PST)   \n",
       "4  Wed, 13 Dec 2000 11:02:00 -0800 (PST)   \n",
       "\n",
       "                                      From                         To  \\\n",
       "0  1.11913372.-2@multexinvestornetwork.com           pallen@enron.com   \n",
       "1     bounce-news-932653@lists.autoweb.com           pallen@enron.com   \n",
       "2      subscriptions@intelligencepress.com           pallen@enron.com   \n",
       "3               announce@inbox.nytimes.com       pallen@ect.enron.com   \n",
       "4               arsystem@mailman.enron.com  phillip.k.allen@enron.com   \n",
       "\n",
       "                                             Subject Mime-Version  \\\n",
       "0  December 14, 2000 - Bear Stearns' predictions ...          1.0   \n",
       "1  December Newsletter - Factory Incentives are a...          1.0   \n",
       "2      NGI Publications - Thursday, 14 December 2000          1.0   \n",
       "3            Celebrate the Holidays with NYTimes.com          1.0   \n",
       "4  Your Approval is Overdue: Access Request for\\n...          1.0   \n",
       "\n",
       "                   Content-Type Content-Transfer-Encoding  \\\n",
       "0  text/plain; charset=us-ascii                      7bit   \n",
       "1  text/plain; charset=us-ascii                      7bit   \n",
       "2  text/plain; charset=us-ascii                      7bit   \n",
       "3  text/plain; charset=us-ascii                      7bit   \n",
       "4  text/plain; charset=us-ascii                      7bit   \n",
       "\n",
       "                                              X-From  \\\n",
       "0  Multex Investor <1.11913372.-2@multexinvestorn...   \n",
       "1               bounce-news-932653@lists.autoweb.com   \n",
       "2                subscriptions@intelligencepress.com   \n",
       "3         \"NYTimes.com\" <announce@inbox.nytimes.com>   \n",
       "4                         ARSystem@mailman.enron.com   \n",
       "\n",
       "                                    X-To X-cc X-bcc  \\\n",
       "0                     <pallen@enron.com>              \n",
       "1  \"pallen@enron.com\" <pallen@enron.com>              \n",
       "2                       pallen@enron.com              \n",
       "3                   pallen@ECT.ENRON.COM              \n",
       "4              phillip.k.allen@enron.com              \n",
       "\n",
       "                                            X-Folder X-Origin  X-FileName  \n",
       "0  \\Phillip_Allen_Dec2000\\Notes Folders\\All docum...  Allen-P  pallen.nsf  \n",
       "1  \\Phillip_Allen_Dec2000\\Notes Folders\\All docum...  Allen-P  pallen.nsf  \n",
       "2  \\Phillip_Allen_Dec2000\\Notes Folders\\All docum...  Allen-P  pallen.nsf  \n",
       "3  \\Phillip_Allen_Dec2000\\Notes Folders\\All docum...  Allen-P  pallen.nsf  \n",
       "4  \\Phillip_Allen_Dec2000\\Notes Folders\\All docum...  Allen-P  pallen.nsf  "
      ]
     },
     "execution_count": 19,
     "metadata": {},
     "output_type": "execute_result"
    }
   ],
   "source": [
    "header_all = [] #a list of header data from all emails\n",
    "sample_size = 5\n",
    "curr_email = 1\n",
    "while curr_email <= sample_size:\n",
    "    header = readEmailHead('allen-p', curr_email, corpus_root=cr)\n",
    "    header_one = [] #a list of header data from one email\n",
    "    for line in header.values():\n",
    "        header_one.append(line)\n",
    "    header_all.append(header_one)\n",
    "    curr_email = curr_email + 1\n",
    "email_df = pd.DataFrame(header_all, columns=sample.keys())\n",
    "email_df"
   ]
  },
  {
   "cell_type": "markdown",
   "metadata": {},
   "source": [
    "<a id='mp_3'>"
   ]
  },
  {
   "cell_type": "markdown",
   "metadata": {},
   "source": [
    "***Bugs In The Function***<br>\n",
    "Now lets turn this into a function, and from there we can start to test it on the wider dataset."
   ]
  },
  {
   "cell_type": "code",
   "execution_count": 20,
   "metadata": {},
   "outputs": [],
   "source": [
    "def makeHeaderDF(sample_size, curr_email, user):\n",
    "    header_all = [] #a list of header data from all emails\n",
    "    while curr_email <= sample_size:\n",
    "        header = readEmailHead(user, curr_email, corpus_root=cr)\n",
    "        header_one = [] #a list of header data from one email\n",
    "        for line in header.values():\n",
    "            header_one.append(line)\n",
    "        header_all.append(header_one)\n",
    "        curr_email = curr_email + 1\n",
    "    email_df = pd.DataFrame(header_all, columns=header.keys())\n",
    "    return email_df"
   ]
  },
  {
   "cell_type": "markdown",
   "metadata": {},
   "source": [
    "<a id='s_p1'>"
   ]
  },
  {
   "cell_type": "code",
   "execution_count": 21,
   "metadata": {},
   "outputs": [
    {
     "ename": "FileNotFoundError",
     "evalue": "[Errno 2] No such file or directory: '/Users/Brett/Desktop/Enron_Emails/maildir/allen-p/all_documents/12'",
     "output_type": "error",
     "traceback": [
      "\u001b[1;31m---------------------------------------------------------------------------\u001b[0m",
      "\u001b[1;31mFileNotFoundError\u001b[0m                         Traceback (most recent call last)",
      "\u001b[1;32m<ipython-input-21-618807e973f4>\u001b[0m in \u001b[0;36m<module>\u001b[1;34m\u001b[0m\n\u001b[1;32m----> 1\u001b[1;33m \u001b[0mmakeHeaderDF\u001b[0m\u001b[1;33m(\u001b[0m\u001b[1;36m100\u001b[0m\u001b[1;33m,\u001b[0m \u001b[1;36m1\u001b[0m\u001b[1;33m,\u001b[0m \u001b[1;34m'allen-p'\u001b[0m\u001b[1;33m)\u001b[0m\u001b[1;33m\u001b[0m\u001b[1;33m\u001b[0m\u001b[0m\n\u001b[0m",
      "\u001b[1;32m<ipython-input-20-0628318379d9>\u001b[0m in \u001b[0;36mmakeHeaderDF\u001b[1;34m(sample_size, curr_email, user)\u001b[0m\n\u001b[0;32m      2\u001b[0m     \u001b[0mheader_all\u001b[0m \u001b[1;33m=\u001b[0m \u001b[1;33m[\u001b[0m\u001b[1;33m]\u001b[0m \u001b[1;31m#a list of header data from all emails\u001b[0m\u001b[1;33m\u001b[0m\u001b[1;33m\u001b[0m\u001b[0m\n\u001b[0;32m      3\u001b[0m     \u001b[1;32mwhile\u001b[0m \u001b[0mcurr_email\u001b[0m \u001b[1;33m<=\u001b[0m \u001b[0msample_size\u001b[0m\u001b[1;33m:\u001b[0m\u001b[1;33m\u001b[0m\u001b[1;33m\u001b[0m\u001b[0m\n\u001b[1;32m----> 4\u001b[1;33m         \u001b[0mheader\u001b[0m \u001b[1;33m=\u001b[0m \u001b[0mreadEmailHead\u001b[0m\u001b[1;33m(\u001b[0m\u001b[0muser\u001b[0m\u001b[1;33m,\u001b[0m \u001b[0mcurr_email\u001b[0m\u001b[1;33m,\u001b[0m \u001b[0mcorpus_root\u001b[0m\u001b[1;33m=\u001b[0m\u001b[0mcr\u001b[0m\u001b[1;33m)\u001b[0m\u001b[1;33m\u001b[0m\u001b[1;33m\u001b[0m\u001b[0m\n\u001b[0m\u001b[0;32m      5\u001b[0m         \u001b[0mheader_one\u001b[0m \u001b[1;33m=\u001b[0m \u001b[1;33m[\u001b[0m\u001b[1;33m]\u001b[0m \u001b[1;31m#a list of header data from one email\u001b[0m\u001b[1;33m\u001b[0m\u001b[1;33m\u001b[0m\u001b[0m\n\u001b[0;32m      6\u001b[0m         \u001b[1;32mfor\u001b[0m \u001b[0mline\u001b[0m \u001b[1;32min\u001b[0m \u001b[0mheader\u001b[0m\u001b[1;33m.\u001b[0m\u001b[0mvalues\u001b[0m\u001b[1;33m(\u001b[0m\u001b[1;33m)\u001b[0m\u001b[1;33m:\u001b[0m\u001b[1;33m\u001b[0m\u001b[1;33m\u001b[0m\u001b[0m\n",
      "\u001b[1;32m<ipython-input-13-d7b850a625ca>\u001b[0m in \u001b[0;36mreadEmailHead\u001b[1;34m(username, emailNum, corpus_root)\u001b[0m\n\u001b[0;32m      4\u001b[0m \u001b[1;32mdef\u001b[0m \u001b[0mreadEmailHead\u001b[0m\u001b[1;33m(\u001b[0m\u001b[0musername\u001b[0m\u001b[1;33m,\u001b[0m \u001b[0memailNum\u001b[0m\u001b[1;33m,\u001b[0m \u001b[0mcorpus_root\u001b[0m\u001b[1;33m=\u001b[0m\u001b[1;34m'maildir'\u001b[0m\u001b[1;33m)\u001b[0m\u001b[1;33m:\u001b[0m\u001b[1;33m\u001b[0m\u001b[1;33m\u001b[0m\u001b[0m\n\u001b[0;32m      5\u001b[0m     \u001b[0mfname\u001b[0m \u001b[1;33m=\u001b[0m \u001b[1;34mf\"/{corpus_root}/{username}/all_documents/{emailNum}\"\u001b[0m\u001b[1;33m\u001b[0m\u001b[1;33m\u001b[0m\u001b[0m\n\u001b[1;32m----> 6\u001b[1;33m     \u001b[1;32mwith\u001b[0m \u001b[0mopen\u001b[0m\u001b[1;33m(\u001b[0m\u001b[0mfname\u001b[0m\u001b[1;33m)\u001b[0m \u001b[1;32mas\u001b[0m \u001b[0mfd\u001b[0m\u001b[1;33m:\u001b[0m\u001b[1;33m\u001b[0m\u001b[1;33m\u001b[0m\u001b[0m\n\u001b[0m\u001b[0;32m      7\u001b[0m         \u001b[0mpp\u001b[0m \u001b[1;33m=\u001b[0m \u001b[0memail\u001b[0m\u001b[1;33m.\u001b[0m\u001b[0mparser\u001b[0m\u001b[1;33m.\u001b[0m\u001b[0mParser\u001b[0m\u001b[1;33m(\u001b[0m\u001b[1;33m)\u001b[0m\u001b[1;33m\u001b[0m\u001b[1;33m\u001b[0m\u001b[0m\n\u001b[0;32m      8\u001b[0m         \u001b[0mheader\u001b[0m \u001b[1;33m=\u001b[0m \u001b[0mpp\u001b[0m\u001b[1;33m.\u001b[0m\u001b[0mparse\u001b[0m\u001b[1;33m(\u001b[0m\u001b[0mfd\u001b[0m\u001b[1;33m,\u001b[0m \u001b[0mheadersonly\u001b[0m\u001b[1;33m=\u001b[0m\u001b[1;32mTrue\u001b[0m\u001b[1;33m)\u001b[0m \u001b[1;31m#where the magic happens. works on all MIME email formats.\u001b[0m\u001b[1;33m\u001b[0m\u001b[1;33m\u001b[0m\u001b[0m\n",
      "\u001b[1;31mFileNotFoundError\u001b[0m: [Errno 2] No such file or directory: '/Users/Brett/Desktop/Enron_Emails/maildir/allen-p/all_documents/12'"
     ]
    }
   ],
   "source": [
    "makeHeaderDF(100, 1, 'allen-p')"
   ]
  },
  {
   "cell_type": "markdown",
   "metadata": {},
   "source": [
    "*Problem*: I think I was using the GUI a little too much and erased a few files? If the all_documents folder is not ordered 1-sample_size, we're going to have to edit the method. Let's test on some other users."
   ]
  },
  {
   "cell_type": "markdown",
   "metadata": {},
   "source": [
    "<a id='s_p2'>"
   ]
  },
  {
   "cell_type": "code",
   "execution_count": 22,
   "metadata": {},
   "outputs": [
    {
     "ename": "ValueError",
     "evalue": "15 columns passed, passed data had 17 columns",
     "output_type": "error",
     "traceback": [
      "\u001b[1;31m---------------------------------------------------------------------------\u001b[0m",
      "\u001b[1;31mAssertionError\u001b[0m                            Traceback (most recent call last)",
      "\u001b[1;32m~\\Anaconda3\\lib\\site-packages\\pandas\\core\\internals\\construction.py\u001b[0m in \u001b[0;36m_list_to_arrays\u001b[1;34m(data, columns, coerce_float, dtype)\u001b[0m\n\u001b[0;32m    499\u001b[0m         result = _convert_object_array(\n\u001b[1;32m--> 500\u001b[1;33m             \u001b[0mcontent\u001b[0m\u001b[1;33m,\u001b[0m \u001b[0mcolumns\u001b[0m\u001b[1;33m,\u001b[0m \u001b[0mdtype\u001b[0m\u001b[1;33m=\u001b[0m\u001b[0mdtype\u001b[0m\u001b[1;33m,\u001b[0m \u001b[0mcoerce_float\u001b[0m\u001b[1;33m=\u001b[0m\u001b[0mcoerce_float\u001b[0m\u001b[1;33m\u001b[0m\u001b[1;33m\u001b[0m\u001b[0m\n\u001b[0m\u001b[0;32m    501\u001b[0m         )\n",
      "\u001b[1;32m~\\Anaconda3\\lib\\site-packages\\pandas\\core\\internals\\construction.py\u001b[0m in \u001b[0;36m_convert_object_array\u001b[1;34m(content, columns, coerce_float, dtype)\u001b[0m\n\u001b[0;32m    582\u001b[0m                 \u001b[1;34m\"{col:d} columns passed, passed data had \"\u001b[0m\u001b[1;33m\u001b[0m\u001b[1;33m\u001b[0m\u001b[0m\n\u001b[1;32m--> 583\u001b[1;33m                 \u001b[1;34m\"{con} columns\"\u001b[0m\u001b[1;33m.\u001b[0m\u001b[0mformat\u001b[0m\u001b[1;33m(\u001b[0m\u001b[0mcol\u001b[0m\u001b[1;33m=\u001b[0m\u001b[0mlen\u001b[0m\u001b[1;33m(\u001b[0m\u001b[0mcolumns\u001b[0m\u001b[1;33m)\u001b[0m\u001b[1;33m,\u001b[0m \u001b[0mcon\u001b[0m\u001b[1;33m=\u001b[0m\u001b[0mlen\u001b[0m\u001b[1;33m(\u001b[0m\u001b[0mcontent\u001b[0m\u001b[1;33m)\u001b[0m\u001b[1;33m)\u001b[0m\u001b[1;33m\u001b[0m\u001b[1;33m\u001b[0m\u001b[0m\n\u001b[0m\u001b[0;32m    584\u001b[0m             )\n",
      "\u001b[1;31mAssertionError\u001b[0m: 15 columns passed, passed data had 17 columns",
      "\nThe above exception was the direct cause of the following exception:\n",
      "\u001b[1;31mValueError\u001b[0m                                Traceback (most recent call last)",
      "\u001b[1;32m<ipython-input-22-02a8c990175b>\u001b[0m in \u001b[0;36m<module>\u001b[1;34m\u001b[0m\n\u001b[1;32m----> 1\u001b[1;33m \u001b[0mmakeHeaderDF\u001b[0m\u001b[1;33m(\u001b[0m\u001b[1;36m65\u001b[0m\u001b[1;33m,\u001b[0m \u001b[1;36m1\u001b[0m\u001b[1;33m,\u001b[0m \u001b[1;34m'arora-h'\u001b[0m\u001b[1;33m)\u001b[0m\u001b[1;33m\u001b[0m\u001b[1;33m\u001b[0m\u001b[0m\n\u001b[0m",
      "\u001b[1;32m<ipython-input-20-0628318379d9>\u001b[0m in \u001b[0;36mmakeHeaderDF\u001b[1;34m(sample_size, curr_email, user)\u001b[0m\n\u001b[0;32m      8\u001b[0m         \u001b[0mheader_all\u001b[0m\u001b[1;33m.\u001b[0m\u001b[0mappend\u001b[0m\u001b[1;33m(\u001b[0m\u001b[0mheader_one\u001b[0m\u001b[1;33m)\u001b[0m\u001b[1;33m\u001b[0m\u001b[1;33m\u001b[0m\u001b[0m\n\u001b[0;32m      9\u001b[0m         \u001b[0mcurr_email\u001b[0m \u001b[1;33m=\u001b[0m \u001b[0mcurr_email\u001b[0m \u001b[1;33m+\u001b[0m \u001b[1;36m1\u001b[0m\u001b[1;33m\u001b[0m\u001b[1;33m\u001b[0m\u001b[0m\n\u001b[1;32m---> 10\u001b[1;33m     \u001b[0memail_df\u001b[0m \u001b[1;33m=\u001b[0m \u001b[0mpd\u001b[0m\u001b[1;33m.\u001b[0m\u001b[0mDataFrame\u001b[0m\u001b[1;33m(\u001b[0m\u001b[0mheader_all\u001b[0m\u001b[1;33m,\u001b[0m \u001b[0mcolumns\u001b[0m\u001b[1;33m=\u001b[0m\u001b[0mheader\u001b[0m\u001b[1;33m.\u001b[0m\u001b[0mkeys\u001b[0m\u001b[1;33m(\u001b[0m\u001b[1;33m)\u001b[0m\u001b[1;33m)\u001b[0m\u001b[1;33m\u001b[0m\u001b[1;33m\u001b[0m\u001b[0m\n\u001b[0m\u001b[0;32m     11\u001b[0m     \u001b[1;32mreturn\u001b[0m \u001b[0memail_df\u001b[0m\u001b[1;33m\u001b[0m\u001b[1;33m\u001b[0m\u001b[0m\n",
      "\u001b[1;32m~\\Anaconda3\\lib\\site-packages\\pandas\\core\\frame.py\u001b[0m in \u001b[0;36m__init__\u001b[1;34m(self, data, index, columns, dtype, copy)\u001b[0m\n\u001b[0;32m    448\u001b[0m                     \u001b[1;32mif\u001b[0m \u001b[0mis_named_tuple\u001b[0m\u001b[1;33m(\u001b[0m\u001b[0mdata\u001b[0m\u001b[1;33m[\u001b[0m\u001b[1;36m0\u001b[0m\u001b[1;33m]\u001b[0m\u001b[1;33m)\u001b[0m \u001b[1;32mand\u001b[0m \u001b[0mcolumns\u001b[0m \u001b[1;32mis\u001b[0m \u001b[1;32mNone\u001b[0m\u001b[1;33m:\u001b[0m\u001b[1;33m\u001b[0m\u001b[1;33m\u001b[0m\u001b[0m\n\u001b[0;32m    449\u001b[0m                         \u001b[0mcolumns\u001b[0m \u001b[1;33m=\u001b[0m \u001b[0mdata\u001b[0m\u001b[1;33m[\u001b[0m\u001b[1;36m0\u001b[0m\u001b[1;33m]\u001b[0m\u001b[1;33m.\u001b[0m\u001b[0m_fields\u001b[0m\u001b[1;33m\u001b[0m\u001b[1;33m\u001b[0m\u001b[0m\n\u001b[1;32m--> 450\u001b[1;33m                     \u001b[0marrays\u001b[0m\u001b[1;33m,\u001b[0m \u001b[0mcolumns\u001b[0m \u001b[1;33m=\u001b[0m \u001b[0mto_arrays\u001b[0m\u001b[1;33m(\u001b[0m\u001b[0mdata\u001b[0m\u001b[1;33m,\u001b[0m \u001b[0mcolumns\u001b[0m\u001b[1;33m,\u001b[0m \u001b[0mdtype\u001b[0m\u001b[1;33m=\u001b[0m\u001b[0mdtype\u001b[0m\u001b[1;33m)\u001b[0m\u001b[1;33m\u001b[0m\u001b[1;33m\u001b[0m\u001b[0m\n\u001b[0m\u001b[0;32m    451\u001b[0m                     \u001b[0mcolumns\u001b[0m \u001b[1;33m=\u001b[0m \u001b[0mensure_index\u001b[0m\u001b[1;33m(\u001b[0m\u001b[0mcolumns\u001b[0m\u001b[1;33m)\u001b[0m\u001b[1;33m\u001b[0m\u001b[1;33m\u001b[0m\u001b[0m\n\u001b[0;32m    452\u001b[0m \u001b[1;33m\u001b[0m\u001b[0m\n",
      "\u001b[1;32m~\\Anaconda3\\lib\\site-packages\\pandas\\core\\internals\\construction.py\u001b[0m in \u001b[0;36mto_arrays\u001b[1;34m(data, columns, coerce_float, dtype)\u001b[0m\n\u001b[0;32m    462\u001b[0m         \u001b[1;32mreturn\u001b[0m \u001b[1;33m[\u001b[0m\u001b[1;33m]\u001b[0m\u001b[1;33m,\u001b[0m \u001b[1;33m[\u001b[0m\u001b[1;33m]\u001b[0m  \u001b[1;31m# columns if columns is not None else []\u001b[0m\u001b[1;33m\u001b[0m\u001b[1;33m\u001b[0m\u001b[0m\n\u001b[0;32m    463\u001b[0m     \u001b[1;32mif\u001b[0m \u001b[0misinstance\u001b[0m\u001b[1;33m(\u001b[0m\u001b[0mdata\u001b[0m\u001b[1;33m[\u001b[0m\u001b[1;36m0\u001b[0m\u001b[1;33m]\u001b[0m\u001b[1;33m,\u001b[0m \u001b[1;33m(\u001b[0m\u001b[0mlist\u001b[0m\u001b[1;33m,\u001b[0m \u001b[0mtuple\u001b[0m\u001b[1;33m)\u001b[0m\u001b[1;33m)\u001b[0m\u001b[1;33m:\u001b[0m\u001b[1;33m\u001b[0m\u001b[1;33m\u001b[0m\u001b[0m\n\u001b[1;32m--> 464\u001b[1;33m         \u001b[1;32mreturn\u001b[0m \u001b[0m_list_to_arrays\u001b[0m\u001b[1;33m(\u001b[0m\u001b[0mdata\u001b[0m\u001b[1;33m,\u001b[0m \u001b[0mcolumns\u001b[0m\u001b[1;33m,\u001b[0m \u001b[0mcoerce_float\u001b[0m\u001b[1;33m=\u001b[0m\u001b[0mcoerce_float\u001b[0m\u001b[1;33m,\u001b[0m \u001b[0mdtype\u001b[0m\u001b[1;33m=\u001b[0m\u001b[0mdtype\u001b[0m\u001b[1;33m)\u001b[0m\u001b[1;33m\u001b[0m\u001b[1;33m\u001b[0m\u001b[0m\n\u001b[0m\u001b[0;32m    465\u001b[0m     \u001b[1;32melif\u001b[0m \u001b[0misinstance\u001b[0m\u001b[1;33m(\u001b[0m\u001b[0mdata\u001b[0m\u001b[1;33m[\u001b[0m\u001b[1;36m0\u001b[0m\u001b[1;33m]\u001b[0m\u001b[1;33m,\u001b[0m \u001b[0mabc\u001b[0m\u001b[1;33m.\u001b[0m\u001b[0mMapping\u001b[0m\u001b[1;33m)\u001b[0m\u001b[1;33m:\u001b[0m\u001b[1;33m\u001b[0m\u001b[1;33m\u001b[0m\u001b[0m\n\u001b[0;32m    466\u001b[0m         return _list_of_dict_to_arrays(\n",
      "\u001b[1;32m~\\Anaconda3\\lib\\site-packages\\pandas\\core\\internals\\construction.py\u001b[0m in \u001b[0;36m_list_to_arrays\u001b[1;34m(data, columns, coerce_float, dtype)\u001b[0m\n\u001b[0;32m    501\u001b[0m         )\n\u001b[0;32m    502\u001b[0m     \u001b[1;32mexcept\u001b[0m \u001b[0mAssertionError\u001b[0m \u001b[1;32mas\u001b[0m \u001b[0me\u001b[0m\u001b[1;33m:\u001b[0m\u001b[1;33m\u001b[0m\u001b[1;33m\u001b[0m\u001b[0m\n\u001b[1;32m--> 503\u001b[1;33m         \u001b[1;32mraise\u001b[0m \u001b[0mValueError\u001b[0m\u001b[1;33m(\u001b[0m\u001b[0me\u001b[0m\u001b[1;33m)\u001b[0m \u001b[1;32mfrom\u001b[0m \u001b[0me\u001b[0m\u001b[1;33m\u001b[0m\u001b[1;33m\u001b[0m\u001b[0m\n\u001b[0m\u001b[0;32m    504\u001b[0m     \u001b[1;32mreturn\u001b[0m \u001b[0mresult\u001b[0m\u001b[1;33m\u001b[0m\u001b[1;33m\u001b[0m\u001b[0m\n\u001b[0;32m    505\u001b[0m \u001b[1;33m\u001b[0m\u001b[0m\n",
      "\u001b[1;31mValueError\u001b[0m: 15 columns passed, passed data had 17 columns"
     ]
    }
   ],
   "source": [
    "makeHeaderDF(65, 1, 'arora-h')"
   ]
  },
  {
   "cell_type": "markdown",
   "metadata": {},
   "source": [
    "*Problem*: This file's header is actually different from the allen's header. It has two extra categories: Content-Type and Content-Transfer-Encoding"
   ]
  },
  {
   "cell_type": "markdown",
   "metadata": {},
   "source": [
    "<a id='s_p3'>"
   ]
  },
  {
   "cell_type": "code",
   "execution_count": 23,
   "metadata": {},
   "outputs": [
    {
     "ename": "FileNotFoundError",
     "evalue": "[Errno 2] No such file or directory: '/Users/Brett/Desktop/Enron_Emails/maildir/causholli-m/all_documents/1'",
     "output_type": "error",
     "traceback": [
      "\u001b[1;31m---------------------------------------------------------------------------\u001b[0m",
      "\u001b[1;31mFileNotFoundError\u001b[0m                         Traceback (most recent call last)",
      "\u001b[1;32m<ipython-input-23-f1d89f2e0249>\u001b[0m in \u001b[0;36m<module>\u001b[1;34m\u001b[0m\n\u001b[1;32m----> 1\u001b[1;33m \u001b[0mmakeHeaderDF\u001b[0m\u001b[1;33m(\u001b[0m\u001b[1;36m100\u001b[0m\u001b[1;33m,\u001b[0m \u001b[1;36m1\u001b[0m\u001b[1;33m,\u001b[0m \u001b[1;34m'causholli-m'\u001b[0m\u001b[1;33m)\u001b[0m\u001b[1;33m\u001b[0m\u001b[1;33m\u001b[0m\u001b[0m\n\u001b[0m",
      "\u001b[1;32m<ipython-input-20-0628318379d9>\u001b[0m in \u001b[0;36mmakeHeaderDF\u001b[1;34m(sample_size, curr_email, user)\u001b[0m\n\u001b[0;32m      2\u001b[0m     \u001b[0mheader_all\u001b[0m \u001b[1;33m=\u001b[0m \u001b[1;33m[\u001b[0m\u001b[1;33m]\u001b[0m \u001b[1;31m#a list of header data from all emails\u001b[0m\u001b[1;33m\u001b[0m\u001b[1;33m\u001b[0m\u001b[0m\n\u001b[0;32m      3\u001b[0m     \u001b[1;32mwhile\u001b[0m \u001b[0mcurr_email\u001b[0m \u001b[1;33m<=\u001b[0m \u001b[0msample_size\u001b[0m\u001b[1;33m:\u001b[0m\u001b[1;33m\u001b[0m\u001b[1;33m\u001b[0m\u001b[0m\n\u001b[1;32m----> 4\u001b[1;33m         \u001b[0mheader\u001b[0m \u001b[1;33m=\u001b[0m \u001b[0mreadEmailHead\u001b[0m\u001b[1;33m(\u001b[0m\u001b[0muser\u001b[0m\u001b[1;33m,\u001b[0m \u001b[0mcurr_email\u001b[0m\u001b[1;33m,\u001b[0m \u001b[0mcorpus_root\u001b[0m\u001b[1;33m=\u001b[0m\u001b[0mcr\u001b[0m\u001b[1;33m)\u001b[0m\u001b[1;33m\u001b[0m\u001b[1;33m\u001b[0m\u001b[0m\n\u001b[0m\u001b[0;32m      5\u001b[0m         \u001b[0mheader_one\u001b[0m \u001b[1;33m=\u001b[0m \u001b[1;33m[\u001b[0m\u001b[1;33m]\u001b[0m \u001b[1;31m#a list of header data from one email\u001b[0m\u001b[1;33m\u001b[0m\u001b[1;33m\u001b[0m\u001b[0m\n\u001b[0;32m      6\u001b[0m         \u001b[1;32mfor\u001b[0m \u001b[0mline\u001b[0m \u001b[1;32min\u001b[0m \u001b[0mheader\u001b[0m\u001b[1;33m.\u001b[0m\u001b[0mvalues\u001b[0m\u001b[1;33m(\u001b[0m\u001b[1;33m)\u001b[0m\u001b[1;33m:\u001b[0m\u001b[1;33m\u001b[0m\u001b[1;33m\u001b[0m\u001b[0m\n",
      "\u001b[1;32m<ipython-input-13-d7b850a625ca>\u001b[0m in \u001b[0;36mreadEmailHead\u001b[1;34m(username, emailNum, corpus_root)\u001b[0m\n\u001b[0;32m      4\u001b[0m \u001b[1;32mdef\u001b[0m \u001b[0mreadEmailHead\u001b[0m\u001b[1;33m(\u001b[0m\u001b[0musername\u001b[0m\u001b[1;33m,\u001b[0m \u001b[0memailNum\u001b[0m\u001b[1;33m,\u001b[0m \u001b[0mcorpus_root\u001b[0m\u001b[1;33m=\u001b[0m\u001b[1;34m'maildir'\u001b[0m\u001b[1;33m)\u001b[0m\u001b[1;33m:\u001b[0m\u001b[1;33m\u001b[0m\u001b[1;33m\u001b[0m\u001b[0m\n\u001b[0;32m      5\u001b[0m     \u001b[0mfname\u001b[0m \u001b[1;33m=\u001b[0m \u001b[1;34mf\"/{corpus_root}/{username}/all_documents/{emailNum}\"\u001b[0m\u001b[1;33m\u001b[0m\u001b[1;33m\u001b[0m\u001b[0m\n\u001b[1;32m----> 6\u001b[1;33m     \u001b[1;32mwith\u001b[0m \u001b[0mopen\u001b[0m\u001b[1;33m(\u001b[0m\u001b[0mfname\u001b[0m\u001b[1;33m)\u001b[0m \u001b[1;32mas\u001b[0m \u001b[0mfd\u001b[0m\u001b[1;33m:\u001b[0m\u001b[1;33m\u001b[0m\u001b[1;33m\u001b[0m\u001b[0m\n\u001b[0m\u001b[0;32m      7\u001b[0m         \u001b[0mpp\u001b[0m \u001b[1;33m=\u001b[0m \u001b[0memail\u001b[0m\u001b[1;33m.\u001b[0m\u001b[0mparser\u001b[0m\u001b[1;33m.\u001b[0m\u001b[0mParser\u001b[0m\u001b[1;33m(\u001b[0m\u001b[1;33m)\u001b[0m\u001b[1;33m\u001b[0m\u001b[1;33m\u001b[0m\u001b[0m\n\u001b[0;32m      8\u001b[0m         \u001b[0mheader\u001b[0m \u001b[1;33m=\u001b[0m \u001b[0mpp\u001b[0m\u001b[1;33m.\u001b[0m\u001b[0mparse\u001b[0m\u001b[1;33m(\u001b[0m\u001b[0mfd\u001b[0m\u001b[1;33m,\u001b[0m \u001b[0mheadersonly\u001b[0m\u001b[1;33m=\u001b[0m\u001b[1;32mTrue\u001b[0m\u001b[1;33m)\u001b[0m \u001b[1;31m#where the magic happens. works on all MIME email formats.\u001b[0m\u001b[1;33m\u001b[0m\u001b[1;33m\u001b[0m\u001b[0m\n",
      "\u001b[1;31mFileNotFoundError\u001b[0m: [Errno 2] No such file or directory: '/Users/Brett/Desktop/Enron_Emails/maildir/causholli-m/all_documents/1'"
     ]
    }
   ],
   "source": [
    "makeHeaderDF(100, 1, 'causholli-m')"
   ]
  },
  {
   "cell_type": "markdown",
   "metadata": {},
   "source": [
    "*Note*: Yet another problem. Causholli's file directory doesn't contain an all_documents folder. Let's wrap up."
   ]
  },
  {
   "cell_type": "code",
   "execution_count": 24,
   "metadata": {},
   "outputs": [],
   "source": [
    "def readEmailHead(file):\n",
    "    with open(file) as fd:\n",
    "        pp = email.parser.Parser()\n",
    "        header = pp.parse(fd, headersonly=True) #where the magic happens. works on all MIME email formats.\n",
    "    return header"
   ]
  },
  {
   "cell_type": "code",
   "execution_count": 25,
   "metadata": {},
   "outputs": [
    {
     "data": {
      "text/plain": [
       "'Users/Brett/Desktop/Enron_Emails/maildir'"
      ]
     },
     "execution_count": 25,
     "metadata": {},
     "output_type": "execute_result"
    }
   ],
   "source": [
    "cr"
   ]
  },
  {
   "cell_type": "code",
   "execution_count": 42,
   "metadata": {},
   "outputs": [
    {
     "name": "stdout",
     "output_type": "stream",
     "text": [
      "C:\\Users\\Brett\\Desktop\\Enron_Emails\\maildir\\arora-h\\all_documents\n"
     ]
    }
   ],
   "source": [
    "print(r\"C:\\Users\\Brett\\Desktop\\Enron_Emails\\maildir\\arora-h\\all_documents\")\n",
    "df_keys = readEmailHead(\"C:/\"+cr+\"/arora-h/all_documents/1\").keys()\n",
    "\n",
    "import pickle\n",
    "file = open('df_keys', 'wb')\n",
    "pickle.dump(df_keys, file, -1)\n",
    "file.close()"
   ]
  },
  {
   "cell_type": "markdown",
   "metadata": {},
   "source": [
    "<a id='edc_summary'>"
   ]
  },
  {
   "cell_type": "markdown",
   "metadata": {},
   "source": [
    "___\n",
    "## Early Data Cleaning Summary\n",
    "**Brief**<br>\n",
    "In this notebook, we started basically at square one, trying to read in files manually. I got a function working pretty well, but it eventually ran into some tedious issues involving whitespace. Thus, a journey to StackOverFlow pointed me to Python's Email.Parser, which is very useful library for packaging up MIME-formatted email files and doing analysis on them.<br>In part two, I read the emails into a Pandas DataFrame using a nested loop structure. This worked very well on simple instances, but fell into difficulty when tested \"in the wild\". If you're wondering why I bothered making a function, it's because I'm imagining I'm going to be going through the process of making many DataFrames with different parts of the corpus, and so I'd really like to abstract the minutae of list-wrangling away.<br><br>\n",
    "**Problems**<br>\n",
    "There are a few different types of problems I ran into. \n",
    "1. First, there are the miscellaneous problems.<br> \n",
    "    - For one, I need to add the texts of the files to the DataFrames. \n",
    "    - Furthermore, I also have yet to complete the much more difficult task of somehow tagging each entry with the folder it can be found in. \n",
    "        - This is *especially* important now, as one of the problems with my makeHeaderDF function had to do with a lack of internal structure in the corpus.<br>\n",
    "2. The second set of problems I ran into are specifically with my function itself. \n",
    "    - The first problem I encountered is [the lack of continuity in some directories](#s_p1). \n",
    "        - Most directories start with a file named '1' and continue sequentially until they reach some cap. However, when I was working with the 'allen-p/all_documents' directory, this was not the case. \n",
    "    - Moreover, another problem was [a mismatch in header structure](#s_p2). \n",
    "        - Again, while I believe that most email files have a similar header structure, some have extra header information (and presumably some are missing information). \n",
    "    - Finally, my last problem was [the lack of a consistent folder across user directories](#s_p3). \n",
    "        - Previously I had assumed that every user had a folder called 'all_documents' that contained the emails from every other directory for that user. This is incorrect, as shown by my last attempt.<br>\n",
    "3. There will be more problems, these are just a few. I'm going to have to make structural changes to how I approach this corpus. I'll explore these possibilities below.<br><br>\n",
    "**Future Directions**<br>\n",
    "I certainly have lots of problems with my current plans for organizing the corpus data, however I believe many can and must be solved by approaching the corpus differently. Instead of searching a single folder that I assume to exist in each directory, I should do a clean sweep of the folders in each directory. This has two benefits. First, it allows for tagging by folder--something with great potential for later Machine Learning exploration. Second, [it allows a more consistent treatment of my corpus data](#s_p3).<br>Despite this solution being useful in dispensing with a few problems, it still leaves the [mismatch in header structure](#s_p2) and [the lack of continuity in some directories](#s_p1). As of right now, I'm thinking these problems are going to need to be handled with exceptions within the function itself. We'll see as we go though.\n",
    "___\n",
    "<a id='smashing_bugs'>"
   ]
  },
  {
   "cell_type": "markdown",
   "metadata": {},
   "source": [
    "## Data Cleaning: Smashing Bugs\n",
    "___\n",
    "**Brief:**<br>\n",
    "In this section, we'll look to solve some of the problems outlined in [Early Data Cleaning Summary](#edc_summary).\n",
    "\n",
    "**Sections:**<br>\n",
    "1. [Data Cleaning: Reading In An Email](#reading_email)\n",
    "    - [Imports, Choosing A File, Reading In](#re_1)\n",
    "    - [Appending Blanks Together](#re_2)\n",
    "    - [readEmail Function](#re_3)\n",
    "    - [Test Cases](#re_4)\n",
    "    - [To The Rescue: Python's *Email.Parser*](#re_5)\n",
    "    \n",
    "2. [Data Cleaning: Making Our DataFrame](#making_panda)\n",
    "    - [Reading In An Email](#mp_1)\n",
    "    - [Reading In Many Emails](#mp_2)\n",
    "    - [Bugs In The Function](#mp_3)\n",
    "3. [Early Data Cleaning Summary](#edc_summary)\n",
    "4. [Data Cleaning: Smashing Bugs](#smashing_bugs)\n",
    "    - [Adding Email Texts](#sb_1)\n",
    "___\n",
    "<a id='sb_1'>"
   ]
  },
  {
   "cell_type": "markdown",
   "metadata": {},
   "source": [
    "***Adding Email Texts***\n",
    "Unfortunately, the problem with adding text in goes back to the initial algorithm. Got a little lost in it because it was a sourced from a StackOverFlow idea, and I was trying to fly through it. Time to take a step back.<br>\n",
    "Once again, StackOverFlow to the rescue. All thanks to user <u>falsetru</u>"
   ]
  },
  {
   "cell_type": "code",
   "execution_count": 50,
   "metadata": {},
   "outputs": [],
   "source": [
    "test = readEmailHead('C:/'+cr+'/allen-p/all_documents/3')"
   ]
  },
  {
   "cell_type": "code",
   "execution_count": 51,
   "metadata": {},
   "outputs": [],
   "source": [
    "def getText(mail):\n",
    "    if mail.is_multipart():\n",
    "        for payload in mail.get_payload():\n",
    "        # if payload.is_multipart(): ...\n",
    "            return payload.get_payload()\n",
    "    else:\n",
    "        return mail.get_payload()"
   ]
  },
  {
   "cell_type": "code",
   "execution_count": 52,
   "metadata": {},
   "outputs": [
    {
     "data": {
      "text/plain": [
       "'Dear phillip,\\n\\n\\nThis e-mail is automated notification of the availability of your\\ncurrent Natural Gas Intelligence Newsletter(s). Please use your\\nusername of \"pallen\" and your password to access\\n\\n\\n       NGI\\'s Daily Gas Price Index\\n\\n\\n  http://intelligencepress.com/subscribers/index.html\\n\\nIf you have forgotten your password please visit\\n  http://intelligencepress.com/password.html\\nand we will send it to you.\\n\\nIf you would like to stop receiving e-mail notifications when your\\npublications are available, please reply to this message with\\nREMOVE E-MAIL in the subject line.\\n\\nThank you for your subscription.\\n\\nFor information about Intelligence Press products and services,\\nvisit our web site at http://intelligencepress.com or\\ncall toll-free (800) 427-5747.\\n\\nALL RIGHTS RESERVED. (c) 2000, Intelligence Press, Inc.\\n---\\n\\n                   '"
      ]
     },
     "execution_count": 52,
     "metadata": {},
     "output_type": "execute_result"
    }
   ],
   "source": [
    "body = getText(test)\n",
    "body"
   ]
  },
  {
   "cell_type": "markdown",
   "metadata": {},
   "source": [
    "*Note*: We have a function, but it returns a raw text of the email that would most likely get butchered during tokenization. Let's test it out."
   ]
  },
  {
   "cell_type": "code",
   "execution_count": null,
   "metadata": {},
   "outputs": [],
   "source": [
    "test_word = nltk.word_tokenize(body)\n",
    "test_sent = nltk.sent_tokenize(body)\n",
    "test_word\n",
    "test_sent"
   ]
  },
  {
   "cell_type": "markdown",
   "metadata": {},
   "source": [
    "*Note*: Not a terrible job? But a pretty easy email. Also worth remembering that for quick emails where punctuation may be off, NLTK's sentence tokenizer will be off as well. Let's try removing the whitespace."
   ]
  },
  {
   "cell_type": "code",
   "execution_count": null,
   "metadata": {},
   "outputs": [],
   "source": [
    "path = corpus_root\n",
    "\n",
    "folder = os.fsencode(path)\n",
    "filenames = []\n",
    "\n",
    "for file in os.listdir(folder):\n",
    "    filename = os.fsdecode(file)\n",
    "    print(filename)\n",
    "    filenames.append(filename)\n",
    "        \n",
    "print(filenames.sort()) # now you have the filenames and can do something with them"
   ]
  },
  {
   "cell_type": "code",
   "execution_count": null,
   "metadata": {},
   "outputs": [],
   "source": []
  }
 ],
 "metadata": {
  "kernelspec": {
   "display_name": "Python 3",
   "language": "python",
   "name": "python3"
  },
  "language_info": {
   "codemirror_mode": {
    "name": "ipython",
    "version": 3
   },
   "file_extension": ".py",
   "mimetype": "text/x-python",
   "name": "python",
   "nbconvert_exporter": "python",
   "pygments_lexer": "ipython3",
   "version": "3.7.4"
  }
 },
 "nbformat": 4,
 "nbformat_minor": 2
}
