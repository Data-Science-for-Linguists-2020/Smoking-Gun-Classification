{
 "cells": [
  {
   "cell_type": "markdown",
   "metadata": {},
   "source": [
    "# Project Report II: Data Cleaning and Exploratory Data Analysis\n",
    "___\n",
    "**Brief:**<br>\n",
    "In this report, I'm going to finish the data cleaning and organization needed for my project, and then move on to exploratory data analysis. Lets pick up where we left off last time.\n",
    "\n",
    "**Sections:**<br>\n",
    "1. [Data Cleaning: Reading In An Email](#reading_email)\n",
    "    - [Imports, Choosing A File, Reading In](#re_1)\n",
    "    - [Appending Blanks Together](#re_2)\n",
    "    - [readEmail Function](#re_3)\n",
    "    - [Test Cases](#re_4)\n",
    "    - [To The Rescue: Python's *Email.Parser*](#re_5)\n",
    "2. [Data Cleaning: Making Our Dataframe](#making_panda)\n",
    "    - [] \n",
    "___"
   ]
  },
  {
   "cell_type": "markdown",
   "metadata": {},
   "source": [
    "## Reading In An Email\n",
    "In this section, we'll be picking up where we left off in the last report.\n",
    "- [Imports, Choosing A File, Reading In](#re_1)\n",
    "- [Appending Blanks Together](#re_2)\n",
    "- [readEmail Function](#re_3)\n",
    "- [Test Cases](#re_4)\n",
    "- [To The Rescue: Python's *Email.Parser*](#re_5)"
   ]
  },
  {
   "cell_type": "markdown",
   "metadata": {},
   "source": [
    "<a id='re_1'>"
   ]
  },
  {
   "cell_type": "markdown",
   "metadata": {},
   "source": [
    "***Imports, Choosing A File, Reading In***<br>\n",
    "This is all stuff from the previous report."
   ]
  },
  {
   "cell_type": "code",
   "execution_count": 1,
   "metadata": {},
   "outputs": [],
   "source": [
    "from IPython.core.interactiveshell import InteractiveShell\n",
    "InteractiveShell.ast_node_interactivity = \"all\"\n",
    "import nltk\n",
    "from nltk.corpus import PlaintextCorpusReader as cr\n",
    "import pandas as pd\n",
    "import numpy as np"
   ]
  },
  {
   "cell_type": "code",
   "execution_count": 2,
   "metadata": {},
   "outputs": [
    {
     "name": "stdout",
     "output_type": "stream",
     "text": [
      "628\n"
     ]
    }
   ],
   "source": [
    "corpus_root = '../../../../../Enron_Emails/maildir/'\n",
    "all_allen_p = 'allen-p/all_documents'\n",
    "all_files = cr(corpus_root + all_allen_p, \".*\")\n",
    "print(len(all_files.fileids()))"
   ]
  },
  {
   "cell_type": "code",
   "execution_count": 3,
   "metadata": {},
   "outputs": [],
   "source": [
    "text = \"\"\n",
    "file = open(corpus_root + all_allen_p + \"/1\")\n",
    "for line in file:\n",
    "    text += line\n",
    "file.close()\n",
    "email = text.split('\\n')"
   ]
  },
  {
   "cell_type": "code",
   "execution_count": 4,
   "metadata": {},
   "outputs": [
    {
     "data": {
      "text/plain": [
       "['Message-ID: <29790972.1075855665306.JavaMail.evans@thyme>',\n",
       " 'Date: Wed, 13 Dec 2000 18:41:00 -0800 (PST)',\n",
       " 'From: 1.11913372.-2@multexinvestornetwork.com',\n",
       " 'To: pallen@enron.com',\n",
       " \"Subject: December 14, 2000 - Bear Stearns' predictions for telecom in Latin\",\n",
       " ' America',\n",
       " 'Mime-Version: 1.0',\n",
       " 'Content-Type: text/plain; charset=us-ascii',\n",
       " 'Content-Transfer-Encoding: 7bit',\n",
       " 'X-From: Multex Investor <1.11913372.-2@multexinvestornetwork.com>',\n",
       " 'X-To: <pallen@enron.com>',\n",
       " 'X-cc: ',\n",
       " 'X-bcc: ',\n",
       " 'X-Folder: \\\\Phillip_Allen_Dec2000\\\\Notes Folders\\\\All documents',\n",
       " 'X-Origin: Allen-P',\n",
       " 'X-FileName: pallen.nsf',\n",
       " '',\n",
       " \"In today's Daily Update you'll find free reports on\",\n",
       " 'America Online (AOL), Divine Interventures (DVIN),',\n",
       " 'and 3M (MMM); reports on the broadband space, Latin']"
      ]
     },
     "execution_count": 4,
     "metadata": {},
     "output_type": "execute_result"
    }
   ],
   "source": [
    "email[:20]"
   ]
  },
  {
   "cell_type": "markdown",
   "metadata": {},
   "source": [
    "*Note:* We know that the first 15 or so lines at the beginning of every email are the same. It's biographical information that we can use as features in future machine learning algorithms. What's the problem? Well, when there is a long line, this disrupts the number of line pattern we could be using (look under *Subject*). Lets see if we can solve this in the next section."
   ]
  },
  {
   "cell_type": "markdown",
   "metadata": {},
   "source": [
    "<a id='re_2'>"
   ]
  },
  {
   "cell_type": "markdown",
   "metadata": {},
   "source": [
    "***Appending Blanks Together***<br>\n",
    "So, the problem we ran into last time. Lets see if a simple \"add and delete\" works."
   ]
  },
  {
   "cell_type": "code",
   "execution_count": 5,
   "metadata": {},
   "outputs": [
    {
     "name": "stdout",
     "output_type": "stream",
     "text": [
      "5\n"
     ]
    },
    {
     "data": {
      "text/plain": [
       "['Message-ID: <29790972.1075855665306.JavaMail.evans@thyme>',\n",
       " 'Date: Wed, 13 Dec 2000 18:41:00 -0800 (PST)',\n",
       " 'From: 1.11913372.-2@multexinvestornetwork.com',\n",
       " 'To: pallen@enron.com',\n",
       " \"Subject: December 14, 2000 - Bear Stearns' predictions for telecom in Latin America\",\n",
       " 'Mime-Version: 1.0',\n",
       " 'Content-Type: text/plain; charset=us-ascii',\n",
       " 'Content-Transfer-Encoding: 7bit',\n",
       " 'X-From: Multex Investor <1.11913372.-2@multexinvestornetwork.com>',\n",
       " 'X-To: <pallen@enron.com>',\n",
       " 'X-cc: ',\n",
       " 'X-bcc: ',\n",
       " 'X-Folder: \\\\Phillip_Allen_Dec2000\\\\Notes Folders\\\\All documents',\n",
       " 'X-Origin: Allen-P',\n",
       " 'X-FileName: pallen.nsf',\n",
       " '',\n",
       " \"In today's Daily Update you'll find free reports on\",\n",
       " 'America Online (AOL), Divine Interventures (DVIN),',\n",
       " 'and 3M (MMM); reports on the broadband space, Latin',\n",
       " 'American telecom, and more.']"
      ]
     },
     "execution_count": 5,
     "metadata": {},
     "output_type": "execute_result"
    }
   ],
   "source": [
    "count = 0\n",
    "for line in email:\n",
    "    if line == '':\n",
    "        pass\n",
    "    else:\n",
    "        if line[0].isspace():\n",
    "            email[count-1] += line\n",
    "            del email[count]\n",
    "            print(count)\n",
    "    count += 1\n",
    "email[:20]"
   ]
  },
  {
   "cell_type": "markdown",
   "metadata": {},
   "source": [
    "*Note*: Great! Now we need to examine the test cases. To do this, we're going to need a more code-efficient way of reading in emails. Lets make a function."
   ]
  },
  {
   "cell_type": "markdown",
   "metadata": {},
   "source": [
    "<a id='re_3'>"
   ]
  },
  {
   "cell_type": "markdown",
   "metadata": {},
   "source": [
    "***readEmail Function***"
   ]
  },
  {
   "cell_type": "code",
   "execution_count": 6,
   "metadata": {},
   "outputs": [],
   "source": [
    "def readEmailHead(username, emailNum):\n",
    "    text = \"\"\n",
    "    file = open(corpus_root + username + '/all_documents/' + emailNum)\n",
    "    for line in file:\n",
    "        text += line\n",
    "    file.close()\n",
    "    email = text.split('\\n')\n",
    "    \n",
    "    count = 0\n",
    "    for line in email:\n",
    "        if line == '':\n",
    "            pass\n",
    "        else:\n",
    "            if line[0].isspace():\n",
    "                email[count-1] += line\n",
    "                del email[count]\n",
    "                print(count)\n",
    "        count += 1\n",
    "    return [email[:20]]"
   ]
  },
  {
   "cell_type": "code",
   "execution_count": 7,
   "metadata": {},
   "outputs": [
    {
     "name": "stdout",
     "output_type": "stream",
     "text": [
      "24\n",
      "26\n",
      "28\n",
      "43\n"
     ]
    },
    {
     "data": {
      "text/plain": [
       "[['Message-ID: <17175692.1075855665350.JavaMail.evans@thyme>',\n",
       "  'Date: Wed, 13 Dec 2000 13:28:00 -0800 (PST)',\n",
       "  'From: subscriptions@intelligencepress.com',\n",
       "  'To: pallen@enron.com',\n",
       "  'Subject: NGI Publications - Thursday, 14 December 2000',\n",
       "  'Mime-Version: 1.0',\n",
       "  'Content-Type: text/plain; charset=us-ascii',\n",
       "  'Content-Transfer-Encoding: 7bit',\n",
       "  'X-From: subscriptions@intelligencepress.com',\n",
       "  'X-To: pallen@enron.com',\n",
       "  'X-cc: ',\n",
       "  'X-bcc: ',\n",
       "  'X-Folder: \\\\Phillip_Allen_Dec2000\\\\Notes Folders\\\\All documents',\n",
       "  'X-Origin: Allen-P',\n",
       "  'X-FileName: pallen.nsf',\n",
       "  '',\n",
       "  'Dear phillip,',\n",
       "  '',\n",
       "  '',\n",
       "  'This e-mail is automated notification of the availability of your']]"
      ]
     },
     "execution_count": 7,
     "metadata": {},
     "output_type": "execute_result"
    }
   ],
   "source": [
    "readEmailHead(r'allen-p', r'3')"
   ]
  },
  {
   "cell_type": "markdown",
   "metadata": {},
   "source": [
    "*Note:* This function works great! Now we need to try test cases and see how we do."
   ]
  },
  {
   "cell_type": "markdown",
   "metadata": {},
   "source": [
    "<a id='re_4'>"
   ]
  },
  {
   "cell_type": "markdown",
   "metadata": {},
   "source": [
    "***Test Cases***"
   ]
  },
  {
   "cell_type": "code",
   "execution_count": 8,
   "metadata": {
    "scrolled": true
   },
   "outputs": [
    {
     "name": "stdout",
     "output_type": "stream",
     "text": [
      "4\n",
      "5\n",
      "34\n"
     ]
    },
    {
     "data": {
      "text/plain": [
       "[['Message-ID: <29403111.1075855665483.JavaMail.evans@thyme>',\n",
       "  'Date: Wed, 13 Dec 2000 08:22:00 -0800 (PST)',\n",
       "  'From: rebecca.cantrell@enron.com',\n",
       "  'To: stephanie.miller@enron.com, ruth.concannon@enron.com, jane.tholt@enron.com, \\ttori.kuykendall@enron.com, randall.gay@enron.com, ',\n",
       "  '\\tphillip.allen@enron.com, timothy.hamilton@enron.com, \\trobert.superty@enron.com, colleen.sullivan@enron.com, ',\n",
       "  '\\tdonna.greif@enron.com, julie.gomez@enron.com',\n",
       "  'Subject: Final Filed Version -- SDG&E Comments',\n",
       "  'Mime-Version: 1.0',\n",
       "  'Content-Type: text/plain; charset=us-ascii',\n",
       "  'Content-Transfer-Encoding: 7bit',\n",
       "  'X-From: Rebecca W Cantrell',\n",
       "  'X-To: Stephanie Miller, Ruth Concannon, Jane M Tholt, Tori Kuykendall, Randall L Gay, Phillip K Allen, Timothy J Hamilton, Robert Superty, Colleen Sullivan, Donna Greif, Julie A Gomez',\n",
       "  'X-cc: ',\n",
       "  'X-bcc: ',\n",
       "  'X-Folder: \\\\Phillip_Allen_Dec2000\\\\Notes Folders\\\\All documents',\n",
       "  'X-Origin: Allen-P',\n",
       "  'X-FileName: pallen.nsf',\n",
       "  '',\n",
       "  'FYI.',\n",
       "  '---------------------- Forwarded by Rebecca W Cantrell/HOU/ECT on 12/13/2000 ']]"
      ]
     },
     "execution_count": 8,
     "metadata": {},
     "output_type": "execute_result"
    }
   ],
   "source": [
    "readEmailHead(r'allen-p', r'9')"
   ]
  },
  {
   "cell_type": "markdown",
   "metadata": {},
   "source": [
    "*Note:* So here's a test case I entirely expected. While our function handled spillover to *one* extra line well, it classified this email's *to* line as three separate lines. Time to re-engineer our function."
   ]
  },
  {
   "cell_type": "code",
   "execution_count": 9,
   "metadata": {},
   "outputs": [],
   "source": [
    "def readEmailHead(username, emailNum):\n",
    "    text = \"\"\n",
    "    file = open(corpus_root + username + '/all_documents/' + emailNum)\n",
    "    for line in file:\n",
    "        text += line\n",
    "    file.close()\n",
    "    email = text.split('\\n')\n",
    "    \n",
    "    count = 0\n",
    "    for line in email:\n",
    "        if line == '':\n",
    "            pass\n",
    "        else:\n",
    "            if line[0].isspace():\n",
    "                email[count-1] += line\n",
    "                del email[count]\n",
    "                print(count,\"0\")\n",
    "        count += 1\n",
    "    return [email[:20]]"
   ]
  },
  {
   "cell_type": "code",
   "execution_count": 10,
   "metadata": {},
   "outputs": [
    {
     "name": "stdout",
     "output_type": "stream",
     "text": [
      "4 0\n",
      "5 0\n",
      "34 0\n"
     ]
    },
    {
     "data": {
      "text/plain": [
       "[['Message-ID: <29403111.1075855665483.JavaMail.evans@thyme>',\n",
       "  'Date: Wed, 13 Dec 2000 08:22:00 -0800 (PST)',\n",
       "  'From: rebecca.cantrell@enron.com',\n",
       "  'To: stephanie.miller@enron.com, ruth.concannon@enron.com, jane.tholt@enron.com, \\ttori.kuykendall@enron.com, randall.gay@enron.com, ',\n",
       "  '\\tphillip.allen@enron.com, timothy.hamilton@enron.com, \\trobert.superty@enron.com, colleen.sullivan@enron.com, ',\n",
       "  '\\tdonna.greif@enron.com, julie.gomez@enron.com',\n",
       "  'Subject: Final Filed Version -- SDG&E Comments',\n",
       "  'Mime-Version: 1.0',\n",
       "  'Content-Type: text/plain; charset=us-ascii',\n",
       "  'Content-Transfer-Encoding: 7bit',\n",
       "  'X-From: Rebecca W Cantrell',\n",
       "  'X-To: Stephanie Miller, Ruth Concannon, Jane M Tholt, Tori Kuykendall, Randall L Gay, Phillip K Allen, Timothy J Hamilton, Robert Superty, Colleen Sullivan, Donna Greif, Julie A Gomez',\n",
       "  'X-cc: ',\n",
       "  'X-bcc: ',\n",
       "  'X-Folder: \\\\Phillip_Allen_Dec2000\\\\Notes Folders\\\\All documents',\n",
       "  'X-Origin: Allen-P',\n",
       "  'X-FileName: pallen.nsf',\n",
       "  '',\n",
       "  'FYI.',\n",
       "  '---------------------- Forwarded by Rebecca W Cantrell/HOU/ECT on 12/13/2000 ']]"
      ]
     },
     "execution_count": 10,
     "metadata": {},
     "output_type": "execute_result"
    }
   ],
   "source": [
    "readEmailHead(r'allen-p', r'9')"
   ]
  },
  {
   "cell_type": "markdown",
   "metadata": {},
   "source": [
    "if line[0].isspace():<br>\n",
    "~Can you spot the problem? It had to do with what I'm checking for the whitespace in. Sometimes, whitespace is generated by *two* character expressions--in this case, /t. We need to find a way to include '\\t' in this condition.~\n",
    "<br>*Note*: [That is incorrect.]"
   ]
  },
  {
   "cell_type": "code",
   "execution_count": 11,
   "metadata": {},
   "outputs": [],
   "source": [
    "foo = '\\tphillip.allen@enron.com'"
   ]
  },
  {
   "cell_type": "code",
   "execution_count": 12,
   "metadata": {},
   "outputs": [
    {
     "data": {
      "text/plain": [
       "'\\t'"
      ]
     },
     "execution_count": 12,
     "metadata": {},
     "output_type": "execute_result"
    },
    {
     "data": {
      "text/plain": [
       "True"
      ]
     },
     "execution_count": 12,
     "metadata": {},
     "output_type": "execute_result"
    }
   ],
   "source": [
    "foo[0]\n",
    "foo[0].isspace()"
   ]
  },
  {
   "cell_type": "markdown",
   "metadata": {},
   "source": [
    "*Note:* Okay, so my previous hypothesis is wrong. It recognizes tabs, just not *more than one line*. "
   ]
  },
  {
   "cell_type": "markdown",
   "metadata": {},
   "source": [
    "<a id='re_5'>"
   ]
  },
  {
   "cell_type": "markdown",
   "metadata": {},
   "source": [
    "***To The Rescue: Python's Email.Parser***"
   ]
  },
  {
   "cell_type": "markdown",
   "metadata": {},
   "source": [
    "*Solution*: Courtesy of StackedOverFlow user <u>FredrikHedman</u>, the email.parser package is a **significantly** more eloquent tool.\n",
    "<br><br>\n",
    "There's a lesson in here somewhere about not reinventing the wheel, also courtesy of <u>FredrikHedman</u> and my high school calculus teacher."
   ]
  },
  {
   "cell_type": "code",
   "execution_count": 32,
   "metadata": {},
   "outputs": [
    {
     "name": "stdout",
     "output_type": "stream",
     "text": [
      "['Message-ID', 'Date', 'From', 'To', 'Subject', 'Mime-Version', 'Content-Type', 'Content-Transfer-Encoding', 'X-From', 'X-To', 'X-cc', 'X-bcc', 'X-Folder', 'X-Origin', 'X-FileName']\n",
      "Wed, 13 Dec 2000 08:22:00 -0800 (PST)\n",
      "rebecca.cantrell@enron.com\n",
      "['stephanie.miller@enron.com,', 'ruth.concannon@enron.com,', 'jane.tholt@enron.com,', 'tori.kuykendall@enron.com,', 'randall.gay@enron.com,', 'phillip.allen@enron.com,', 'timothy.hamilton@enron.com,', 'robert.superty@enron.com,', 'colleen.sullivan@enron.com,', 'donna.greif@enron.com,', 'julie.gomez@enron.com']\n",
      "Final Filed Version -- SDG&E Comments\n"
     ]
    }
   ],
   "source": [
    "import email.parser\n",
    "\n",
    "\n",
    "def readEmailHead(username, emailNum, corpus_root='maildir'):\n",
    "    fname = f\"/{corpus_root}/{username}/all_documents/{emailNum}\"\n",
    "    with open(fname) as fd:\n",
    "        pp = email.parser.Parser()\n",
    "        header = pp.parse(fd, headersonly=True) #where the magic happens. works on all MIME email formats.\n",
    "    return header\n",
    "\n",
    "\n",
    "cr = 'Users/Brett/Desktop/Enron_Emails/maildir'\n",
    "mm = readEmailHead('allen-p', '9', corpus_root=cr)\n",
    "\n",
    "print(mm.keys())\n",
    "print(mm['Date'])\n",
    "print(mm['From'])\n",
    "print(mm['To'].split())\n",
    "print(mm['Subject'])"
   ]
  },
  {
   "cell_type": "markdown",
   "metadata": {},
   "source": [
    "<a id='making_panda'>"
   ]
  },
  {
   "cell_type": "markdown",
   "metadata": {},
   "source": [
    "## Reading In An Email\n",
    "In this section, we'll be using the results from our email parse to populate our Panda and prepare our data for machine learning techniques."
   ]
  },
  {
   "cell_type": "code",
   "execution_count": 75,
   "metadata": {},
   "outputs": [
    {
     "data": {
      "text/plain": [
       "('Message-ID', '<29403111.1075855665483.JavaMail.evans@thyme>')"
      ]
     },
     "execution_count": 75,
     "metadata": {},
     "output_type": "execute_result"
    },
    {
     "data": {
      "text/plain": [
       "('Date', 'Wed, 13 Dec 2000 08:22:00 -0800 (PST)')"
      ]
     },
     "execution_count": 75,
     "metadata": {},
     "output_type": "execute_result"
    },
    {
     "data": {
      "text/plain": [
       "('From', 'rebecca.cantrell@enron.com')"
      ]
     },
     "execution_count": 75,
     "metadata": {},
     "output_type": "execute_result"
    },
    {
     "data": {
      "text/plain": [
       "('To',\n",
       " 'stephanie.miller@enron.com, ruth.concannon@enron.com, jane.tholt@enron.com, \\n\\ttori.kuykendall@enron.com, randall.gay@enron.com, \\n\\tphillip.allen@enron.com, timothy.hamilton@enron.com, \\n\\trobert.superty@enron.com, colleen.sullivan@enron.com, \\n\\tdonna.greif@enron.com, julie.gomez@enron.com')"
      ]
     },
     "execution_count": 75,
     "metadata": {},
     "output_type": "execute_result"
    },
    {
     "data": {
      "text/plain": [
       "('Subject', 'Final Filed Version -- SDG&E Comments')"
      ]
     },
     "execution_count": 75,
     "metadata": {},
     "output_type": "execute_result"
    },
    {
     "data": {
      "text/plain": [
       "('Mime-Version', '1.0')"
      ]
     },
     "execution_count": 75,
     "metadata": {},
     "output_type": "execute_result"
    },
    {
     "data": {
      "text/plain": [
       "('Content-Type', 'text/plain; charset=us-ascii')"
      ]
     },
     "execution_count": 75,
     "metadata": {},
     "output_type": "execute_result"
    },
    {
     "data": {
      "text/plain": [
       "('Content-Transfer-Encoding', '7bit')"
      ]
     },
     "execution_count": 75,
     "metadata": {},
     "output_type": "execute_result"
    },
    {
     "data": {
      "text/plain": [
       "('X-From', 'Rebecca W Cantrell')"
      ]
     },
     "execution_count": 75,
     "metadata": {},
     "output_type": "execute_result"
    },
    {
     "data": {
      "text/plain": [
       "('X-To',\n",
       " 'Stephanie Miller, Ruth Concannon, Jane M Tholt, Tori Kuykendall, Randall L Gay, Phillip K Allen, Timothy J Hamilton, Robert Superty, Colleen Sullivan, Donna Greif, Julie A Gomez')"
      ]
     },
     "execution_count": 75,
     "metadata": {},
     "output_type": "execute_result"
    },
    {
     "data": {
      "text/plain": [
       "('X-cc', '')"
      ]
     },
     "execution_count": 75,
     "metadata": {},
     "output_type": "execute_result"
    },
    {
     "data": {
      "text/plain": [
       "('X-bcc', '')"
      ]
     },
     "execution_count": 75,
     "metadata": {},
     "output_type": "execute_result"
    },
    {
     "data": {
      "text/plain": [
       "('X-Folder', '\\\\Phillip_Allen_Dec2000\\\\Notes Folders\\\\All documents')"
      ]
     },
     "execution_count": 75,
     "metadata": {},
     "output_type": "execute_result"
    },
    {
     "data": {
      "text/plain": [
       "('X-Origin', 'Allen-P')"
      ]
     },
     "execution_count": 75,
     "metadata": {},
     "output_type": "execute_result"
    },
    {
     "data": {
      "text/plain": [
       "('X-FileName', 'pallen.nsf')"
      ]
     },
     "execution_count": 75,
     "metadata": {},
     "output_type": "execute_result"
    },
    {
     "data": {
      "text/html": [
       "<div>\n",
       "<style scoped>\n",
       "    .dataframe tbody tr th:only-of-type {\n",
       "        vertical-align: middle;\n",
       "    }\n",
       "\n",
       "    .dataframe tbody tr th {\n",
       "        vertical-align: top;\n",
       "    }\n",
       "\n",
       "    .dataframe thead th {\n",
       "        text-align: right;\n",
       "    }\n",
       "</style>\n",
       "<table border=\"1\" class=\"dataframe\">\n",
       "  <thead>\n",
       "    <tr style=\"text-align: right;\">\n",
       "      <th></th>\n",
       "      <th>0</th>\n",
       "      <th>1</th>\n",
       "      <th>Message-ID</th>\n",
       "      <th>Date</th>\n",
       "      <th>From</th>\n",
       "      <th>To</th>\n",
       "      <th>Subject</th>\n",
       "      <th>Mime-Version</th>\n",
       "      <th>Content-Type</th>\n",
       "      <th>Content-Transfer-Encoding</th>\n",
       "      <th>X-From</th>\n",
       "      <th>X-To</th>\n",
       "      <th>X-cc</th>\n",
       "      <th>X-bcc</th>\n",
       "      <th>X-Folder</th>\n",
       "      <th>X-Origin</th>\n",
       "      <th>X-FileName</th>\n",
       "    </tr>\n",
       "  </thead>\n",
       "  <tbody>\n",
       "    <tr>\n",
       "      <td>0</td>\n",
       "      <td>Message-ID</td>\n",
       "      <td>&lt;29790972.1075855665306.JavaMail.evans@thyme&gt;</td>\n",
       "      <td>&lt;29403111.1075855665483.JavaMail.evans@thyme&gt;</td>\n",
       "      <td>Wed, 13 Dec 2000 08:22:00 -0800 (PST)</td>\n",
       "      <td>rebecca.cantrell@enron.com</td>\n",
       "      <td>stephanie.miller@enron.com, ruth.concannon@enr...</td>\n",
       "      <td>Final Filed Version -- SDG&amp;E Comments</td>\n",
       "      <td>1.0</td>\n",
       "      <td>text/plain; charset=us-ascii</td>\n",
       "      <td>7bit</td>\n",
       "      <td>Rebecca W Cantrell</td>\n",
       "      <td>Stephanie Miller, Ruth Concannon, Jane M Tholt...</td>\n",
       "      <td></td>\n",
       "      <td></td>\n",
       "      <td>\\Phillip_Allen_Dec2000\\Notes Folders\\All docum...</td>\n",
       "      <td>Allen-P</td>\n",
       "      <td>pallen.nsf</td>\n",
       "    </tr>\n",
       "    <tr>\n",
       "      <td>1</td>\n",
       "      <td>Date</td>\n",
       "      <td>Wed, 13 Dec 2000 18:41:00 -0800 (PST)</td>\n",
       "      <td>&lt;29403111.1075855665483.JavaMail.evans@thyme&gt;</td>\n",
       "      <td>Wed, 13 Dec 2000 08:22:00 -0800 (PST)</td>\n",
       "      <td>rebecca.cantrell@enron.com</td>\n",
       "      <td>stephanie.miller@enron.com, ruth.concannon@enr...</td>\n",
       "      <td>Final Filed Version -- SDG&amp;E Comments</td>\n",
       "      <td>1.0</td>\n",
       "      <td>text/plain; charset=us-ascii</td>\n",
       "      <td>7bit</td>\n",
       "      <td>Rebecca W Cantrell</td>\n",
       "      <td>Stephanie Miller, Ruth Concannon, Jane M Tholt...</td>\n",
       "      <td></td>\n",
       "      <td></td>\n",
       "      <td>\\Phillip_Allen_Dec2000\\Notes Folders\\All docum...</td>\n",
       "      <td>Allen-P</td>\n",
       "      <td>pallen.nsf</td>\n",
       "    </tr>\n",
       "    <tr>\n",
       "      <td>2</td>\n",
       "      <td>From</td>\n",
       "      <td>1.11913372.-2@multexinvestornetwork.com</td>\n",
       "      <td>&lt;29403111.1075855665483.JavaMail.evans@thyme&gt;</td>\n",
       "      <td>Wed, 13 Dec 2000 08:22:00 -0800 (PST)</td>\n",
       "      <td>rebecca.cantrell@enron.com</td>\n",
       "      <td>stephanie.miller@enron.com, ruth.concannon@enr...</td>\n",
       "      <td>Final Filed Version -- SDG&amp;E Comments</td>\n",
       "      <td>1.0</td>\n",
       "      <td>text/plain; charset=us-ascii</td>\n",
       "      <td>7bit</td>\n",
       "      <td>Rebecca W Cantrell</td>\n",
       "      <td>Stephanie Miller, Ruth Concannon, Jane M Tholt...</td>\n",
       "      <td></td>\n",
       "      <td></td>\n",
       "      <td>\\Phillip_Allen_Dec2000\\Notes Folders\\All docum...</td>\n",
       "      <td>Allen-P</td>\n",
       "      <td>pallen.nsf</td>\n",
       "    </tr>\n",
       "    <tr>\n",
       "      <td>3</td>\n",
       "      <td>To</td>\n",
       "      <td>pallen@enron.com</td>\n",
       "      <td>&lt;29403111.1075855665483.JavaMail.evans@thyme&gt;</td>\n",
       "      <td>Wed, 13 Dec 2000 08:22:00 -0800 (PST)</td>\n",
       "      <td>rebecca.cantrell@enron.com</td>\n",
       "      <td>stephanie.miller@enron.com, ruth.concannon@enr...</td>\n",
       "      <td>Final Filed Version -- SDG&amp;E Comments</td>\n",
       "      <td>1.0</td>\n",
       "      <td>text/plain; charset=us-ascii</td>\n",
       "      <td>7bit</td>\n",
       "      <td>Rebecca W Cantrell</td>\n",
       "      <td>Stephanie Miller, Ruth Concannon, Jane M Tholt...</td>\n",
       "      <td></td>\n",
       "      <td></td>\n",
       "      <td>\\Phillip_Allen_Dec2000\\Notes Folders\\All docum...</td>\n",
       "      <td>Allen-P</td>\n",
       "      <td>pallen.nsf</td>\n",
       "    </tr>\n",
       "    <tr>\n",
       "      <td>4</td>\n",
       "      <td>Subject</td>\n",
       "      <td>December 14, 2000 - Bear Stearns' predictions ...</td>\n",
       "      <td>&lt;29403111.1075855665483.JavaMail.evans@thyme&gt;</td>\n",
       "      <td>Wed, 13 Dec 2000 08:22:00 -0800 (PST)</td>\n",
       "      <td>rebecca.cantrell@enron.com</td>\n",
       "      <td>stephanie.miller@enron.com, ruth.concannon@enr...</td>\n",
       "      <td>Final Filed Version -- SDG&amp;E Comments</td>\n",
       "      <td>1.0</td>\n",
       "      <td>text/plain; charset=us-ascii</td>\n",
       "      <td>7bit</td>\n",
       "      <td>Rebecca W Cantrell</td>\n",
       "      <td>Stephanie Miller, Ruth Concannon, Jane M Tholt...</td>\n",
       "      <td></td>\n",
       "      <td></td>\n",
       "      <td>\\Phillip_Allen_Dec2000\\Notes Folders\\All docum...</td>\n",
       "      <td>Allen-P</td>\n",
       "      <td>pallen.nsf</td>\n",
       "    </tr>\n",
       "    <tr>\n",
       "      <td>5</td>\n",
       "      <td>Mime-Version</td>\n",
       "      <td>1.0</td>\n",
       "      <td>&lt;29403111.1075855665483.JavaMail.evans@thyme&gt;</td>\n",
       "      <td>Wed, 13 Dec 2000 08:22:00 -0800 (PST)</td>\n",
       "      <td>rebecca.cantrell@enron.com</td>\n",
       "      <td>stephanie.miller@enron.com, ruth.concannon@enr...</td>\n",
       "      <td>Final Filed Version -- SDG&amp;E Comments</td>\n",
       "      <td>1.0</td>\n",
       "      <td>text/plain; charset=us-ascii</td>\n",
       "      <td>7bit</td>\n",
       "      <td>Rebecca W Cantrell</td>\n",
       "      <td>Stephanie Miller, Ruth Concannon, Jane M Tholt...</td>\n",
       "      <td></td>\n",
       "      <td></td>\n",
       "      <td>\\Phillip_Allen_Dec2000\\Notes Folders\\All docum...</td>\n",
       "      <td>Allen-P</td>\n",
       "      <td>pallen.nsf</td>\n",
       "    </tr>\n",
       "    <tr>\n",
       "      <td>6</td>\n",
       "      <td>Content-Type</td>\n",
       "      <td>text/plain; charset=us-ascii</td>\n",
       "      <td>&lt;29403111.1075855665483.JavaMail.evans@thyme&gt;</td>\n",
       "      <td>Wed, 13 Dec 2000 08:22:00 -0800 (PST)</td>\n",
       "      <td>rebecca.cantrell@enron.com</td>\n",
       "      <td>stephanie.miller@enron.com, ruth.concannon@enr...</td>\n",
       "      <td>Final Filed Version -- SDG&amp;E Comments</td>\n",
       "      <td>1.0</td>\n",
       "      <td>text/plain; charset=us-ascii</td>\n",
       "      <td>7bit</td>\n",
       "      <td>Rebecca W Cantrell</td>\n",
       "      <td>Stephanie Miller, Ruth Concannon, Jane M Tholt...</td>\n",
       "      <td></td>\n",
       "      <td></td>\n",
       "      <td>\\Phillip_Allen_Dec2000\\Notes Folders\\All docum...</td>\n",
       "      <td>Allen-P</td>\n",
       "      <td>pallen.nsf</td>\n",
       "    </tr>\n",
       "    <tr>\n",
       "      <td>7</td>\n",
       "      <td>Content-Transfer-Encoding</td>\n",
       "      <td>7bit</td>\n",
       "      <td>&lt;29403111.1075855665483.JavaMail.evans@thyme&gt;</td>\n",
       "      <td>Wed, 13 Dec 2000 08:22:00 -0800 (PST)</td>\n",
       "      <td>rebecca.cantrell@enron.com</td>\n",
       "      <td>stephanie.miller@enron.com, ruth.concannon@enr...</td>\n",
       "      <td>Final Filed Version -- SDG&amp;E Comments</td>\n",
       "      <td>1.0</td>\n",
       "      <td>text/plain; charset=us-ascii</td>\n",
       "      <td>7bit</td>\n",
       "      <td>Rebecca W Cantrell</td>\n",
       "      <td>Stephanie Miller, Ruth Concannon, Jane M Tholt...</td>\n",
       "      <td></td>\n",
       "      <td></td>\n",
       "      <td>\\Phillip_Allen_Dec2000\\Notes Folders\\All docum...</td>\n",
       "      <td>Allen-P</td>\n",
       "      <td>pallen.nsf</td>\n",
       "    </tr>\n",
       "    <tr>\n",
       "      <td>8</td>\n",
       "      <td>X-From</td>\n",
       "      <td>Multex Investor &lt;1.11913372.-2@multexinvestorn...</td>\n",
       "      <td>&lt;29403111.1075855665483.JavaMail.evans@thyme&gt;</td>\n",
       "      <td>Wed, 13 Dec 2000 08:22:00 -0800 (PST)</td>\n",
       "      <td>rebecca.cantrell@enron.com</td>\n",
       "      <td>stephanie.miller@enron.com, ruth.concannon@enr...</td>\n",
       "      <td>Final Filed Version -- SDG&amp;E Comments</td>\n",
       "      <td>1.0</td>\n",
       "      <td>text/plain; charset=us-ascii</td>\n",
       "      <td>7bit</td>\n",
       "      <td>Rebecca W Cantrell</td>\n",
       "      <td>Stephanie Miller, Ruth Concannon, Jane M Tholt...</td>\n",
       "      <td></td>\n",
       "      <td></td>\n",
       "      <td>\\Phillip_Allen_Dec2000\\Notes Folders\\All docum...</td>\n",
       "      <td>Allen-P</td>\n",
       "      <td>pallen.nsf</td>\n",
       "    </tr>\n",
       "    <tr>\n",
       "      <td>9</td>\n",
       "      <td>X-To</td>\n",
       "      <td>&lt;pallen@enron.com&gt;</td>\n",
       "      <td>&lt;29403111.1075855665483.JavaMail.evans@thyme&gt;</td>\n",
       "      <td>Wed, 13 Dec 2000 08:22:00 -0800 (PST)</td>\n",
       "      <td>rebecca.cantrell@enron.com</td>\n",
       "      <td>stephanie.miller@enron.com, ruth.concannon@enr...</td>\n",
       "      <td>Final Filed Version -- SDG&amp;E Comments</td>\n",
       "      <td>1.0</td>\n",
       "      <td>text/plain; charset=us-ascii</td>\n",
       "      <td>7bit</td>\n",
       "      <td>Rebecca W Cantrell</td>\n",
       "      <td>Stephanie Miller, Ruth Concannon, Jane M Tholt...</td>\n",
       "      <td></td>\n",
       "      <td></td>\n",
       "      <td>\\Phillip_Allen_Dec2000\\Notes Folders\\All docum...</td>\n",
       "      <td>Allen-P</td>\n",
       "      <td>pallen.nsf</td>\n",
       "    </tr>\n",
       "    <tr>\n",
       "      <td>10</td>\n",
       "      <td>X-cc</td>\n",
       "      <td></td>\n",
       "      <td>&lt;29403111.1075855665483.JavaMail.evans@thyme&gt;</td>\n",
       "      <td>Wed, 13 Dec 2000 08:22:00 -0800 (PST)</td>\n",
       "      <td>rebecca.cantrell@enron.com</td>\n",
       "      <td>stephanie.miller@enron.com, ruth.concannon@enr...</td>\n",
       "      <td>Final Filed Version -- SDG&amp;E Comments</td>\n",
       "      <td>1.0</td>\n",
       "      <td>text/plain; charset=us-ascii</td>\n",
       "      <td>7bit</td>\n",
       "      <td>Rebecca W Cantrell</td>\n",
       "      <td>Stephanie Miller, Ruth Concannon, Jane M Tholt...</td>\n",
       "      <td></td>\n",
       "      <td></td>\n",
       "      <td>\\Phillip_Allen_Dec2000\\Notes Folders\\All docum...</td>\n",
       "      <td>Allen-P</td>\n",
       "      <td>pallen.nsf</td>\n",
       "    </tr>\n",
       "    <tr>\n",
       "      <td>11</td>\n",
       "      <td>X-bcc</td>\n",
       "      <td></td>\n",
       "      <td>&lt;29403111.1075855665483.JavaMail.evans@thyme&gt;</td>\n",
       "      <td>Wed, 13 Dec 2000 08:22:00 -0800 (PST)</td>\n",
       "      <td>rebecca.cantrell@enron.com</td>\n",
       "      <td>stephanie.miller@enron.com, ruth.concannon@enr...</td>\n",
       "      <td>Final Filed Version -- SDG&amp;E Comments</td>\n",
       "      <td>1.0</td>\n",
       "      <td>text/plain; charset=us-ascii</td>\n",
       "      <td>7bit</td>\n",
       "      <td>Rebecca W Cantrell</td>\n",
       "      <td>Stephanie Miller, Ruth Concannon, Jane M Tholt...</td>\n",
       "      <td></td>\n",
       "      <td></td>\n",
       "      <td>\\Phillip_Allen_Dec2000\\Notes Folders\\All docum...</td>\n",
       "      <td>Allen-P</td>\n",
       "      <td>pallen.nsf</td>\n",
       "    </tr>\n",
       "    <tr>\n",
       "      <td>12</td>\n",
       "      <td>X-Folder</td>\n",
       "      <td>\\Phillip_Allen_Dec2000\\Notes Folders\\All docum...</td>\n",
       "      <td>&lt;29403111.1075855665483.JavaMail.evans@thyme&gt;</td>\n",
       "      <td>Wed, 13 Dec 2000 08:22:00 -0800 (PST)</td>\n",
       "      <td>rebecca.cantrell@enron.com</td>\n",
       "      <td>stephanie.miller@enron.com, ruth.concannon@enr...</td>\n",
       "      <td>Final Filed Version -- SDG&amp;E Comments</td>\n",
       "      <td>1.0</td>\n",
       "      <td>text/plain; charset=us-ascii</td>\n",
       "      <td>7bit</td>\n",
       "      <td>Rebecca W Cantrell</td>\n",
       "      <td>Stephanie Miller, Ruth Concannon, Jane M Tholt...</td>\n",
       "      <td></td>\n",
       "      <td></td>\n",
       "      <td>\\Phillip_Allen_Dec2000\\Notes Folders\\All docum...</td>\n",
       "      <td>Allen-P</td>\n",
       "      <td>pallen.nsf</td>\n",
       "    </tr>\n",
       "    <tr>\n",
       "      <td>13</td>\n",
       "      <td>X-Origin</td>\n",
       "      <td>Allen-P</td>\n",
       "      <td>&lt;29403111.1075855665483.JavaMail.evans@thyme&gt;</td>\n",
       "      <td>Wed, 13 Dec 2000 08:22:00 -0800 (PST)</td>\n",
       "      <td>rebecca.cantrell@enron.com</td>\n",
       "      <td>stephanie.miller@enron.com, ruth.concannon@enr...</td>\n",
       "      <td>Final Filed Version -- SDG&amp;E Comments</td>\n",
       "      <td>1.0</td>\n",
       "      <td>text/plain; charset=us-ascii</td>\n",
       "      <td>7bit</td>\n",
       "      <td>Rebecca W Cantrell</td>\n",
       "      <td>Stephanie Miller, Ruth Concannon, Jane M Tholt...</td>\n",
       "      <td></td>\n",
       "      <td></td>\n",
       "      <td>\\Phillip_Allen_Dec2000\\Notes Folders\\All docum...</td>\n",
       "      <td>Allen-P</td>\n",
       "      <td>pallen.nsf</td>\n",
       "    </tr>\n",
       "    <tr>\n",
       "      <td>14</td>\n",
       "      <td>X-FileName</td>\n",
       "      <td>pallen.nsf</td>\n",
       "      <td>&lt;29403111.1075855665483.JavaMail.evans@thyme&gt;</td>\n",
       "      <td>Wed, 13 Dec 2000 08:22:00 -0800 (PST)</td>\n",
       "      <td>rebecca.cantrell@enron.com</td>\n",
       "      <td>stephanie.miller@enron.com, ruth.concannon@enr...</td>\n",
       "      <td>Final Filed Version -- SDG&amp;E Comments</td>\n",
       "      <td>1.0</td>\n",
       "      <td>text/plain; charset=us-ascii</td>\n",
       "      <td>7bit</td>\n",
       "      <td>Rebecca W Cantrell</td>\n",
       "      <td>Stephanie Miller, Ruth Concannon, Jane M Tholt...</td>\n",
       "      <td></td>\n",
       "      <td></td>\n",
       "      <td>\\Phillip_Allen_Dec2000\\Notes Folders\\All docum...</td>\n",
       "      <td>Allen-P</td>\n",
       "      <td>pallen.nsf</td>\n",
       "    </tr>\n",
       "  </tbody>\n",
       "</table>\n",
       "</div>"
      ],
      "text/plain": [
       "                            0  \\\n",
       "0                  Message-ID   \n",
       "1                        Date   \n",
       "2                        From   \n",
       "3                          To   \n",
       "4                     Subject   \n",
       "5                Mime-Version   \n",
       "6                Content-Type   \n",
       "7   Content-Transfer-Encoding   \n",
       "8                      X-From   \n",
       "9                        X-To   \n",
       "10                       X-cc   \n",
       "11                      X-bcc   \n",
       "12                   X-Folder   \n",
       "13                   X-Origin   \n",
       "14                 X-FileName   \n",
       "\n",
       "                                                    1  \\\n",
       "0       <29790972.1075855665306.JavaMail.evans@thyme>   \n",
       "1               Wed, 13 Dec 2000 18:41:00 -0800 (PST)   \n",
       "2             1.11913372.-2@multexinvestornetwork.com   \n",
       "3                                    pallen@enron.com   \n",
       "4   December 14, 2000 - Bear Stearns' predictions ...   \n",
       "5                                                 1.0   \n",
       "6                        text/plain; charset=us-ascii   \n",
       "7                                                7bit   \n",
       "8   Multex Investor <1.11913372.-2@multexinvestorn...   \n",
       "9                                  <pallen@enron.com>   \n",
       "10                                                      \n",
       "11                                                      \n",
       "12  \\Phillip_Allen_Dec2000\\Notes Folders\\All docum...   \n",
       "13                                            Allen-P   \n",
       "14                                         pallen.nsf   \n",
       "\n",
       "                                       Message-ID  \\\n",
       "0   <29403111.1075855665483.JavaMail.evans@thyme>   \n",
       "1   <29403111.1075855665483.JavaMail.evans@thyme>   \n",
       "2   <29403111.1075855665483.JavaMail.evans@thyme>   \n",
       "3   <29403111.1075855665483.JavaMail.evans@thyme>   \n",
       "4   <29403111.1075855665483.JavaMail.evans@thyme>   \n",
       "5   <29403111.1075855665483.JavaMail.evans@thyme>   \n",
       "6   <29403111.1075855665483.JavaMail.evans@thyme>   \n",
       "7   <29403111.1075855665483.JavaMail.evans@thyme>   \n",
       "8   <29403111.1075855665483.JavaMail.evans@thyme>   \n",
       "9   <29403111.1075855665483.JavaMail.evans@thyme>   \n",
       "10  <29403111.1075855665483.JavaMail.evans@thyme>   \n",
       "11  <29403111.1075855665483.JavaMail.evans@thyme>   \n",
       "12  <29403111.1075855665483.JavaMail.evans@thyme>   \n",
       "13  <29403111.1075855665483.JavaMail.evans@thyme>   \n",
       "14  <29403111.1075855665483.JavaMail.evans@thyme>   \n",
       "\n",
       "                                     Date                        From  \\\n",
       "0   Wed, 13 Dec 2000 08:22:00 -0800 (PST)  rebecca.cantrell@enron.com   \n",
       "1   Wed, 13 Dec 2000 08:22:00 -0800 (PST)  rebecca.cantrell@enron.com   \n",
       "2   Wed, 13 Dec 2000 08:22:00 -0800 (PST)  rebecca.cantrell@enron.com   \n",
       "3   Wed, 13 Dec 2000 08:22:00 -0800 (PST)  rebecca.cantrell@enron.com   \n",
       "4   Wed, 13 Dec 2000 08:22:00 -0800 (PST)  rebecca.cantrell@enron.com   \n",
       "5   Wed, 13 Dec 2000 08:22:00 -0800 (PST)  rebecca.cantrell@enron.com   \n",
       "6   Wed, 13 Dec 2000 08:22:00 -0800 (PST)  rebecca.cantrell@enron.com   \n",
       "7   Wed, 13 Dec 2000 08:22:00 -0800 (PST)  rebecca.cantrell@enron.com   \n",
       "8   Wed, 13 Dec 2000 08:22:00 -0800 (PST)  rebecca.cantrell@enron.com   \n",
       "9   Wed, 13 Dec 2000 08:22:00 -0800 (PST)  rebecca.cantrell@enron.com   \n",
       "10  Wed, 13 Dec 2000 08:22:00 -0800 (PST)  rebecca.cantrell@enron.com   \n",
       "11  Wed, 13 Dec 2000 08:22:00 -0800 (PST)  rebecca.cantrell@enron.com   \n",
       "12  Wed, 13 Dec 2000 08:22:00 -0800 (PST)  rebecca.cantrell@enron.com   \n",
       "13  Wed, 13 Dec 2000 08:22:00 -0800 (PST)  rebecca.cantrell@enron.com   \n",
       "14  Wed, 13 Dec 2000 08:22:00 -0800 (PST)  rebecca.cantrell@enron.com   \n",
       "\n",
       "                                                   To  \\\n",
       "0   stephanie.miller@enron.com, ruth.concannon@enr...   \n",
       "1   stephanie.miller@enron.com, ruth.concannon@enr...   \n",
       "2   stephanie.miller@enron.com, ruth.concannon@enr...   \n",
       "3   stephanie.miller@enron.com, ruth.concannon@enr...   \n",
       "4   stephanie.miller@enron.com, ruth.concannon@enr...   \n",
       "5   stephanie.miller@enron.com, ruth.concannon@enr...   \n",
       "6   stephanie.miller@enron.com, ruth.concannon@enr...   \n",
       "7   stephanie.miller@enron.com, ruth.concannon@enr...   \n",
       "8   stephanie.miller@enron.com, ruth.concannon@enr...   \n",
       "9   stephanie.miller@enron.com, ruth.concannon@enr...   \n",
       "10  stephanie.miller@enron.com, ruth.concannon@enr...   \n",
       "11  stephanie.miller@enron.com, ruth.concannon@enr...   \n",
       "12  stephanie.miller@enron.com, ruth.concannon@enr...   \n",
       "13  stephanie.miller@enron.com, ruth.concannon@enr...   \n",
       "14  stephanie.miller@enron.com, ruth.concannon@enr...   \n",
       "\n",
       "                                  Subject Mime-Version  \\\n",
       "0   Final Filed Version -- SDG&E Comments          1.0   \n",
       "1   Final Filed Version -- SDG&E Comments          1.0   \n",
       "2   Final Filed Version -- SDG&E Comments          1.0   \n",
       "3   Final Filed Version -- SDG&E Comments          1.0   \n",
       "4   Final Filed Version -- SDG&E Comments          1.0   \n",
       "5   Final Filed Version -- SDG&E Comments          1.0   \n",
       "6   Final Filed Version -- SDG&E Comments          1.0   \n",
       "7   Final Filed Version -- SDG&E Comments          1.0   \n",
       "8   Final Filed Version -- SDG&E Comments          1.0   \n",
       "9   Final Filed Version -- SDG&E Comments          1.0   \n",
       "10  Final Filed Version -- SDG&E Comments          1.0   \n",
       "11  Final Filed Version -- SDG&E Comments          1.0   \n",
       "12  Final Filed Version -- SDG&E Comments          1.0   \n",
       "13  Final Filed Version -- SDG&E Comments          1.0   \n",
       "14  Final Filed Version -- SDG&E Comments          1.0   \n",
       "\n",
       "                    Content-Type Content-Transfer-Encoding  \\\n",
       "0   text/plain; charset=us-ascii                      7bit   \n",
       "1   text/plain; charset=us-ascii                      7bit   \n",
       "2   text/plain; charset=us-ascii                      7bit   \n",
       "3   text/plain; charset=us-ascii                      7bit   \n",
       "4   text/plain; charset=us-ascii                      7bit   \n",
       "5   text/plain; charset=us-ascii                      7bit   \n",
       "6   text/plain; charset=us-ascii                      7bit   \n",
       "7   text/plain; charset=us-ascii                      7bit   \n",
       "8   text/plain; charset=us-ascii                      7bit   \n",
       "9   text/plain; charset=us-ascii                      7bit   \n",
       "10  text/plain; charset=us-ascii                      7bit   \n",
       "11  text/plain; charset=us-ascii                      7bit   \n",
       "12  text/plain; charset=us-ascii                      7bit   \n",
       "13  text/plain; charset=us-ascii                      7bit   \n",
       "14  text/plain; charset=us-ascii                      7bit   \n",
       "\n",
       "                X-From                                               X-To  \\\n",
       "0   Rebecca W Cantrell  Stephanie Miller, Ruth Concannon, Jane M Tholt...   \n",
       "1   Rebecca W Cantrell  Stephanie Miller, Ruth Concannon, Jane M Tholt...   \n",
       "2   Rebecca W Cantrell  Stephanie Miller, Ruth Concannon, Jane M Tholt...   \n",
       "3   Rebecca W Cantrell  Stephanie Miller, Ruth Concannon, Jane M Tholt...   \n",
       "4   Rebecca W Cantrell  Stephanie Miller, Ruth Concannon, Jane M Tholt...   \n",
       "5   Rebecca W Cantrell  Stephanie Miller, Ruth Concannon, Jane M Tholt...   \n",
       "6   Rebecca W Cantrell  Stephanie Miller, Ruth Concannon, Jane M Tholt...   \n",
       "7   Rebecca W Cantrell  Stephanie Miller, Ruth Concannon, Jane M Tholt...   \n",
       "8   Rebecca W Cantrell  Stephanie Miller, Ruth Concannon, Jane M Tholt...   \n",
       "9   Rebecca W Cantrell  Stephanie Miller, Ruth Concannon, Jane M Tholt...   \n",
       "10  Rebecca W Cantrell  Stephanie Miller, Ruth Concannon, Jane M Tholt...   \n",
       "11  Rebecca W Cantrell  Stephanie Miller, Ruth Concannon, Jane M Tholt...   \n",
       "12  Rebecca W Cantrell  Stephanie Miller, Ruth Concannon, Jane M Tholt...   \n",
       "13  Rebecca W Cantrell  Stephanie Miller, Ruth Concannon, Jane M Tholt...   \n",
       "14  Rebecca W Cantrell  Stephanie Miller, Ruth Concannon, Jane M Tholt...   \n",
       "\n",
       "   X-cc X-bcc                                           X-Folder X-Origin  \\\n",
       "0              \\Phillip_Allen_Dec2000\\Notes Folders\\All docum...  Allen-P   \n",
       "1              \\Phillip_Allen_Dec2000\\Notes Folders\\All docum...  Allen-P   \n",
       "2              \\Phillip_Allen_Dec2000\\Notes Folders\\All docum...  Allen-P   \n",
       "3              \\Phillip_Allen_Dec2000\\Notes Folders\\All docum...  Allen-P   \n",
       "4              \\Phillip_Allen_Dec2000\\Notes Folders\\All docum...  Allen-P   \n",
       "5              \\Phillip_Allen_Dec2000\\Notes Folders\\All docum...  Allen-P   \n",
       "6              \\Phillip_Allen_Dec2000\\Notes Folders\\All docum...  Allen-P   \n",
       "7              \\Phillip_Allen_Dec2000\\Notes Folders\\All docum...  Allen-P   \n",
       "8              \\Phillip_Allen_Dec2000\\Notes Folders\\All docum...  Allen-P   \n",
       "9              \\Phillip_Allen_Dec2000\\Notes Folders\\All docum...  Allen-P   \n",
       "10             \\Phillip_Allen_Dec2000\\Notes Folders\\All docum...  Allen-P   \n",
       "11             \\Phillip_Allen_Dec2000\\Notes Folders\\All docum...  Allen-P   \n",
       "12             \\Phillip_Allen_Dec2000\\Notes Folders\\All docum...  Allen-P   \n",
       "13             \\Phillip_Allen_Dec2000\\Notes Folders\\All docum...  Allen-P   \n",
       "14             \\Phillip_Allen_Dec2000\\Notes Folders\\All docum...  Allen-P   \n",
       "\n",
       "    X-FileName  \n",
       "0   pallen.nsf  \n",
       "1   pallen.nsf  \n",
       "2   pallen.nsf  \n",
       "3   pallen.nsf  \n",
       "4   pallen.nsf  \n",
       "5   pallen.nsf  \n",
       "6   pallen.nsf  \n",
       "7   pallen.nsf  \n",
       "8   pallen.nsf  \n",
       "9   pallen.nsf  \n",
       "10  pallen.nsf  \n",
       "11  pallen.nsf  \n",
       "12  pallen.nsf  \n",
       "13  pallen.nsf  \n",
       "14  pallen.nsf  "
      ]
     },
     "execution_count": 75,
     "metadata": {},
     "output_type": "execute_result"
    }
   ],
   "source": [
    "sample = readEmailHead('allen-p', i, corpus_root=cr)\n",
    "email_df = pd.DataFrame(list(sample.items()))\n",
    "#i = 1\n",
    "#while(i < 10):\n",
    "#    x = readEmailHead('allen-p', i, corpus_root=cr)\n",
    "#    i += 1\n",
    "for item in x.items():\n",
    "    email_df[item[0]] = item[1]\n",
    "    item\n",
    "email_df"
   ]
  },
  {
   "cell_type": "code",
   "execution_count": null,
   "metadata": {},
   "outputs": [],
   "source": []
  }
 ],
 "metadata": {
  "kernelspec": {
   "display_name": "Python 3",
   "language": "python",
   "name": "python3"
  },
  "language_info": {
   "codemirror_mode": {
    "name": "ipython",
    "version": 3
   },
   "file_extension": ".py",
   "mimetype": "text/x-python",
   "name": "python",
   "nbconvert_exporter": "python",
   "pygments_lexer": "ipython3",
   "version": "3.7.4"
  }
 },
 "nbformat": 4,
 "nbformat_minor": 2
}
