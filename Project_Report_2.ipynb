{
 "cells": [
  {
   "cell_type": "markdown",
   "metadata": {},
   "source": [
    "# Project Report II: Data Cleaning and Exploratory Data Analysis\n",
    "___\n",
    "**Brief:**<br>\n",
    "In this report, I'm going to finish the data cleaning and organization needed for my project, and then move on to exploratory data analysis. Lets pick up where we left off last time.\n",
    "\n",
    "**Sections:**<br>\n",
    "1. [Data Cleaning: Reading In An Email](#reading_email)\n",
    "    - [Imports, Choosing A File, Reading In](#re_1)\n",
    "    - [Appending Blanks Together](#re_2)\n",
    "    - [readEmail Function](#re_3)\n",
    "    - [Test Cases](#re_4)\n",
    "___"
   ]
  },
  {
   "cell_type": "markdown",
   "metadata": {},
   "source": [
    "## Reading In An Email\n",
    "In this section, we'll be picking up where we left off in the last report."
   ]
  },
  {
   "cell_type": "markdown",
   "metadata": {},
   "source": [
    "<a id='re_1'>"
   ]
  },
  {
   "cell_type": "markdown",
   "metadata": {},
   "source": [
    "***Imports, Choosing A File, Reading In***<br>\n",
    "This is all stuff from the previous report."
   ]
  },
  {
   "cell_type": "code",
   "execution_count": 5,
   "metadata": {},
   "outputs": [],
   "source": [
    "from IPython.core.interactiveshell import InteractiveShell\n",
    "InteractiveShell.ast_node_interactivity = \"all\"\n",
    "import nltk\n",
    "from nltk.corpus import PlaintextCorpusReader as cr\n",
    "import pandas as pd\n",
    "import numpy as np"
   ]
  },
  {
   "cell_type": "code",
   "execution_count": 6,
   "metadata": {},
   "outputs": [
    {
     "name": "stdout",
     "output_type": "stream",
     "text": [
      "628\n"
     ]
    }
   ],
   "source": [
    "corpus_root = '../../../../../Enron_Emails/maildir/'\n",
    "all_allen_p = 'allen-p/all_documents'\n",
    "all_files = cr(corpus_root + all_allen_p, \".*\")\n",
    "print(len(all_files.fileids()))"
   ]
  },
  {
   "cell_type": "code",
   "execution_count": 7,
   "metadata": {},
   "outputs": [],
   "source": [
    "text = \"\"\n",
    "file = open(corpus_root + all_allen_p + \"/1\")\n",
    "for line in file:\n",
    "    text += line\n",
    "file.close()\n",
    "email = text.split('\\n')"
   ]
  },
  {
   "cell_type": "code",
   "execution_count": 10,
   "metadata": {},
   "outputs": [
    {
     "data": {
      "text/plain": [
       "['Message-ID: <29790972.1075855665306.JavaMail.evans@thyme>',\n",
       " 'Date: Wed, 13 Dec 2000 18:41:00 -0800 (PST)',\n",
       " 'From: 1.11913372.-2@multexinvestornetwork.com',\n",
       " 'To: pallen@enron.com',\n",
       " \"Subject: December 14, 2000 - Bear Stearns' predictions for telecom in Latin America\",\n",
       " 'Mime-Version: 1.0',\n",
       " 'Content-Type: text/plain; charset=us-ascii',\n",
       " 'Content-Transfer-Encoding: 7bit',\n",
       " 'X-From: Multex Investor <1.11913372.-2@multexinvestornetwork.com>',\n",
       " 'X-To: <pallen@enron.com>',\n",
       " 'X-cc: ',\n",
       " 'X-bcc: ',\n",
       " 'X-Folder: \\\\Phillip_Allen_Dec2000\\\\Notes Folders\\\\All documents',\n",
       " 'X-Origin: Allen-P',\n",
       " 'X-FileName: pallen.nsf']"
      ]
     },
     "execution_count": 10,
     "metadata": {},
     "output_type": "execute_result"
    }
   ],
   "source": [
    "email[:20]"
   ]
  },
  {
   "cell_type": "markdown",
   "metadata": {},
   "source": [
    "*Note:* We know that the first 15 or so lines at the beginning of every email are the same. It's biographical information that we can use as features in future machine learning algorithms. What's the problem? Well, when there is a long line, this disrupts the number of line pattern we could be using (look under *Subject*). Lets see if we can solve this in the next section."
   ]
  },
  {
   "cell_type": "markdown",
   "metadata": {},
   "source": [
    "<a id='re_2'>"
   ]
  },
  {
   "cell_type": "markdown",
   "metadata": {},
   "source": [
    "***Appending Blanks Together***<br>\n",
    "So, the problem we ran into last time. Lets see if a simple \"add and delete\" works."
   ]
  },
  {
   "cell_type": "code",
   "execution_count": 11,
   "metadata": {},
   "outputs": [
    {
     "data": {
      "text/plain": [
       "['Message-ID: <29790972.1075855665306.JavaMail.evans@thyme>',\n",
       " 'Date: Wed, 13 Dec 2000 18:41:00 -0800 (PST)',\n",
       " 'From: 1.11913372.-2@multexinvestornetwork.com',\n",
       " 'To: pallen@enron.com',\n",
       " \"Subject: December 14, 2000 - Bear Stearns' predictions for telecom in Latin America\",\n",
       " 'Mime-Version: 1.0',\n",
       " 'Content-Type: text/plain; charset=us-ascii',\n",
       " 'Content-Transfer-Encoding: 7bit',\n",
       " 'X-From: Multex Investor <1.11913372.-2@multexinvestornetwork.com>',\n",
       " 'X-To: <pallen@enron.com>',\n",
       " 'X-cc: ',\n",
       " 'X-bcc: ',\n",
       " 'X-Folder: \\\\Phillip_Allen_Dec2000\\\\Notes Folders\\\\All documents',\n",
       " 'X-Origin: Allen-P',\n",
       " 'X-FileName: pallen.nsf',\n",
       " '',\n",
       " \"In today's Daily Update you'll find free reports on\",\n",
       " 'America Online (AOL), Divine Interventures (DVIN),',\n",
       " 'and 3M (MMM); reports on the broadband space, Latin',\n",
       " 'American telecom, and more.']"
      ]
     },
     "execution_count": 11,
     "metadata": {},
     "output_type": "execute_result"
    }
   ],
   "source": [
    "count = 0\n",
    "for line in email:\n",
    "    if line == '':\n",
    "        pass\n",
    "    else:\n",
    "        if line[0].isspace():\n",
    "            email[count-1] += line\n",
    "            del email[count]\n",
    "            print(count)\n",
    "    count += 1\n",
    "email[:20]"
   ]
  },
  {
   "cell_type": "markdown",
   "metadata": {},
   "source": [
    "*Note*: Great! Now we need to examine the test cases. To do this, we're going to need a more code-efficient way of reading in emails. Lets make a function."
   ]
  },
  {
   "cell_type": "markdown",
   "metadata": {},
   "source": [
    "<a id='re_3'>"
   ]
  },
  {
   "cell_type": "markdown",
   "metadata": {},
   "source": [
    "***readEmail Function***"
   ]
  },
  {
   "cell_type": "code",
   "execution_count": 34,
   "metadata": {},
   "outputs": [],
   "source": [
    "def readEmailHead(username, emailNum):\n",
    "    text = \"\"\n",
    "    file = open(corpus_root + username + '/all_documents/' + emailNum)\n",
    "    for line in file:\n",
    "        text += line\n",
    "    file.close()\n",
    "    email = text.split('\\n')\n",
    "    \n",
    "    count = 0\n",
    "    for line in email:\n",
    "        if line == '':\n",
    "            pass\n",
    "        else:\n",
    "            if line[0].isspace():\n",
    "                email[count-1] += line\n",
    "                del email[count]\n",
    "                print(count)\n",
    "        count += 1\n",
    "    return [email[:20]]"
   ]
  },
  {
   "cell_type": "code",
   "execution_count": 33,
   "metadata": {},
   "outputs": [
    {
     "name": "stdout",
     "output_type": "stream",
     "text": [
      "24\n",
      "26\n",
      "28\n",
      "43\n"
     ]
    },
    {
     "data": {
      "text/plain": [
       "[['Message-ID: <17175692.1075855665350.JavaMail.evans@thyme>',\n",
       "  'Date: Wed, 13 Dec 2000 13:28:00 -0800 (PST)',\n",
       "  'From: subscriptions@intelligencepress.com',\n",
       "  'To: pallen@enron.com',\n",
       "  'Subject: NGI Publications - Thursday, 14 December 2000',\n",
       "  'Mime-Version: 1.0',\n",
       "  'Content-Type: text/plain; charset=us-ascii',\n",
       "  'Content-Transfer-Encoding: 7bit',\n",
       "  'X-From: subscriptions@intelligencepress.com',\n",
       "  'X-To: pallen@enron.com',\n",
       "  'X-cc: ',\n",
       "  'X-bcc: ',\n",
       "  'X-Folder: \\\\Phillip_Allen_Dec2000\\\\Notes Folders\\\\All documents',\n",
       "  'X-Origin: Allen-P',\n",
       "  'X-FileName: pallen.nsf',\n",
       "  '',\n",
       "  'Dear phillip,',\n",
       "  '',\n",
       "  '',\n",
       "  'This e-mail is automated notification of the availability of your']]"
      ]
     },
     "execution_count": 33,
     "metadata": {},
     "output_type": "execute_result"
    }
   ],
   "source": [
    "readEmailHead(r'allen-p', r'3')"
   ]
  },
  {
   "cell_type": "markdown",
   "metadata": {},
   "source": [
    "*Note:* This function works great! Now we need to try test cases and see how we do."
   ]
  },
  {
   "cell_type": "markdown",
   "metadata": {},
   "source": [
    "<a id='re_4'>"
   ]
  },
  {
   "cell_type": "markdown",
   "metadata": {},
   "source": [
    "***Test Cases***"
   ]
  },
  {
   "cell_type": "code",
   "execution_count": 36,
   "metadata": {
    "scrolled": true
   },
   "outputs": [
    {
     "name": "stdout",
     "output_type": "stream",
     "text": [
      "4\n",
      "5\n",
      "34\n"
     ]
    },
    {
     "data": {
      "text/plain": [
       "[['Message-ID: <29403111.1075855665483.JavaMail.evans@thyme>',\n",
       "  'Date: Wed, 13 Dec 2000 08:22:00 -0800 (PST)',\n",
       "  'From: rebecca.cantrell@enron.com',\n",
       "  'To: stephanie.miller@enron.com, ruth.concannon@enron.com, jane.tholt@enron.com, \\ttori.kuykendall@enron.com, randall.gay@enron.com, ',\n",
       "  '\\tphillip.allen@enron.com, timothy.hamilton@enron.com, \\trobert.superty@enron.com, colleen.sullivan@enron.com, ',\n",
       "  '\\tdonna.greif@enron.com, julie.gomez@enron.com',\n",
       "  'Subject: Final Filed Version -- SDG&E Comments',\n",
       "  'Mime-Version: 1.0',\n",
       "  'Content-Type: text/plain; charset=us-ascii',\n",
       "  'Content-Transfer-Encoding: 7bit',\n",
       "  'X-From: Rebecca W Cantrell',\n",
       "  'X-To: Stephanie Miller, Ruth Concannon, Jane M Tholt, Tori Kuykendall, Randall L Gay, Phillip K Allen, Timothy J Hamilton, Robert Superty, Colleen Sullivan, Donna Greif, Julie A Gomez',\n",
       "  'X-cc: ',\n",
       "  'X-bcc: ',\n",
       "  'X-Folder: \\\\Phillip_Allen_Dec2000\\\\Notes Folders\\\\All documents',\n",
       "  'X-Origin: Allen-P',\n",
       "  'X-FileName: pallen.nsf',\n",
       "  '',\n",
       "  'FYI.',\n",
       "  '---------------------- Forwarded by Rebecca W Cantrell/HOU/ECT on 12/13/2000 ']]"
      ]
     },
     "execution_count": 36,
     "metadata": {},
     "output_type": "execute_result"
    }
   ],
   "source": [
    "readEmailHead(r'allen-p', r'9')"
   ]
  },
  {
   "cell_type": "markdown",
   "metadata": {},
   "source": [
    "*Note:* So here's a test case I entirely expected. While our function handled spillover to *one* extra line well, it classified this email's *to* line as three separate lines. Time to re-engineer our function."
   ]
  },
  {
   "cell_type": "code",
   "execution_count": 91,
   "metadata": {},
   "outputs": [],
   "source": [
    "def readEmailHead(username, emailNum):\n",
    "    text = \"\"\n",
    "    file = open(corpus_root + username + '/all_documents/' + emailNum)\n",
    "    for line in file:\n",
    "        text += line\n",
    "    file.close()\n",
    "    email = text.split('\\n')\n",
    "    \n",
    "    count = 0\n",
    "    for line in email:\n",
    "        if line == '':\n",
    "            pass\n",
    "        else:\n",
    "            if line[0].isspace():\n",
    "                email[count-1] += line\n",
    "                del email[count]\n",
    "                print(count,\"0\")\n",
    "        count += 1\n",
    "    return [email[:20]]"
   ]
  },
  {
   "cell_type": "code",
   "execution_count": 92,
   "metadata": {},
   "outputs": [
    {
     "name": "stdout",
     "output_type": "stream",
     "text": [
      "4 0\n",
      "5 0\n",
      "34 0\n"
     ]
    },
    {
     "data": {
      "text/plain": [
       "[['Message-ID: <29403111.1075855665483.JavaMail.evans@thyme>',\n",
       "  'Date: Wed, 13 Dec 2000 08:22:00 -0800 (PST)',\n",
       "  'From: rebecca.cantrell@enron.com',\n",
       "  'To: stephanie.miller@enron.com, ruth.concannon@enron.com, jane.tholt@enron.com, \\ttori.kuykendall@enron.com, randall.gay@enron.com, ',\n",
       "  '\\tphillip.allen@enron.com, timothy.hamilton@enron.com, \\trobert.superty@enron.com, colleen.sullivan@enron.com, ',\n",
       "  '\\tdonna.greif@enron.com, julie.gomez@enron.com',\n",
       "  'Subject: Final Filed Version -- SDG&E Comments',\n",
       "  'Mime-Version: 1.0',\n",
       "  'Content-Type: text/plain; charset=us-ascii',\n",
       "  'Content-Transfer-Encoding: 7bit',\n",
       "  'X-From: Rebecca W Cantrell',\n",
       "  'X-To: Stephanie Miller, Ruth Concannon, Jane M Tholt, Tori Kuykendall, Randall L Gay, Phillip K Allen, Timothy J Hamilton, Robert Superty, Colleen Sullivan, Donna Greif, Julie A Gomez',\n",
       "  'X-cc: ',\n",
       "  'X-bcc: ',\n",
       "  'X-Folder: \\\\Phillip_Allen_Dec2000\\\\Notes Folders\\\\All documents',\n",
       "  'X-Origin: Allen-P',\n",
       "  'X-FileName: pallen.nsf',\n",
       "  '',\n",
       "  'FYI.',\n",
       "  '---------------------- Forwarded by Rebecca W Cantrell/HOU/ECT on 12/13/2000 ']]"
      ]
     },
     "execution_count": 92,
     "metadata": {},
     "output_type": "execute_result"
    }
   ],
   "source": [
    "readEmailHead(r'allen-p', r'9')"
   ]
  },
  {
   "cell_type": "markdown",
   "metadata": {},
   "source": [
    "if line[0].isspace():<br>\n",
    "Can you spot the problem? It had to do with what I'm checking for the whitespace in. Sometimes, whitespace is generated by *two* character expressions--in this case, /t. We need to find a way to include '\\t' in this condition."
   ]
  },
  {
   "cell_type": "code",
   "execution_count": 87,
   "metadata": {},
   "outputs": [],
   "source": [
    "def readEmailHead(username, emailNum):\n",
    "    text = \"\"\n",
    "    file = open(corpus_root + username + '/all_documents/' + emailNum)\n",
    "    for line in file:\n",
    "        text += line\n",
    "    file.close()\n",
    "    email = text.split('\\n')\n",
    "    count = 0\n",
    "    for line in email:\n",
    "        mem = []\n",
    "        if line == '':\n",
    "            pass\n",
    "        else:\n",
    "            if line[0].isspace():\n",
    "                print(line,count)\n",
    "                email[count-1] += line\n",
    "                del email[count]\n",
    "        count += 1\n",
    "    return [email[:20]]"
   ]
  },
  {
   "cell_type": "code",
   "execution_count": 89,
   "metadata": {},
   "outputs": [
    {
     "name": "stdout",
     "output_type": "stream",
     "text": [
      "\ttori.kuykendall@enron.com, randall.gay@enron.com,  4\n",
      "\trobert.superty@enron.com, colleen.sullivan@enron.com,  5\n",
      " - SANDIEGO.DOC 34\n"
     ]
    },
    {
     "data": {
      "text/plain": [
       "[['Message-ID: <29403111.1075855665483.JavaMail.evans@thyme>',\n",
       "  'Date: Wed, 13 Dec 2000 08:22:00 -0800 (PST)',\n",
       "  'From: rebecca.cantrell@enron.com',\n",
       "  'To: stephanie.miller@enron.com, ruth.concannon@enron.com, jane.tholt@enron.com, \\ttori.kuykendall@enron.com, randall.gay@enron.com, ',\n",
       "  '\\tphillip.allen@enron.com, timothy.hamilton@enron.com, \\trobert.superty@enron.com, colleen.sullivan@enron.com, ',\n",
       "  '\\tdonna.greif@enron.com, julie.gomez@enron.com',\n",
       "  'Subject: Final Filed Version -- SDG&E Comments',\n",
       "  'Mime-Version: 1.0',\n",
       "  'Content-Type: text/plain; charset=us-ascii',\n",
       "  'Content-Transfer-Encoding: 7bit',\n",
       "  'X-From: Rebecca W Cantrell',\n",
       "  'X-To: Stephanie Miller, Ruth Concannon, Jane M Tholt, Tori Kuykendall, Randall L Gay, Phillip K Allen, Timothy J Hamilton, Robert Superty, Colleen Sullivan, Donna Greif, Julie A Gomez',\n",
       "  'X-cc: ',\n",
       "  'X-bcc: ',\n",
       "  'X-Folder: \\\\Phillip_Allen_Dec2000\\\\Notes Folders\\\\All documents',\n",
       "  'X-Origin: Allen-P',\n",
       "  'X-FileName: pallen.nsf',\n",
       "  '',\n",
       "  'FYI.',\n",
       "  '---------------------- Forwarded by Rebecca W Cantrell/HOU/ECT on 12/13/2000 ']]"
      ]
     },
     "execution_count": 89,
     "metadata": {},
     "output_type": "execute_result"
    }
   ],
   "source": [
    "readEmailHead(r'allen-p', r'9')"
   ]
  },
  {
   "cell_type": "code",
   "execution_count": 90,
   "metadata": {},
   "outputs": [],
   "source": [
    "foo = '\\tphillip.allen@enron.com'"
   ]
  },
  {
   "cell_type": "code",
   "execution_count": 76,
   "metadata": {},
   "outputs": [
    {
     "data": {
      "text/plain": [
       "'\\t'"
      ]
     },
     "execution_count": 76,
     "metadata": {},
     "output_type": "execute_result"
    },
    {
     "data": {
      "text/plain": [
       "True"
      ]
     },
     "execution_count": 76,
     "metadata": {},
     "output_type": "execute_result"
    }
   ],
   "source": [
    "foo[0]\n",
    "foo[0].isspace()"
   ]
  },
  {
   "cell_type": "markdown",
   "metadata": {},
   "source": [
    "*Note:* Okay, so my previous hypothesis is wrong. It recognizes tabs, just not *more than one line*. "
   ]
  }
 ],
 "metadata": {
  "kernelspec": {
   "display_name": "Python 3",
   "language": "python",
   "name": "python3"
  },
  "language_info": {
   "codemirror_mode": {
    "name": "ipython",
    "version": 3
   },
   "file_extension": ".py",
   "mimetype": "text/x-python",
   "name": "python",
   "nbconvert_exporter": "python",
   "pygments_lexer": "ipython3",
   "version": "3.7.4"
  }
 },
 "nbformat": 4,
 "nbformat_minor": 2
}
